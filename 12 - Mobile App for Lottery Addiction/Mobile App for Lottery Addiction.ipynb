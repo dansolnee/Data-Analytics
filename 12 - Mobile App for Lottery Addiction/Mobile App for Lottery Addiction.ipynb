{
 "cells": [
  {
   "cell_type": "markdown",
   "metadata": {},
   "source": [
    "# Mobile App for Lottery Addiction\n",
    "\n",
    "In this fictional scenario, a medical institute that aims to prevent and treat gambling addictions wants to build a dedicated mobile app to help lottery addicts better estimate their chances of winning. The institute has a team of engineers that will build the app, but they need us to create the logical core of the app and calculate probabilities.\n",
    "\n",
    "For the first version of the app, they want us to focus on the 6/49 lottery and build functions that enable users to answer questions like:\n",
    "\n",
    "* What is the probability of winning the big prize with a single ticket?\n",
    "* What is the probability of winning the big prize if we play 40 different tickets (or any other number)?\n",
    "* What is the probability of having at least five (or four, or three, or two) winning numbers on a single ticket?\n",
    "\n",
    "For this project, we will be using the [data set](https://www.kaggle.com/datascienceai/lottery-dataset) from Kaggle for drawings from 1982 to 2018."
   ]
  },
  {
   "cell_type": "markdown",
   "metadata": {},
   "source": [
    "## One-ticket Probability\n",
    "\n",
    "For the first version of the app, we want players to be able to calculate the probability of winning the big prize with the various numbers they play on a single ticket (for each ticket a player chooses six numbers out of 49). So, we'll start by building a function that calculates the probability of winning the big prize for any given ticket."
   ]
  },
  {
   "cell_type": "code",
   "execution_count": 1,
   "metadata": {},
   "outputs": [],
   "source": [
    "import math as m  # We will be using m.factorial()\n",
    "\n",
    "def comb(n: int, k: int) -> int:\n",
    "    '''\n",
    "    Uses the combination formula and returns the number of combinations\n",
    "    '''\n",
    "    return (m.factorial(n)/(m.factorial(k)*m.factorial(n-k)))\n",
    "\n",
    "def one_ticket_probability(numbers: list[int]) -> None:\n",
    "    '''\n",
    "    Takes a list of 6 integers\n",
    "    \n",
    "    Prints the probability of winning in percentage format as well as the odds\n",
    "    '''\n",
    "    n_comb = comb(49,6)\n",
    "    probability = 1/n_comb #49 possible numbers and 6 sampled without replacement\n",
    "    print('''Your chances to win the big prize with the numbers {} are {:.7f}%.\n",
    "In other words, you have a 1 in {:,} chances to win.'''.format(numbers,\n",
    "                    probability*100, int(n_comb)))"
   ]
  },
  {
   "cell_type": "code",
   "execution_count": 2,
   "metadata": {},
   "outputs": [
    {
     "name": "stdout",
     "output_type": "stream",
     "text": [
      "Your chances to win the big prize with the numbers [1, 2, 3, 4, 5, 6] are 0.0000072%.\n",
      "In other words, you have a 1 in 13,983,816 chances to win.\n"
     ]
    }
   ],
   "source": [
    "one_ticket_probability([1,2,3,4,5,6])"
   ]
  },
  {
   "cell_type": "markdown",
   "metadata": {},
   "source": [
    "## Historical Data Check for Canada Lottery\n",
    "\n",
    "On the previous screen, we wrote a function that can tell users what is the probability of winning the big prize with a single ticket. For the first version of the app, however, users should also be able to compare their ticket against the historical lottery data in Canada and determine whether they would have ever won by now."
   ]
  },
  {
   "cell_type": "code",
   "execution_count": 3,
   "metadata": {},
   "outputs": [
    {
     "name": "stdout",
     "output_type": "stream",
     "text": [
      "The (row, column) count is: (3665, 11)\n"
     ]
    }
   ],
   "source": [
    "import pandas as pd\n",
    "\n",
    "lottery = pd.read_csv('649.csv')\n",
    "print('The (row, column) count is: ' + str(lottery.shape))"
   ]
  },
  {
   "cell_type": "code",
   "execution_count": 4,
   "metadata": {},
   "outputs": [
    {
     "name": "stdout",
     "output_type": "stream",
     "text": [
      "   PRODUCT  DRAW NUMBER  SEQUENCE NUMBER  DRAW DATE  NUMBER DRAWN 1  \\\n",
      "0      649            1                0  6/12/1982               3   \n",
      "\n",
      "   NUMBER DRAWN 2  NUMBER DRAWN 3  NUMBER DRAWN 4  NUMBER DRAWN 5  \\\n",
      "0              11              12              14              41   \n",
      "\n",
      "   NUMBER DRAWN 6  BONUS NUMBER  \n",
      "0              43            13  \n"
     ]
    }
   ],
   "source": [
    "print(lottery.head(1))"
   ]
  },
  {
   "cell_type": "code",
   "execution_count": 5,
   "metadata": {},
   "outputs": [
    {
     "name": "stdout",
     "output_type": "stream",
     "text": [
      "      PRODUCT  DRAW NUMBER  SEQUENCE NUMBER  DRAW DATE  NUMBER DRAWN 1  \\\n",
      "3662      649         3589                0  6/13/2018               6   \n",
      "3663      649         3590                0  6/16/2018               2   \n",
      "3664      649         3591                0  6/20/2018              14   \n",
      "\n",
      "      NUMBER DRAWN 2  NUMBER DRAWN 3  NUMBER DRAWN 4  NUMBER DRAWN 5  \\\n",
      "3662              22              24              31              32   \n",
      "3663              15              21              31              38   \n",
      "3664              24              31              35              37   \n",
      "\n",
      "      NUMBER DRAWN 6  BONUS NUMBER  \n",
      "3662              34            16  \n",
      "3663              49             8  \n",
      "3664              48            17  \n"
     ]
    }
   ],
   "source": [
    "print(lottery.tail(3))"
   ]
  },
  {
   "cell_type": "markdown",
   "metadata": {},
   "source": [
    "## Historical Data Check\n",
    "\n",
    "The engineering team told us that we need to be aware of the following details:\n",
    "\n",
    "* Inside the app, the user inputs six different numbers from 1 to 49.\n",
    "* Under the hood, the six numbers will come as a Python list and serve as an input to our function.\n",
    "\n",
    "The engineering team wants us to write a function that prints:\n",
    "* The number of times the combination selected occurred in the Canada data set; and\n",
    "* The probability of winning the big prize in the next drawing with that combination."
   ]
  },
  {
   "cell_type": "code",
   "execution_count": 6,
   "metadata": {},
   "outputs": [
    {
     "data": {
      "text/plain": [
       "0    {3, 41, 11, 12, 43, 14}\n",
       "1    {33, 36, 37, 39, 8, 41}\n",
       "2     {1, 6, 39, 23, 24, 27}\n",
       "3     {3, 9, 10, 43, 13, 20}\n",
       "4    {34, 5, 14, 47, 21, 31}\n",
       "dtype: object"
      ]
     },
     "execution_count": 6,
     "metadata": {},
     "output_type": "execute_result"
    }
   ],
   "source": [
    "def extract_numbers(row: list[any]) -> set[int]:\n",
    "    ''' \n",
    "    Expects as input a row of the lottery dataframe and returns a set containing all \n",
    "    of the six winning numbers.\n",
    "    \n",
    "    The dataframe must have numbers in indices 4-9\n",
    "    '''\n",
    "    return set(row[4:10])\n",
    "\n",
    "winning_numbers = lottery.apply(extract_numbers, axis=1)\n",
    "winning_numbers.head()"
   ]
  },
  {
   "cell_type": "code",
   "execution_count": 9,
   "metadata": {},
   "outputs": [],
   "source": [
    "def check_historical_occurrence(user_numbers: list[int], historical_numbers: pd.Series(dtype=int)) -> None:\n",
    "    '''\n",
    "    user_numbers: python list of 6 integers\n",
    "    historical_numbers: pandas Series of lists of 6 integers\n",
    "    \n",
    "    Prints the number of occurrences of the given combination as well as the \n",
    "    probability of winning based on historical odds as well as probabalistic odds \n",
    "    '''\n",
    "    \n",
    "    user_numbers_set = set(user_numbers)\n",
    "    check_occurrence = historical_numbers == user_numbers_set\n",
    "    n_occurrences = check_occurrence.sum()\n",
    "    \n",
    "    if n_occurrences == 0:\n",
    "        print('''The combination {} has never occured.\n",
    "This doesn't mean it's more likely to occur now. Your chances to win the big prize in the next drawing using the combination {} are 0.0000072%.\n",
    "In other words, you have a 1 in 13,983,816 chances to win.'''.format(user_numbers, user_numbers))\n",
    "        \n",
    "    else:\n",
    "        print('''The number of times combination {} has occured in the past is {}.\n",
    "Your chances to win the big prize in the next drawing using the combination {} are 0.0000072%.\n",
    "In other words, you have a 1 in 13,983,816 chances to win.'''.format(user_numbers, n_occurrences,\n",
    "                                                                            user_numbers))"
   ]
  },
  {
   "cell_type": "code",
   "execution_count": 10,
   "metadata": {},
   "outputs": [
    {
     "name": "stdout",
     "output_type": "stream",
     "text": [
      "The combination [1, 2, 3, 4, 5, 6] has never occured.\n",
      "This doesn't mean it's more likely to occur now. Your chances to win the big prize in the next drawing using the combination [1, 2, 3, 4, 5, 6] are 0.0000072%.\n",
      "In other words, you have a 1 in 13,983,816 chances to win.\n"
     ]
    }
   ],
   "source": [
    "check_historical_occurrence([1,2,3,4,5,6], winning_numbers)"
   ]
  },
  {
   "cell_type": "code",
   "execution_count": 11,
   "metadata": {},
   "outputs": [
    {
     "name": "stdout",
     "output_type": "stream",
     "text": [
      "The number of times combination [3, 41, 11, 12, 43, 14] has occured in the past is 1.\n",
      "Your chances to win the big prize in the next drawing using the combination [3, 41, 11, 12, 43, 14] are 0.0000072%.\n",
      "In other words, you have a 1 in 13,983,816 chances to win.\n"
     ]
    }
   ],
   "source": [
    "check_historical_occurrence([3, 41, 11, 12, 43, 14], winning_numbers)"
   ]
  },
  {
   "cell_type": "markdown",
   "metadata": {},
   "source": [
    "## Multi-ticket Probability\n",
    "\n",
    "Lottery addicts usually play more than one ticket on a single drawing, thinking that this might increase their chances of winning significantly. Our purpose is to help them better estimate their chances of winning.\n",
    "\n",
    "We've talked with the engineering team and they gave us the following information:\n",
    "\n",
    "* The user will input the number of different tickets they want to play (without inputting the specific combinations they intend to play).\n",
    "* Our function will see an integer between 1 and 13,983,816 (the maximum number of different tickets).\n",
    "* The function should print information about the probability of winning the big prize depending on the number of different tickets played."
   ]
  },
  {
   "cell_type": "code",
   "execution_count": 12,
   "metadata": {},
   "outputs": [],
   "source": [
    "def multi_ticket_probability(n_tickets: int) -> None:\n",
    "    '''\n",
    "    n_tickets = integer of number of tickets to be played that should be no greater than 13,983,816\n",
    "    \n",
    "    Prints the probability and odds of winning\n",
    "    '''\n",
    "    \n",
    "    n_comb = comb(49,6)\n",
    "    probability = n_tickets/n_comb #49 possible numbers and 6 sampled without replacement\n",
    "    \n",
    "    if n_tickets == 1:\n",
    "        print('''Your chances to win the big prize with one ticket are {:.6f}%.\n",
    "In other words, you have a 1 in {:,} chances to win.'''.format(probability*100, int(n_comb)))\n",
    "    \n",
    "    else:\n",
    "        combinations_simplified = round(n_comb / n_tickets)   \n",
    "        print('''Your chances to win the big prize with {:,} different tickets are {:.6f}%.\n",
    "In other words, you have a 1 in {:,} chances to win.'''.format(n_tickets, probability*100,\n",
    "                                                               combinations_simplified))"
   ]
  },
  {
   "cell_type": "code",
   "execution_count": 13,
   "metadata": {},
   "outputs": [
    {
     "name": "stdout",
     "output_type": "stream",
     "text": [
      "Your chances to win the big prize with one ticket are 0.000007%.\n",
      "In other words, you have a 1 in 13,983,816 chances to win.\n",
      "Your chances to win the big prize with 10 different tickets are 0.000072%.\n",
      "In other words, you have a 1 in 1,398,382 chances to win.\n",
      "Your chances to win the big prize with 100 different tickets are 0.000715%.\n",
      "In other words, you have a 1 in 139,838 chances to win.\n",
      "Your chances to win the big prize with 10,000 different tickets are 0.071511%.\n",
      "In other words, you have a 1 in 1,398 chances to win.\n",
      "Your chances to win the big prize with 1,000,000 different tickets are 7.151124%.\n",
      "In other words, you have a 1 in 14 chances to win.\n",
      "Your chances to win the big prize with 6,991,908 different tickets are 50.000000%.\n",
      "In other words, you have a 1 in 2 chances to win.\n",
      "Your chances to win the big prize with 13,983,816 different tickets are 100.000000%.\n",
      "In other words, you have a 1 in 1 chances to win.\n"
     ]
    }
   ],
   "source": [
    "for i in [1, 10, 100, 10000, 1000000, 6991908, 13983816]:\n",
    "    multi_ticket_probability(i)"
   ]
  },
  {
   "cell_type": "markdown",
   "metadata": {},
   "source": [
    "## Less Winning Numbers\n",
    "\n",
    "For extra context, in most 6/49 lotteries there are smaller prizes if a player's ticket match two, three, four, or five of the six numbers drawn. As a consequence, the users might be interested in knowing the probability of having two, three, four, or five winning numbers.\n",
    "\n",
    "These are the engineering details we'll need to be aware of:\n",
    "\n",
    "* Inside the app, the user inputs:\n",
    " * six different numbers from 1 to 49; and\n",
    " * an integer between 2 and 5 that represents the number of winning numbers expected\n",
    "* Our function prints information about the probability of having the inputted number of winning numbers."
   ]
  },
  {
   "cell_type": "code",
   "execution_count": 56,
   "metadata": {},
   "outputs": [],
   "source": [
    "def probability_less_6(n_winning_numbers: int) -> None:\n",
    "    '''\n",
    "    n_winning_numbers is an integer between 0 and 6 inclusive\n",
    "    \n",
    "    Prints the probability of having the exact number of winning numbers (out of 6 on a single draw) and the odds of \n",
    "    matching that many numbers on a single ticket\n",
    "    '''\n",
    "    \n",
    "    n_comb_ticket = comb(6, n_winning_numbers)\n",
    "    n_comb_remaining = comb(49-n_winning_numbers, 6 - n_winning_numbers)\n",
    "    successful_outcomes = n_comb_ticket * n_comb_remaining\n",
    "    \n",
    "    n_comb_total = comb(49, 6)    \n",
    "    probability = successful_outcomes / n_comb_total\n",
    "    \n",
    "    combinations_simplified = round(n_comb_total/successful_outcomes)    \n",
    "    print('''Your chances of having {} winning numbers with this ticket are {:.6f}%.\n",
    "In other words, you have a 1 in {:,} chances to win.'''.format(n_winning_numbers, probability*100,\n",
    "                                                               int(combinations_simplified)))"
   ]
  },
  {
   "cell_type": "code",
   "execution_count": 64,
   "metadata": {},
   "outputs": [
    {
     "name": "stdout",
     "output_type": "stream",
     "text": [
      "Your chances of having 0 winning numbers with this ticket are 100.000000%.\n",
      "In other words, you have a 1 in 1 chances to win.\n",
      "--------------------------\n",
      "Your chances of having 1 winning numbers with this ticket are 73.469388%.\n",
      "In other words, you have a 1 in 1 chances to win.\n",
      "--------------------------\n",
      "Your chances of having 2 winning numbers with this ticket are 19.132653%.\n",
      "In other words, you have a 1 in 5 chances to win.\n",
      "--------------------------\n",
      "Your chances of having 3 winning numbers with this ticket are 2.171081%.\n",
      "In other words, you have a 1 in 46 chances to win.\n",
      "--------------------------\n",
      "Your chances of having 4 winning numbers with this ticket are 0.106194%.\n",
      "In other words, you have a 1 in 942 chances to win.\n",
      "--------------------------\n",
      "Your chances of having 5 winning numbers with this ticket are 0.001888%.\n",
      "In other words, you have a 1 in 52,969 chances to win.\n",
      "--------------------------\n",
      "Your chances of having 6 winning numbers with this ticket are 0.000007%.\n",
      "In other words, you have a 1 in 13,983,816 chances to win.\n",
      "--------------------------\n"
     ]
    }
   ],
   "source": [
    "for test_input in [0, 1, 2, 3, 4, 5, 6]:\n",
    "    probability_less_6(test_input)\n",
    "    print('--------------------------') # output delimiter"
   ]
  },
  {
   "cell_type": "markdown",
   "metadata": {},
   "source": [
    "## Adding Funny Analogies\n",
    "\n",
    "An addition to the output would be to include a comparison to an also unlikely event such as being the victim of a shark attack which is a 1 in 5 million chance."
   ]
  },
  {
   "cell_type": "code",
   "execution_count": 58,
   "metadata": {},
   "outputs": [],
   "source": [
    "def funny_output_multi_ticket(n_tickets: int) -> None:\n",
    "    '''\n",
    "    n_tickets = integer of number of tickets to be played\n",
    "    \n",
    "    Prints the probability of winning the big prize as well as the odds of winning as well as a funny output\n",
    "    comparing to being the victim of a shark attack\n",
    "    '''\n",
    "    \n",
    "    n_comb = comb(49,6)\n",
    "    probability = n_tickets/n_comb #49 possible numbers and 6 sampled without replacement\n",
    "    \n",
    "    shark_prob = (1.0/5000000) / probability\n",
    "    \n",
    "    if shark_prob > 1:\n",
    "        text = 'more'\n",
    "    else:\n",
    "        shark_prob = 1/shark_prob\n",
    "        text = 'less'\n",
    "    \n",
    "    if n_tickets == 1:\n",
    "        print('''Your chances to win the big prize with one ticket are {:.6f}%.\n",
    "In other words, you have a 1 in {:,} chances to win.\n",
    "For comparison, you are {:,} times {} likely to be the victim of a shark attack than winning the lottery.'''\n",
    "              .format(probability*100, int(n_comb), round(shark_prob), text)\n",
    "             )\n",
    "    \n",
    "    else:\n",
    "        combinations_simplified = round(n_comb / n_tickets)   \n",
    "        print('''Your chances to win the big prize with {:,} different tickets are {:.6f}%.\n",
    "In other words, you have a 1 in {:,} chances to win.\n",
    "For comparison, you are {:,} times {} likely to be the victim of a shark attack than winning the lottery.'''\n",
    "              .format(n_tickets, probability*100, combinations_simplified, round(shark_prob), text)\n",
    "             )"
   ]
  },
  {
   "cell_type": "code",
   "execution_count": 59,
   "metadata": {},
   "outputs": [
    {
     "name": "stdout",
     "output_type": "stream",
     "text": [
      "Your chances to win the big prize with one ticket are 0.000007%.\n",
      "In other words, you have a 1 in 13,983,816 chances to win.\n",
      "For comparison, you are 3 times more likely to be the victim of a shark attack than winning the lottery.\n",
      "Your chances to win the big prize with 10 different tickets are 0.000072%.\n",
      "In other words, you have a 1 in 1,398,382 chances to win.\n",
      "For comparison, you are 4 times less likely to be the victim of a shark attack than winning the lottery.\n"
     ]
    }
   ],
   "source": [
    "for i in [1, 10]:\n",
    "    funny_output_multi_ticket(i)"
   ]
  },
  {
   "cell_type": "code",
   "execution_count": 62,
   "metadata": {},
   "outputs": [],
   "source": [
    "def funny_output_probability_less_6(n_winning_numbers: int) -> None:\n",
    "    '''\n",
    "    n_winning_numbers is an integer between 0 and 6 inclusive\n",
    "    \n",
    "    Prints the probability of having the exact number of winning numbers (out of 6 on a single draw) and the odds of \n",
    "    matching that many numbers on a single as well as the odds of winning as well as a funny output\n",
    "    comparing to being the victim of a shark attack\n",
    "    '''\n",
    "    \n",
    "    n_comb_ticket = comb(6, n_winning_numbers)\n",
    "    n_comb_remaining = comb(49 - n_winning_numbers, 6 - n_winning_numbers)\n",
    "    successful_outcomes = n_comb_ticket * n_comb_remaining\n",
    "    \n",
    "    n_comb_total = comb(49, 6)    \n",
    "    probability = successful_outcomes / n_comb_total\n",
    "    \n",
    "    shark_prob = (1.0/5000000) / probability\n",
    "    \n",
    "    if shark_prob > 1:\n",
    "        text = 'more'\n",
    "    else:\n",
    "        shark_prob = 1/shark_prob\n",
    "        text = 'less'\n",
    "    \n",
    "    combinations_simplified = round(n_comb_total/successful_outcomes)    \n",
    "    print('''Your chances of having {} winning numbers with this ticket are {:.6f}%.\n",
    "In other words, you have a 1 in {:,} chances to win.\n",
    "For comparison, you are {:,} times {} likely to be the victim of a shark attack than winning the lottery'''\n",
    "          .format(n_winning_numbers, probability*100, int(combinations_simplified), round(shark_prob), text)\n",
    "         )"
   ]
  },
  {
   "cell_type": "code",
   "execution_count": 63,
   "metadata": {},
   "outputs": [
    {
     "name": "stdout",
     "output_type": "stream",
     "text": [
      "Your chances of having 0 winning numbers with this ticket are 100.000000%.\n",
      "In other words, you have a 1 in 1 chances to win.\n",
      "For comparison, you are 5,000,000 times less likely to be the victim of a shark attack than winning the lottery\n",
      "--------------------------\n",
      "Your chances of having 1 winning numbers with this ticket are 73.469388%.\n",
      "In other words, you have a 1 in 1 chances to win.\n",
      "For comparison, you are 3,673,469 times less likely to be the victim of a shark attack than winning the lottery\n",
      "--------------------------\n",
      "Your chances of having 2 winning numbers with this ticket are 19.132653%.\n",
      "In other words, you have a 1 in 5 chances to win.\n",
      "For comparison, you are 956,633 times less likely to be the victim of a shark attack than winning the lottery\n",
      "--------------------------\n",
      "Your chances of having 3 winning numbers with this ticket are 2.171081%.\n",
      "In other words, you have a 1 in 46 chances to win.\n",
      "For comparison, you are 108,554 times less likely to be the victim of a shark attack than winning the lottery\n",
      "--------------------------\n",
      "Your chances of having 4 winning numbers with this ticket are 0.106194%.\n",
      "In other words, you have a 1 in 942 chances to win.\n",
      "For comparison, you are 5,310 times less likely to be the victim of a shark attack than winning the lottery\n",
      "--------------------------\n",
      "Your chances of having 5 winning numbers with this ticket are 0.001888%.\n",
      "In other words, you have a 1 in 52,969 chances to win.\n",
      "For comparison, you are 94 times less likely to be the victim of a shark attack than winning the lottery\n",
      "--------------------------\n",
      "Your chances of having 6 winning numbers with this ticket are 0.000007%.\n",
      "In other words, you have a 1 in 13,983,816 chances to win.\n",
      "For comparison, you are 3 times more likely to be the victim of a shark attack than winning the lottery\n",
      "--------------------------\n"
     ]
    }
   ],
   "source": [
    "for test_input in [0, 1, 2, 3, 4, 5, 6]:\n",
    "    funny_output_probability_less_6(test_input)\n",
    "    print('--------------------------') # output delimiter"
   ]
  },
  {
   "cell_type": "markdown",
   "metadata": {},
   "source": [
    "## Combining Probability and Historical Occurrence\n",
    "\n",
    "Another feature would be outputing probability and historical occurences at the same time. To do so, we will combine  one_ticket_probability() and check_historical_occurrence()."
   ]
  },
  {
   "cell_type": "code",
   "execution_count": 24,
   "metadata": {},
   "outputs": [],
   "source": [
    "def one_ticket_probability_and_historical_occurrence(user_numbers: list[int], \n",
    "                                                     historical_numbers: pd.Series(dtype=int)) -> None:\n",
    "    '''\n",
    "    user_numbers: python list of 6 integers\n",
    "    historical_numbers: pandas Series of 6 integers per element\n",
    "    \n",
    "    Prints the combined one ticket probability and historical occurrence\n",
    "    '''\n",
    "    \n",
    "    # For one ticket probability\n",
    "    n_comb = comb(49,6)\n",
    "    probability = 1/n_comb #49 possible numbers and 6 sampled without replacement\n",
    "    \n",
    "    print('''Your chances to win the big prize with the numbers {} are {:.7f}%.\n",
    "In other words, you have a 1 in {:,} chances to win.'''.format(user_numbers,\n",
    "                    probability*100, int(n_comb)))\n",
    "    \n",
    "    # For historical occurrence\n",
    "    user_numbers_set = set(user_numbers)\n",
    "    check_occurrence = historical_numbers == user_numbers_set\n",
    "    n_occurrences = check_occurrence.sum()\n",
    "    \n",
    "    if n_occurrences == 0:\n",
    "        print('''The combination {} has never occured.\n",
    "This doesn't mean it's more likely to occur now. Your chances to win the big prize in the next drawing using the combination {} are 0.0000072%.\n",
    "In other words, you have a 1 in 13,983,816 chances to win.'''.format(user_numbers, user_numbers))\n",
    "        \n",
    "    else:\n",
    "        print('''The number of times combination {} has occured in the past is {}.'''.format(user_numbers, n_occurrences,\n",
    "                                                                            user_numbers))"
   ]
  },
  {
   "cell_type": "code",
   "execution_count": 25,
   "metadata": {},
   "outputs": [
    {
     "name": "stdout",
     "output_type": "stream",
     "text": [
      "Your chances to win the big prize with the numbers [3, 41, 11, 12, 43, 14] are 0.0000072%.\n",
      "In other words, you have a 1 in 13,983,816 chances to win.\n",
      "The number of times combination [3, 41, 11, 12, 43, 14] has occured in the past is 1.\n"
     ]
    }
   ],
   "source": [
    "one_ticket_probability_and_historical_occurrence([3, 41, 11, 12, 43, 14], winning_numbers)"
   ]
  },
  {
   "cell_type": "markdown",
   "metadata": {},
   "source": [
    "## Creating Probability of at Least X Winning Numbers\n",
    "\n",
    "Our final function will be similar to probability_less_6(). In this case it will be one which calculates the probability of having at least two, three, four or five winning numbers. For example, the number of successful outcomes for having at least four winning numbers is the sum of having at 4, 5, and 6 winning numbers exactly. We can also consider the events dependent and add the probabilities."
   ]
  },
  {
   "cell_type": "code",
   "execution_count": 65,
   "metadata": {},
   "outputs": [],
   "source": [
    "def probability_at_least_n(n_winning_numbers: int) -> None:\n",
    "    '''\n",
    "    n_winning_numbers is an integer between 0 and 6 inclusive\n",
    "    \n",
    "    Prints the probability of having at least that number of winning numbers (out of 6 on a single draw) \n",
    "    and the odds of matching at least that many numbers on a single ticket\n",
    "    '''\n",
    "    \n",
    "    successful_outcomes = 0\n",
    "    \n",
    "    for i in range(n_winning_numbers,7):\n",
    "        n_comb_ticket = comb(6, n_winning_numbers)\n",
    "        n_comb_remaining = comb(49 - n_winning_numbers, 6 - n_winning_numbers)\n",
    "        successful_outcomes += (n_comb_ticket * n_comb_remaining)\n",
    "    \n",
    "    n_comb_total = comb(49, 6)    \n",
    "    probability = successful_outcomes / (n_comb_total * (7-n_winning_numbers))\n",
    "    \n",
    "    combinations_simplified = round(n_comb_total/successful_outcomes)    \n",
    "    print('''Your chances of having {} winning numbers with this ticket are {:.6f}%.\n",
    "In other words, you have a 1 in {:,} chances to win.'''.format(n_winning_numbers, probability*100,\n",
    "                                                               int(combinations_simplified)))"
   ]
  },
  {
   "cell_type": "code",
   "execution_count": 66,
   "metadata": {},
   "outputs": [
    {
     "name": "stdout",
     "output_type": "stream",
     "text": [
      "Your chances of having 0 winning numbers with this ticket are 100.000000%.\n",
      "In other words, you have a 1 in 0 chances to win.\n",
      "--------------------------\n",
      "Your chances of having 1 winning numbers with this ticket are 73.469388%.\n",
      "In other words, you have a 1 in 0 chances to win.\n",
      "--------------------------\n",
      "Your chances of having 2 winning numbers with this ticket are 19.132653%.\n",
      "In other words, you have a 1 in 1 chances to win.\n",
      "--------------------------\n",
      "Your chances of having 3 winning numbers with this ticket are 2.171081%.\n",
      "In other words, you have a 1 in 12 chances to win.\n",
      "--------------------------\n",
      "Your chances of having 4 winning numbers with this ticket are 0.106194%.\n",
      "In other words, you have a 1 in 314 chances to win.\n",
      "--------------------------\n",
      "Your chances of having 5 winning numbers with this ticket are 0.001888%.\n",
      "In other words, you have a 1 in 26,484 chances to win.\n",
      "--------------------------\n",
      "Your chances of having 6 winning numbers with this ticket are 0.000007%.\n",
      "In other words, you have a 1 in 13,983,816 chances to win.\n",
      "--------------------------\n"
     ]
    }
   ],
   "source": [
    "for test_input in [0, 1, 2, 3, 4, 5, 6]:\n",
    "    probability_at_least_n(test_input)\n",
    "    print('--------------------------') # output delimiter"
   ]
  },
  {
   "cell_type": "markdown",
   "metadata": {},
   "source": [
    "## Conclusion\n",
    "\n",
    "In this project, we were able to generate probabilities using combinations in order to determine the odds of winning a 6 digit lottery out of 49 numbers. We were also able to create the logic to output multiple things such as the historical occurence as well."
   ]
  }
 ],
 "metadata": {
  "kernelspec": {
   "display_name": "Python 3 (ipykernel)",
   "language": "python",
   "name": "python3"
  },
  "language_info": {
   "codemirror_mode": {
    "name": "ipython",
    "version": 3
   },
   "file_extension": ".py",
   "mimetype": "text/x-python",
   "name": "python",
   "nbconvert_exporter": "python",
   "pygments_lexer": "ipython3",
   "version": "3.10.0"
  }
 },
 "nbformat": 4,
 "nbformat_minor": 2
}
