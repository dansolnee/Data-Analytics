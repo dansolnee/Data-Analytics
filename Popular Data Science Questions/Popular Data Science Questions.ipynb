{
 "cells": [
  {
   "cell_type": "markdown",
   "metadata": {},
   "source": [
    "# Popular Data Science Questions\n",
    "\n",
    "In this project, we're working for a fictional company that creates data science content, be it books, online articles, videos or interactive text-based platforms like Dataquest. We're tasked with figuring out what is best content to write about by answering: \"What is it that people want to learn about in data science?\"\n",
    "\n",
    "To do this, we will be looking at Stack Exchange sites to get a sense of this."
   ]
  },
  {
   "cell_type": "markdown",
   "metadata": {},
   "source": [
    "## Data Science Stack Exchange\n",
    "\n",
    "On this [site](https://datascience.stackexchange.com/), we see quite a few questions regarding specific problems to implementations.\n",
    "\n",
    "On the site, we also see tags, unanswered questions, user data, and jobs. Unanswered questions in particular seems interesting to address. In each of these posts, we can see votes, answers, and views."
   ]
  },
  {
   "cell_type": "markdown",
   "metadata": {},
   "source": [
    "## Stack Exchange Data Explorer\n",
    "\n",
    "Using the [Stack Exchange Data Explorer](https://data.stackexchange.com/datascience/query/new), we can begin to look at tables to see what looks most promising towards finding the most popular content.\n",
    "\n",
    "After a few queries, the posts table seems to be the most helpful that we will dig into. Some example queries we ran were those below:"
   ]
  },
  {
   "cell_type": "code",
   "execution_count": 599,
   "metadata": {},
   "outputs": [],
   "source": [
    "'''\n",
    "SELECT TOP 10 *\n",
    "  FROM tags\n",
    " ORDER BY Count DESC;\n",
    "''';"
   ]
  },
  {
   "cell_type": "code",
   "execution_count": 600,
   "metadata": {},
   "outputs": [],
   "source": [
    "'''\n",
    "SELECT Id, PostTypeId, CreationDate, Score, ViewCount, Tags, AnswerCount, FavoriteCount \n",
    "FROM posts\n",
    "WHERE CreationDate BETWEEN '2020.01.01' AND '2021.01.01';\n",
    "''';"
   ]
  },
  {
   "cell_type": "markdown",
   "metadata": {},
   "source": [
    "## Exploring the Data\n",
    "\n",
    "The result of the query has been stored in '2019_questions.csv'. We will now read that file into a datframe and explore the data."
   ]
  },
  {
   "cell_type": "code",
   "execution_count": 601,
   "metadata": {},
   "outputs": [],
   "source": [
    "import pandas as pd\n",
    "\n",
    "se_data = pd.read_csv('2019_questions.csv')"
   ]
  },
  {
   "cell_type": "code",
   "execution_count": 602,
   "metadata": {},
   "outputs": [
    {
     "data": {
      "text/html": [
       "<div>\n",
       "<style scoped>\n",
       "    .dataframe tbody tr th:only-of-type {\n",
       "        vertical-align: middle;\n",
       "    }\n",
       "\n",
       "    .dataframe tbody tr th {\n",
       "        vertical-align: top;\n",
       "    }\n",
       "\n",
       "    .dataframe thead th {\n",
       "        text-align: right;\n",
       "    }\n",
       "</style>\n",
       "<table border=\"1\" class=\"dataframe\">\n",
       "  <thead>\n",
       "    <tr style=\"text-align: right;\">\n",
       "      <th></th>\n",
       "      <th>Id</th>\n",
       "      <th>CreationDate</th>\n",
       "      <th>Score</th>\n",
       "      <th>ViewCount</th>\n",
       "      <th>Tags</th>\n",
       "      <th>AnswerCount</th>\n",
       "      <th>FavoriteCount</th>\n",
       "    </tr>\n",
       "  </thead>\n",
       "  <tbody>\n",
       "    <tr>\n",
       "      <th>0</th>\n",
       "      <td>44419</td>\n",
       "      <td>2019-01-23 09:21:13</td>\n",
       "      <td>1</td>\n",
       "      <td>21</td>\n",
       "      <td>&lt;machine-learning&gt;&lt;data-mining&gt;</td>\n",
       "      <td>0</td>\n",
       "      <td>NaN</td>\n",
       "    </tr>\n",
       "    <tr>\n",
       "      <th>1</th>\n",
       "      <td>44420</td>\n",
       "      <td>2019-01-23 09:34:01</td>\n",
       "      <td>0</td>\n",
       "      <td>25</td>\n",
       "      <td>&lt;machine-learning&gt;&lt;regression&gt;&lt;linear-regressi...</td>\n",
       "      <td>0</td>\n",
       "      <td>NaN</td>\n",
       "    </tr>\n",
       "    <tr>\n",
       "      <th>2</th>\n",
       "      <td>44423</td>\n",
       "      <td>2019-01-23 09:58:41</td>\n",
       "      <td>2</td>\n",
       "      <td>1651</td>\n",
       "      <td>&lt;python&gt;&lt;time-series&gt;&lt;forecast&gt;&lt;forecasting&gt;</td>\n",
       "      <td>0</td>\n",
       "      <td>NaN</td>\n",
       "    </tr>\n",
       "    <tr>\n",
       "      <th>3</th>\n",
       "      <td>44427</td>\n",
       "      <td>2019-01-23 10:57:09</td>\n",
       "      <td>0</td>\n",
       "      <td>55</td>\n",
       "      <td>&lt;machine-learning&gt;&lt;scikit-learn&gt;&lt;pca&gt;</td>\n",
       "      <td>1</td>\n",
       "      <td>NaN</td>\n",
       "    </tr>\n",
       "    <tr>\n",
       "      <th>4</th>\n",
       "      <td>44428</td>\n",
       "      <td>2019-01-23 11:02:15</td>\n",
       "      <td>0</td>\n",
       "      <td>19</td>\n",
       "      <td>&lt;dataset&gt;&lt;bigdata&gt;&lt;data&gt;&lt;speech-to-text&gt;</td>\n",
       "      <td>0</td>\n",
       "      <td>NaN</td>\n",
       "    </tr>\n",
       "  </tbody>\n",
       "</table>\n",
       "</div>"
      ],
      "text/plain": [
       "      Id         CreationDate  Score  ViewCount  \\\n",
       "0  44419  2019-01-23 09:21:13      1         21   \n",
       "1  44420  2019-01-23 09:34:01      0         25   \n",
       "2  44423  2019-01-23 09:58:41      2       1651   \n",
       "3  44427  2019-01-23 10:57:09      0         55   \n",
       "4  44428  2019-01-23 11:02:15      0         19   \n",
       "\n",
       "                                                Tags  AnswerCount  \\\n",
       "0                    <machine-learning><data-mining>            0   \n",
       "1  <machine-learning><regression><linear-regressi...            0   \n",
       "2       <python><time-series><forecast><forecasting>            0   \n",
       "3              <machine-learning><scikit-learn><pca>            1   \n",
       "4           <dataset><bigdata><data><speech-to-text>            0   \n",
       "\n",
       "   FavoriteCount  \n",
       "0            NaN  \n",
       "1            NaN  \n",
       "2            NaN  \n",
       "3            NaN  \n",
       "4            NaN  "
      ]
     },
     "execution_count": 602,
     "metadata": {},
     "output_type": "execute_result"
    }
   ],
   "source": [
    "se_data.head()"
   ]
  },
  {
   "cell_type": "code",
   "execution_count": 603,
   "metadata": {},
   "outputs": [
    {
     "name": "stdout",
     "output_type": "stream",
     "text": [
      "<class 'pandas.core.frame.DataFrame'>\n",
      "RangeIndex: 8839 entries, 0 to 8838\n",
      "Data columns (total 7 columns):\n",
      " #   Column         Non-Null Count  Dtype  \n",
      "---  ------         --------------  -----  \n",
      " 0   Id             8839 non-null   int64  \n",
      " 1   CreationDate   8839 non-null   object \n",
      " 2   Score          8839 non-null   int64  \n",
      " 3   ViewCount      8839 non-null   int64  \n",
      " 4   Tags           8839 non-null   object \n",
      " 5   AnswerCount    8839 non-null   int64  \n",
      " 6   FavoriteCount  1407 non-null   float64\n",
      "dtypes: float64(1), int64(4), object(2)\n",
      "memory usage: 483.5+ KB\n"
     ]
    }
   ],
   "source": [
    "se_data.info()"
   ]
  },
  {
   "cell_type": "markdown",
   "metadata": {},
   "source": [
    "## Cleaning the Data\n",
    "\n",
    "From above, we can see that there is some data to clean.\n",
    "- There are no missing values except in FavoriteCount. These values are not applicable for posts that are not questions.\n",
    "    - We will fill these with a 0.\n",
    "- The dtypes of the CreationDate and FavoriteCount columns are also not adequate.\n",
    "    - Those will need to be changed to datetime64[ns] and int64.\n",
    "- Also, the values in the Tags column need to be changed.\n",
    "    - We will manipulate the string into a list format."
   ]
  },
  {
   "cell_type": "code",
   "execution_count": 604,
   "metadata": {},
   "outputs": [
    {
     "name": "stdout",
     "output_type": "stream",
     "text": [
      "<class 'pandas.core.frame.DataFrame'>\n",
      "RangeIndex: 8839 entries, 0 to 8838\n",
      "Data columns (total 7 columns):\n",
      " #   Column         Non-Null Count  Dtype         \n",
      "---  ------         --------------  -----         \n",
      " 0   Id             8839 non-null   int64         \n",
      " 1   CreationDate   8839 non-null   datetime64[ns]\n",
      " 2   Score          8839 non-null   int64         \n",
      " 3   ViewCount      8839 non-null   int64         \n",
      " 4   Tags           8839 non-null   object        \n",
      " 5   AnswerCount    8839 non-null   int64         \n",
      " 6   FavoriteCount  8839 non-null   int64         \n",
      "dtypes: datetime64[ns](1), int64(5), object(1)\n",
      "memory usage: 483.5+ KB\n"
     ]
    }
   ],
   "source": [
    "# Fill missing FavoriteCount values\n",
    "se_data.fillna(0,inplace=True)\n",
    "\n",
    "# Change the dtypes of CreationDate and FavoriteCount\n",
    "se_data = se_data.astype({'CreationDate':'datetime64[ns]',\n",
    "               'FavoriteCount':'int64'})\n",
    "\n",
    "# Changing the strings from the head() to a pythonic format.\n",
    "se_data['Tags'] = se_data['Tags'].str.replace('><',',').str.replace('<','').str.replace('>','').str.split(',')            \n",
    "se_data.info()"
   ]
  },
  {
   "cell_type": "markdown",
   "metadata": {},
   "source": [
    "## Most Used and Most Viewed\n",
    "\n",
    "Now, we will visualize at how many times each tag was used and viewed."
   ]
  },
  {
   "cell_type": "code",
   "execution_count": 605,
   "metadata": {},
   "outputs": [
    {
     "data": {
      "text/plain": [
       "0                      [machine-learning, data-mining]\n",
       "1    [machine-learning, regression, linear-regressi...\n",
       "2         [python, time-series, forecast, forecasting]\n",
       "3                [machine-learning, scikit-learn, pca]\n",
       "4             [dataset, bigdata, data, speech-to-text]\n",
       "Name: Tags, dtype: object"
      ]
     },
     "execution_count": 605,
     "metadata": {},
     "output_type": "execute_result"
    }
   ],
   "source": [
    "se_data['Tags'].head()"
   ]
  },
  {
   "cell_type": "code",
   "execution_count": 606,
   "metadata": {},
   "outputs": [
    {
     "data": {
      "text/plain": [
       "machine-learning    2693\n",
       "python              1814\n",
       "deep-learning       1220\n",
       "neural-network      1055\n",
       "keras                935\n",
       "Name: Tags, dtype: int64"
      ]
     },
     "execution_count": 606,
     "metadata": {},
     "output_type": "execute_result"
    }
   ],
   "source": [
    "import numpy as np\n",
    "\n",
    "# Create a Panda Series in order to create a frequency table\n",
    "used = se_data['Tags'].explode().value_counts(ascending=False)\n",
    "used.head()"
   ]
  },
  {
   "cell_type": "code",
   "execution_count": 607,
   "metadata": {},
   "outputs": [
    {
     "data": {
      "text/plain": [
       "Tags\n",
       "python              537585\n",
       "machine-learning    388499\n",
       "keras               268608\n",
       "deep-learning       233628\n",
       "pandas              201787\n",
       "Name: ViewCount, dtype: int64"
      ]
     },
     "execution_count": 607,
     "metadata": {},
     "output_type": "execute_result"
    }
   ],
   "source": [
    "views = se_data.explode('Tags').groupby('Tags')['ViewCount'].sum().sort_values(ascending=False)\n",
    "views.head()"
   ]
  },
  {
   "cell_type": "code",
   "execution_count": 608,
   "metadata": {},
   "outputs": [
    {
     "data": {
      "text/plain": [
       "<AxesSubplot:title={'center':'Views per Tag'}, xlabel='Tags'>"
      ]
     },
     "execution_count": 608,
     "metadata": {},
     "output_type": "execute_result"
    },
    {
     "data": {
      "image/png": "[encoded data removed]",
      "text/plain": [
       "<Figure size 720x432 with 2 Axes>"
      ]
     },
     "metadata": {},
     "output_type": "display_data"
    }
   ],
   "source": [
    "%matplotlib inline\n",
    "import matplotlib.pyplot as plt\n",
    "import matplotlib\n",
    "\n",
    "matplotlib.style.use('fivethirtyeight')\n",
    "\n",
    "plt.figure(figsize=(10, 6))\n",
    "plt.subplot(1,2,1)\n",
    "plt.title('Times Tag Used')\n",
    "plt.xlabel('Tags')\n",
    "used.head().plot(kind='bar', colormap='winter')\n",
    "plt.subplot(1,2,2)\n",
    "plt.title('Views per Tag')\n",
    "views.head().plot(kind='bar', colormap='cool')"
   ]
  },
  {
   "cell_type": "markdown",
   "metadata": {},
   "source": [
    "As you can see above, commonly used and most viewed tags generally overlap which makes sense since a commonly used tag has a higher chance of being seen on a post.\n",
    "\n",
    "Some tags that are used in some posts are not related in an actual sense. A way to find these relationships would be to run correlations on rows (e.g. compare how often the tags appear with each other). You could also extend this with multiple correlations to find relationships between multiple tags.\n",
    "\n",
    "From the top 10 tags of each, here's a list of the tags in common: python, machine-learning, deep-learning, neural-network, keras, tensorflow, classification, scikit-learn"
   ]
  },
  {
   "cell_type": "markdown",
   "metadata": {},
   "source": [
    "## Deep Learning Across Time\n",
    "\n",
    "Finally, we will look at deep learning and if it is just a fad or it is still growing in popularity. We will look at data gathered from the query:"
   ]
  },
  {
   "cell_type": "code",
   "execution_count": 609,
   "metadata": {},
   "outputs": [],
   "source": [
    "'''\n",
    "SELECT Id, CreationDate, Tags\n",
    "  FROM posts\n",
    " WHERE PostTypeId = 1;\n",
    "''';"
   ]
  },
  {
   "cell_type": "markdown",
   "metadata": {},
   "source": [
    "First, we'll read the data in and convert the Tags column to a list."
   ]
  },
  {
   "cell_type": "code",
   "execution_count": 610,
   "metadata": {},
   "outputs": [
    {
     "name": "stdout",
     "output_type": "stream",
     "text": [
      "<class 'pandas.core.frame.DataFrame'>\n",
      "RangeIndex: 21576 entries, 0 to 21575\n",
      "Data columns (total 3 columns):\n",
      " #   Column        Non-Null Count  Dtype \n",
      "---  ------        --------------  ----- \n",
      " 0   Id            21576 non-null  int64 \n",
      " 1   CreationDate  21576 non-null  object\n",
      " 2   Tags          21576 non-null  object\n",
      "dtypes: int64(1), object(2)\n",
      "memory usage: 505.8+ KB\n"
     ]
    }
   ],
   "source": [
    "all_data = pd.read_csv('all_questions.csv')\n",
    "# Same tag conversion like done in an above cell\n",
    "all_data['Tags'] = all_data['Tags'].str.replace('><',',').str.replace('<','').str.replace('>','').str.split(',')            \n",
    "all_data.info()"
   ]
  },
  {
   "cell_type": "markdown",
   "metadata": {},
   "source": [
    "Second, we'll convert the CreationDate column to a datetime object."
   ]
  },
  {
   "cell_type": "code",
   "execution_count": 611,
   "metadata": {},
   "outputs": [
    {
     "name": "stdout",
     "output_type": "stream",
     "text": [
      "<class 'pandas.core.frame.DataFrame'>\n",
      "RangeIndex: 21576 entries, 0 to 21575\n",
      "Data columns (total 3 columns):\n",
      " #   Column        Non-Null Count  Dtype         \n",
      "---  ------        --------------  -----         \n",
      " 0   Id            21576 non-null  int64         \n",
      " 1   CreationDate  21576 non-null  datetime64[ns]\n",
      " 2   Tags          21576 non-null  object        \n",
      "dtypes: datetime64[ns](1), int64(1), object(1)\n",
      "memory usage: 505.8+ KB\n"
     ]
    }
   ],
   "source": [
    "all_data = all_data.astype({'CreationDate':'datetime64[ns]'})\n",
    "all_data.info()"
   ]
  },
  {
   "cell_type": "markdown",
   "metadata": {},
   "source": [
    "Third, we'll get the subset of rows that mention deep-learning."
   ]
  },
  {
   "cell_type": "code",
   "execution_count": 612,
   "metadata": {},
   "outputs": [],
   "source": [
    "names = {'deep-learning'}\n",
    "# Get all rows that mention deep-learning\n",
    "deep = all_data[all_data['Tags'].map(names.issubset)]"
   ]
  },
  {
   "cell_type": "code",
   "execution_count": 613,
   "metadata": {},
   "outputs": [
    {
     "data": {
      "text/html": [
       "<div>\n",
       "<style scoped>\n",
       "    .dataframe tbody tr th:only-of-type {\n",
       "        vertical-align: middle;\n",
       "    }\n",
       "\n",
       "    .dataframe tbody tr th {\n",
       "        vertical-align: top;\n",
       "    }\n",
       "\n",
       "    .dataframe thead th {\n",
       "        text-align: right;\n",
       "    }\n",
       "</style>\n",
       "<table border=\"1\" class=\"dataframe\">\n",
       "  <thead>\n",
       "    <tr style=\"text-align: right;\">\n",
       "      <th></th>\n",
       "      <th>Id</th>\n",
       "      <th>CreationDate</th>\n",
       "      <th>Tags</th>\n",
       "    </tr>\n",
       "  </thead>\n",
       "  <tbody>\n",
       "    <tr>\n",
       "      <th>14</th>\n",
       "      <td>45442</td>\n",
       "      <td>2019-02-12 11:35:56</td>\n",
       "      <td>[python, neural-network, deep-learning, keras]</td>\n",
       "    </tr>\n",
       "    <tr>\n",
       "      <th>28</th>\n",
       "      <td>45467</td>\n",
       "      <td>2019-02-12 21:49:08</td>\n",
       "      <td>[machine-learning, deep-learning]</td>\n",
       "    </tr>\n",
       "    <tr>\n",
       "      <th>29</th>\n",
       "      <td>45469</td>\n",
       "      <td>2019-02-12 22:40:12</td>\n",
       "      <td>[machine-learning, deep-learning, keras, sciki...</td>\n",
       "    </tr>\n",
       "    <tr>\n",
       "      <th>55</th>\n",
       "      <td>45515</td>\n",
       "      <td>2019-02-13 15:18:07</td>\n",
       "      <td>[machine-learning, neural-network, deep-learni...</td>\n",
       "    </tr>\n",
       "    <tr>\n",
       "      <th>63</th>\n",
       "      <td>45530</td>\n",
       "      <td>2019-02-13 18:33:05</td>\n",
       "      <td>[deep-learning]</td>\n",
       "    </tr>\n",
       "  </tbody>\n",
       "</table>\n",
       "</div>"
      ],
      "text/plain": [
       "       Id        CreationDate  \\\n",
       "14  45442 2019-02-12 11:35:56   \n",
       "28  45467 2019-02-12 21:49:08   \n",
       "29  45469 2019-02-12 22:40:12   \n",
       "55  45515 2019-02-13 15:18:07   \n",
       "63  45530 2019-02-13 18:33:05   \n",
       "\n",
       "                                                 Tags  \n",
       "14     [python, neural-network, deep-learning, keras]  \n",
       "28                  [machine-learning, deep-learning]  \n",
       "29  [machine-learning, deep-learning, keras, sciki...  \n",
       "55  [machine-learning, neural-network, deep-learni...  \n",
       "63                                    [deep-learning]  "
      ]
     },
     "execution_count": 613,
     "metadata": {},
     "output_type": "execute_result"
    }
   ],
   "source": [
    "deep.head()"
   ]
  },
  {
   "cell_type": "markdown",
   "metadata": {},
   "source": [
    "Finally, we group by the year to get the count."
   ]
  },
  {
   "cell_type": "code",
   "execution_count": 614,
   "metadata": {},
   "outputs": [],
   "source": [
    "all_count = all_data['CreationDate'].groupby(all_data[\"CreationDate\"].dt.year).count()\n",
    "deep_count = deep['CreationDate'].groupby(deep[\"CreationDate\"].dt.year).count()"
   ]
  },
  {
   "cell_type": "markdown",
   "metadata": {},
   "source": [
    "To analyze, we will concatenate the count side by side and then plot."
   ]
  },
  {
   "cell_type": "code",
   "execution_count": 615,
   "metadata": {},
   "outputs": [
    {
     "data": {
      "text/html": [
       "<div>\n",
       "<style scoped>\n",
       "    .dataframe tbody tr th:only-of-type {\n",
       "        vertical-align: middle;\n",
       "    }\n",
       "\n",
       "    .dataframe tbody tr th {\n",
       "        vertical-align: top;\n",
       "    }\n",
       "\n",
       "    .dataframe thead th {\n",
       "        text-align: right;\n",
       "    }\n",
       "</style>\n",
       "<table border=\"1\" class=\"dataframe\">\n",
       "  <thead>\n",
       "    <tr style=\"text-align: right;\">\n",
       "      <th></th>\n",
       "      <th>All Posts</th>\n",
       "      <th>Deep Learning Posts</th>\n",
       "      <th>Percentage Deep Learning</th>\n",
       "    </tr>\n",
       "    <tr>\n",
       "      <th>CreationDate</th>\n",
       "      <th></th>\n",
       "      <th></th>\n",
       "      <th></th>\n",
       "    </tr>\n",
       "  </thead>\n",
       "  <tbody>\n",
       "    <tr>\n",
       "      <th>2014</th>\n",
       "      <td>562</td>\n",
       "      <td>8</td>\n",
       "      <td>1.42</td>\n",
       "    </tr>\n",
       "    <tr>\n",
       "      <th>2015</th>\n",
       "      <td>1167</td>\n",
       "      <td>30</td>\n",
       "      <td>2.57</td>\n",
       "    </tr>\n",
       "    <tr>\n",
       "      <th>2016</th>\n",
       "      <td>2146</td>\n",
       "      <td>157</td>\n",
       "      <td>7.32</td>\n",
       "    </tr>\n",
       "    <tr>\n",
       "      <th>2017</th>\n",
       "      <td>2957</td>\n",
       "      <td>425</td>\n",
       "      <td>14.37</td>\n",
       "    </tr>\n",
       "    <tr>\n",
       "      <th>2018</th>\n",
       "      <td>5475</td>\n",
       "      <td>902</td>\n",
       "      <td>16.47</td>\n",
       "    </tr>\n",
       "    <tr>\n",
       "      <th>2019</th>\n",
       "      <td>8810</td>\n",
       "      <td>1216</td>\n",
       "      <td>13.80</td>\n",
       "    </tr>\n",
       "    <tr>\n",
       "      <th>2020</th>\n",
       "      <td>459</td>\n",
       "      <td>67</td>\n",
       "      <td>14.60</td>\n",
       "    </tr>\n",
       "  </tbody>\n",
       "</table>\n",
       "</div>"
      ],
      "text/plain": [
       "              All Posts  Deep Learning Posts  Percentage Deep Learning\n",
       "CreationDate                                                          \n",
       "2014                562                    8                      1.42\n",
       "2015               1167                   30                      2.57\n",
       "2016               2146                  157                      7.32\n",
       "2017               2957                  425                     14.37\n",
       "2018               5475                  902                     16.47\n",
       "2019               8810                 1216                     13.80\n",
       "2020                459                   67                     14.60"
      ]
     },
     "execution_count": 615,
     "metadata": {},
     "output_type": "execute_result"
    }
   ],
   "source": [
    "merged = pd.concat([all_count, deep_count], axis=1)\n",
    "merged.columns = ['All Posts', 'Deep Learning Posts']\n",
    "merged['Percentage Deep Learning'] = round(merged['Deep Learning Posts']*100.0/merged['All Posts'],2)\n",
    "merged"
   ]
  },
  {
   "cell_type": "code",
   "execution_count": 616,
   "metadata": {},
   "outputs": [
    {
     "data": {
      "text/plain": [
       "<AxesSubplot:title={'center':'Number of Deep Learning Posts Per Year'}, xlabel='Year'>"
      ]
     },
     "execution_count": 616,
     "metadata": {},
     "output_type": "execute_result"
    },
    {
     "data": {
      "image/png": "[encoded data removed]",
      "text/plain": [
       "<Figure size 432x288 with 1 Axes>"
      ]
     },
     "metadata": {},
     "output_type": "display_data"
    }
   ],
   "source": [
    "deep['CreationDate'].groupby(deep[\"CreationDate\"].dt.year).count().plot(\n",
    "    kind=\"bar\", colormap='Wistia', xlabel='Year', title='Number of Deep Learning Posts Per Year')"
   ]
  },
  {
   "cell_type": "markdown",
   "metadata": {},
   "source": [
    "As we can see in the figure above, deep learning has continued to grow in interest since 2014. The reason for the small figure in 2020 is that there is only the month of January to account for that year.\n",
    "\n",
    "## Assocation Rules Analysis\n",
    "\n",
    "We will next look at content that we can recommend that isn't as popular. Using association rules, let's find out what content to recommend based on strong relations with popular content. Let's use **machine-learning** as our tag of interest."
   ]
  },
  {
   "attachments": {
    "image.png": {
     "image/png": "[encoded data removed]"
    }
   },
   "cell_type": "markdown",
   "metadata": {},
   "source": [
    "### Calculating Support Values\n",
    "\n",
    "Support gives an idea of how frequent an itemset is in all of the groups. It is calculated as following:\n",
    "\n",
    "![image.png](attachment:image.png)\n",
    "\n",
    "First, we will generate the itemsets from the list of tags."
   ]
  },
  {
   "cell_type": "code",
   "execution_count": 617,
   "metadata": {},
   "outputs": [
    {
     "data": {
      "text/plain": [
       "0                      [data-mining, machine-learning]\n",
       "1    [linear-regression, machine-learning, regressi...\n",
       "2         [forecast, forecasting, python, time-series]\n",
       "3                [machine-learning, pca, scikit-learn]\n",
       "4             [bigdata, data, dataset, speech-to-text]\n",
       "Name: Tags, dtype: object"
      ]
     },
     "execution_count": 617,
     "metadata": {},
     "output_type": "execute_result"
    }
   ],
   "source": [
    "# Sort the itemsets to be able to group them since lists are unhashable\n",
    "sorts = se_data['Tags'].apply(lambda x: sorted(x))\n",
    "sorts.head()"
   ]
  },
  {
   "cell_type": "code",
   "execution_count": 618,
   "metadata": {},
   "outputs": [
    {
     "data": {
      "text/plain": [
       "8839"
      ]
     },
     "execution_count": 618,
     "metadata": {},
     "output_type": "execute_result"
    }
   ],
   "source": [
    "# For future calculations\n",
    "num_rows = len(sorts)\n",
    "num_rows"
   ]
  },
  {
   "cell_type": "markdown",
   "metadata": {},
   "source": [
    "Since we are only interested in itemsets with machine-learning, let's first filter for rows without machine-learning. We will also filter out single item lists."
   ]
  },
  {
   "cell_type": "code",
   "execution_count": 619,
   "metadata": {},
   "outputs": [
    {
     "data": {
      "text/plain": [
       "0                       [data-mining, machine-learning]\n",
       "1     [linear-regression, machine-learning, regressi...\n",
       "3                 [machine-learning, pca, scikit-learn]\n",
       "9     [cnn, deep-learning, keras, machine-learning, ...\n",
       "11                           [machine-learning, theory]\n",
       "Name: Tags, dtype: object"
      ]
     },
     "execution_count": 619,
     "metadata": {},
     "output_type": "execute_result"
    }
   ],
   "source": [
    "mask = sorts.apply(\n",
    "    lambda row: \n",
    "    'machine-learning' in row\n",
    "    and (True if len(row) > 1 else False)\n",
    ")\n",
    "row_results = sorts[mask]\n",
    "row_results.head()"
   ]
  },
  {
   "cell_type": "code",
   "execution_count": 620,
   "metadata": {},
   "outputs": [
    {
     "data": {
      "text/plain": [
       "2575"
      ]
     },
     "execution_count": 620,
     "metadata": {},
     "output_type": "execute_result"
    }
   ],
   "source": [
    "len(row_results)"
   ]
  },
  {
   "cell_type": "markdown",
   "metadata": {},
   "source": [
    "Next, we will calculate the support values by converting into tuples and grouping and dividing by the total number of rows."
   ]
  },
  {
   "cell_type": "code",
   "execution_count": 621,
   "metadata": {},
   "outputs": [
    {
     "data": {
      "text/plain": [
       "Tags                                             \n",
       "(machine-learning, python)                           0.002602\n",
       "(machine-learning, neural-network)                   0.002376\n",
       "(deep-learning, machine-learning)                    0.002036\n",
       "(classification, machine-learning)                   0.001923\n",
       "(deep-learning, machine-learning, neural-network)    0.001810\n",
       "(machine-learning, python, scikit-learn)             0.001697\n",
       "(machine-learning, regression)                       0.001584\n",
       "(decision-trees, machine-learning)                   0.001358\n",
       "(machine-learning, svm)                              0.001358\n",
       "(machine-learning, statistics)                       0.001244\n",
       "dtype: float64"
      ]
     },
     "execution_count": 621,
     "metadata": {},
     "output_type": "execute_result"
    }
   ],
   "source": [
    "results = row_results.apply(tuple).to_frame().value_counts()/num_rows\n",
    "results.head(10)"
   ]
  },
  {
   "cell_type": "markdown",
   "metadata": {},
   "source": [
    "Now, let's see the plot of values in order to get a sense of where to create a minimum support threshold."
   ]
  },
  {
   "cell_type": "code",
   "execution_count": 656,
   "metadata": {},
   "outputs": [
    {
     "data": {
      "text/plain": [
       "<AxesSubplot:>"
      ]
     },
     "execution_count": 656,
     "metadata": {},
     "output_type": "execute_result"
    },
    {
     "data": {
      "image/png": "[encoded data removed]",
      "text/plain": [
       "<Figure size 432x288 with 1 Axes>"
      ]
     },
     "metadata": {},
     "output_type": "display_data"
    }
   ],
   "source": [
    "results.reset_index().plot(legend=False,colormap='hot')"
   ]
  },
  {
   "cell_type": "markdown",
   "metadata": {},
   "source": [
    "We could calculate the second derivative to get this minimum. Looking at the graph, if it was smoothed, we can see it somewhere between 0.0000 and 0.0005. For now, we'll just index the first set of values that are above 10% of the highest value."
   ]
  },
  {
   "cell_type": "code",
   "execution_count": 623,
   "metadata": {},
   "outputs": [
    {
     "data": {
      "text/plain": [
       "91"
      ]
     },
     "execution_count": 623,
     "metadata": {},
     "output_type": "execute_result"
    }
   ],
   "source": [
    "cutoff = np.where(results > results[0]*0.1)[0][-1]\n",
    "cutoff"
   ]
  },
  {
   "cell_type": "code",
   "execution_count": 624,
   "metadata": {},
   "outputs": [],
   "source": [
    "itemsets = results[:cutoff]"
   ]
  },
  {
   "cell_type": "markdown",
   "metadata": {},
   "source": [
    "To get the unique items and drop machine-learning which should be the first value in results:"
   ]
  },
  {
   "cell_type": "code",
   "execution_count": 625,
   "metadata": {},
   "outputs": [
    {
     "data": {
      "text/html": [
       "<div>\n",
       "<style scoped>\n",
       "    .dataframe tbody tr th:only-of-type {\n",
       "        vertical-align: middle;\n",
       "    }\n",
       "\n",
       "    .dataframe tbody tr th {\n",
       "        vertical-align: top;\n",
       "    }\n",
       "\n",
       "    .dataframe thead th {\n",
       "        text-align: right;\n",
       "    }\n",
       "</style>\n",
       "<table border=\"1\" class=\"dataframe\">\n",
       "  <thead>\n",
       "    <tr style=\"text-align: right;\">\n",
       "      <th></th>\n",
       "      <th>Tags</th>\n",
       "    </tr>\n",
       "  </thead>\n",
       "  <tbody>\n",
       "    <tr>\n",
       "      <th>1</th>\n",
       "      <td>python</td>\n",
       "    </tr>\n",
       "    <tr>\n",
       "      <th>2</th>\n",
       "      <td>neural-network</td>\n",
       "    </tr>\n",
       "    <tr>\n",
       "      <th>3</th>\n",
       "      <td>deep-learning</td>\n",
       "    </tr>\n",
       "    <tr>\n",
       "      <th>4</th>\n",
       "      <td>classification</td>\n",
       "    </tr>\n",
       "    <tr>\n",
       "      <th>5</th>\n",
       "      <td>scikit-learn</td>\n",
       "    </tr>\n",
       "  </tbody>\n",
       "</table>\n",
       "</div>"
      ],
      "text/plain": [
       "             Tags\n",
       "1          python\n",
       "2  neural-network\n",
       "3   deep-learning\n",
       "4  classification\n",
       "5    scikit-learn"
      ]
     },
     "execution_count": 625,
     "metadata": {},
     "output_type": "execute_result"
    }
   ],
   "source": [
    "items = itemsets.to_frame().reset_index().explode('Tags')['Tags'].drop_duplicates().reset_index(drop=True).to_frame()\n",
    "items = items.iloc[1: , :]\n",
    "items.head()"
   ]
  },
  {
   "attachments": {
    "image.png": {
     "image/png": "[encoded data removed]"
    }
   },
   "cell_type": "markdown",
   "metadata": {},
   "source": [
    "### Calculating Confidence Values\n",
    "\n",
    "Confidence defines the likeliness of occurrence of consequent on the cart given that the group already has the antecedents.\n",
    "\n",
    "![image.png](attachment:image.png)\n",
    "\n",
    "Since we have 1 antecedent (machine-learning), we will see the confidences of other the other 57 tags depending on machine-learning."
   ]
  },
  {
   "cell_type": "code",
   "execution_count": 626,
   "metadata": {},
   "outputs": [
    {
     "data": {
      "text/plain": [
       "2693"
      ]
     },
     "execution_count": 626,
     "metadata": {},
     "output_type": "execute_result"
    }
   ],
   "source": [
    "# Get the denominator\n",
    "machine_learning_count = used['machine-learning']\n",
    "machine_learning_count"
   ]
  },
  {
   "cell_type": "code",
   "execution_count": 627,
   "metadata": {},
   "outputs": [],
   "source": [
    "# Create numeric column\n",
    "items['Confidence'] = 0.0"
   ]
  },
  {
   "cell_type": "code",
   "execution_count": 628,
   "metadata": {},
   "outputs": [],
   "source": [
    "# Knowing that the results df already has machine-learning in each row\n",
    "# We just need to check for the item and divide by denominator\n",
    "for item in items['Tags']:\n",
    "    items.loc[items['Tags'] == item,'Confidence'] = row_results.apply(\n",
    "        lambda row: item in row).sum() / machine_learning_count"
   ]
  },
  {
   "cell_type": "code",
   "execution_count": 629,
   "metadata": {},
   "outputs": [
    {
     "data": {
      "text/html": [
       "<div>\n",
       "<style scoped>\n",
       "    .dataframe tbody tr th:only-of-type {\n",
       "        vertical-align: middle;\n",
       "    }\n",
       "\n",
       "    .dataframe tbody tr th {\n",
       "        vertical-align: top;\n",
       "    }\n",
       "\n",
       "    .dataframe thead th {\n",
       "        text-align: right;\n",
       "    }\n",
       "</style>\n",
       "<table border=\"1\" class=\"dataframe\">\n",
       "  <thead>\n",
       "    <tr style=\"text-align: right;\">\n",
       "      <th></th>\n",
       "      <th>Consequent</th>\n",
       "      <th>Confidence</th>\n",
       "    </tr>\n",
       "  </thead>\n",
       "  <tbody>\n",
       "    <tr>\n",
       "      <th>1</th>\n",
       "      <td>python</td>\n",
       "      <td>0.185295</td>\n",
       "    </tr>\n",
       "    <tr>\n",
       "      <th>3</th>\n",
       "      <td>deep-learning</td>\n",
       "      <td>0.159302</td>\n",
       "    </tr>\n",
       "    <tr>\n",
       "      <th>2</th>\n",
       "      <td>neural-network</td>\n",
       "      <td>0.135908</td>\n",
       "    </tr>\n",
       "    <tr>\n",
       "      <th>4</th>\n",
       "      <td>classification</td>\n",
       "      <td>0.096175</td>\n",
       "    </tr>\n",
       "    <tr>\n",
       "      <th>16</th>\n",
       "      <td>keras</td>\n",
       "      <td>0.072410</td>\n",
       "    </tr>\n",
       "  </tbody>\n",
       "</table>\n",
       "</div>"
      ],
      "text/plain": [
       "        Consequent  Confidence\n",
       "1           python    0.185295\n",
       "3    deep-learning    0.159302\n",
       "2   neural-network    0.135908\n",
       "4   classification    0.096175\n",
       "16           keras    0.072410"
      ]
     },
     "execution_count": 629,
     "metadata": {},
     "output_type": "execute_result"
    }
   ],
   "source": [
    "# Let's rename the Tags column to what it is: the Consequent column\n",
    "items = items.rename({'Tags':'Consequent'},axis=1).sort_values('Confidence',ascending=False)\n",
    "items.head()"
   ]
  },
  {
   "attachments": {
    "image.png": {
     "image/png": "[encoded data removed]"
    }
   },
   "cell_type": "markdown",
   "metadata": {},
   "source": [
    "Above, we can see that the consequent confidence values with the consequent 'machine-learning'. Now, for the final act, we must get the lift values.\n",
    "\n",
    "### Calculating Lift Values\n",
    "\n",
    "Lift controls for the support (frequency) of the consequent while calculating the conditional probability of occurrence of {Y} given {X}.\n",
    "\n",
    "![image.png](attachment:image.png)\n",
    "\n",
    "Since we have the top part of the equation, we just divide by the fraction of transactions with the consequent to get the lift."
   ]
  },
  {
   "cell_type": "code",
   "execution_count": 630,
   "metadata": {},
   "outputs": [],
   "source": [
    "items['Lift'] = 0.0"
   ]
  },
  {
   "cell_type": "code",
   "execution_count": 631,
   "metadata": {},
   "outputs": [],
   "source": [
    "for item in items['Consequent']:\n",
    "    items.loc[items['Consequent'] == item,'Lift'] = \\\n",
    "    items.loc[items['Consequent'] == item,'Confidence'] / (float(used[item]) / num_rows)"
   ]
  },
  {
   "cell_type": "code",
   "execution_count": 632,
   "metadata": {},
   "outputs": [
    {
     "data": {
      "text/html": [
       "<div>\n",
       "<style scoped>\n",
       "    .dataframe tbody tr th:only-of-type {\n",
       "        vertical-align: middle;\n",
       "    }\n",
       "\n",
       "    .dataframe tbody tr th {\n",
       "        vertical-align: top;\n",
       "    }\n",
       "\n",
       "    .dataframe thead th {\n",
       "        text-align: right;\n",
       "    }\n",
       "</style>\n",
       "<table border=\"1\" class=\"dataframe\">\n",
       "  <thead>\n",
       "    <tr style=\"text-align: right;\">\n",
       "      <th></th>\n",
       "      <th>Consequent</th>\n",
       "      <th>Confidence</th>\n",
       "      <th>Lift</th>\n",
       "    </tr>\n",
       "  </thead>\n",
       "  <tbody>\n",
       "    <tr>\n",
       "      <th>12</th>\n",
       "      <td>machine-learning-model</td>\n",
       "      <td>0.051615</td>\n",
       "      <td>2.036730</td>\n",
       "    </tr>\n",
       "    <tr>\n",
       "      <th>45</th>\n",
       "      <td>kaggle</td>\n",
       "      <td>0.008912</td>\n",
       "      <td>1.831933</td>\n",
       "    </tr>\n",
       "    <tr>\n",
       "      <th>29</th>\n",
       "      <td>k-nn</td>\n",
       "      <td>0.008912</td>\n",
       "      <td>1.575462</td>\n",
       "    </tr>\n",
       "    <tr>\n",
       "      <th>28</th>\n",
       "      <td>data-science-model</td>\n",
       "      <td>0.033049</td>\n",
       "      <td>1.570521</td>\n",
       "    </tr>\n",
       "    <tr>\n",
       "      <th>23</th>\n",
       "      <td>predictive-modeling</td>\n",
       "      <td>0.045674</td>\n",
       "      <td>1.523442</td>\n",
       "    </tr>\n",
       "  </tbody>\n",
       "</table>\n",
       "</div>"
      ],
      "text/plain": [
       "                Consequent  Confidence      Lift\n",
       "12  machine-learning-model    0.051615  2.036730\n",
       "45                  kaggle    0.008912  1.831933\n",
       "29                    k-nn    0.008912  1.575462\n",
       "28      data-science-model    0.033049  1.570521\n",
       "23     predictive-modeling    0.045674  1.523442"
      ]
     },
     "execution_count": 632,
     "metadata": {},
     "output_type": "execute_result"
    }
   ],
   "source": [
    "items = items.sort_values('Lift',ascending=False)\n",
    "items.head()"
   ]
  },
  {
   "cell_type": "markdown",
   "metadata": {},
   "source": [
    "A value of lift less than 1 shows that having machine-learning {X} tagged does not increase the chances of occurrence of the consequent {Y} being tagged in spite of the rule showing a high confidence value. A value of lift greater than 1 vouches for high association between {Y} and {X}. The higher the value of lift, the greater the chances of preference for {Y} in the content given {X}.\n",
    "\n",
    "Finally, let's see how popular the content above is in order to select for content that isn't as popular, but should be."
   ]
  },
  {
   "cell_type": "code",
   "execution_count": 633,
   "metadata": {},
   "outputs": [
    {
     "data": {
      "text/html": [
       "<div>\n",
       "<style scoped>\n",
       "    .dataframe tbody tr th:only-of-type {\n",
       "        vertical-align: middle;\n",
       "    }\n",
       "\n",
       "    .dataframe tbody tr th {\n",
       "        vertical-align: top;\n",
       "    }\n",
       "\n",
       "    .dataframe thead th {\n",
       "        text-align: right;\n",
       "    }\n",
       "</style>\n",
       "<table border=\"1\" class=\"dataframe\">\n",
       "  <thead>\n",
       "    <tr style=\"text-align: right;\">\n",
       "      <th></th>\n",
       "      <th>Consequent</th>\n",
       "      <th>Rank</th>\n",
       "    </tr>\n",
       "  </thead>\n",
       "  <tbody>\n",
       "    <tr>\n",
       "      <th>0</th>\n",
       "      <td>machine-learning</td>\n",
       "      <td>1</td>\n",
       "    </tr>\n",
       "    <tr>\n",
       "      <th>1</th>\n",
       "      <td>python</td>\n",
       "      <td>2</td>\n",
       "    </tr>\n",
       "    <tr>\n",
       "      <th>2</th>\n",
       "      <td>deep-learning</td>\n",
       "      <td>3</td>\n",
       "    </tr>\n",
       "    <tr>\n",
       "      <th>3</th>\n",
       "      <td>neural-network</td>\n",
       "      <td>4</td>\n",
       "    </tr>\n",
       "    <tr>\n",
       "      <th>4</th>\n",
       "      <td>keras</td>\n",
       "      <td>5</td>\n",
       "    </tr>\n",
       "  </tbody>\n",
       "</table>\n",
       "</div>"
      ],
      "text/plain": [
       "         Consequent  Rank\n",
       "0  machine-learning     1\n",
       "1            python     2\n",
       "2     deep-learning     3\n",
       "3    neural-network     4\n",
       "4             keras     5"
      ]
     },
     "execution_count": 633,
     "metadata": {},
     "output_type": "execute_result"
    }
   ],
   "source": [
    "rankings = pd.DataFrame((used.index))\n",
    "rankings['Rank'] = rankings.index + 1\n",
    "rankings = rankings.rename({0:'Consequent'},axis=1)\n",
    "rankings.head()"
   ]
  },
  {
   "cell_type": "code",
   "execution_count": 639,
   "metadata": {},
   "outputs": [],
   "source": [
    "ranked_items = items.merge(rankings,on='Consequent')"
   ]
  },
  {
   "cell_type": "code",
   "execution_count": 645,
   "metadata": {},
   "outputs": [
    {
     "data": {
      "text/html": [
       "<div>\n",
       "<style scoped>\n",
       "    .dataframe tbody tr th:only-of-type {\n",
       "        vertical-align: middle;\n",
       "    }\n",
       "\n",
       "    .dataframe tbody tr th {\n",
       "        vertical-align: top;\n",
       "    }\n",
       "\n",
       "    .dataframe thead th {\n",
       "        text-align: right;\n",
       "    }\n",
       "</style>\n",
       "<table border=\"1\" class=\"dataframe\">\n",
       "  <thead>\n",
       "    <tr style=\"text-align: right;\">\n",
       "      <th></th>\n",
       "      <th>Consequent</th>\n",
       "      <th>Confidence</th>\n",
       "      <th>Lift</th>\n",
       "      <th>Rank</th>\n",
       "    </tr>\n",
       "  </thead>\n",
       "  <tbody>\n",
       "    <tr>\n",
       "      <th>11</th>\n",
       "      <td>hardware</td>\n",
       "      <td>0.001857</td>\n",
       "      <td>1.367589</td>\n",
       "      <td>237</td>\n",
       "    </tr>\n",
       "    <tr>\n",
       "      <th>12</th>\n",
       "      <td>matrix-factorisation</td>\n",
       "      <td>0.003713</td>\n",
       "      <td>1.367589</td>\n",
       "      <td>168</td>\n",
       "    </tr>\n",
       "    <tr>\n",
       "      <th>28</th>\n",
       "      <td>q-learning</td>\n",
       "      <td>0.004456</td>\n",
       "      <td>1.064502</td>\n",
       "      <td>121</td>\n",
       "    </tr>\n",
       "    <tr>\n",
       "      <th>1</th>\n",
       "      <td>kaggle</td>\n",
       "      <td>0.008912</td>\n",
       "      <td>1.831933</td>\n",
       "      <td>105</td>\n",
       "    </tr>\n",
       "    <tr>\n",
       "      <th>5</th>\n",
       "      <td>boosting</td>\n",
       "      <td>0.008169</td>\n",
       "      <td>1.473647</td>\n",
       "      <td>97</td>\n",
       "    </tr>\n",
       "  </tbody>\n",
       "</table>\n",
       "</div>"
      ],
      "text/plain": [
       "              Consequent  Confidence      Lift  Rank\n",
       "11              hardware    0.001857  1.367589   237\n",
       "12  matrix-factorisation    0.003713  1.367589   168\n",
       "28            q-learning    0.004456  1.064502   121\n",
       "1                 kaggle    0.008912  1.831933   105\n",
       "5               boosting    0.008169  1.473647    97"
      ]
     },
     "execution_count": 645,
     "metadata": {},
     "output_type": "execute_result"
    }
   ],
   "source": [
    "ranked_items[(ranked_items['Lift'] > 1)].sort_values('Rank',ascending=False).head()"
   ]
  },
  {
   "cell_type": "code",
   "execution_count": 647,
   "metadata": {},
   "outputs": [
    {
     "data": {
      "text/plain": [
       "0     7607\n",
       "1      953\n",
       "2      205\n",
       "3       43\n",
       "4       12\n",
       "5        8\n",
       "7        4\n",
       "6        4\n",
       "11       1\n",
       "16       1\n",
       "8        1\n",
       "Name: FavoriteCount, dtype: int64"
      ]
     },
     "execution_count": 647,
     "metadata": {},
     "output_type": "execute_result"
    }
   ],
   "source": [
    "se_data['FavoriteCount'].value_counts()"
   ]
  },
  {
   "cell_type": "markdown",
   "metadata": {},
   "source": [
    "Seen above, we can recommend the above consequents to go alongside machine-learning. The rankings go from 1 to 526, so some of the topics are not as popular.\n",
    "\n",
    "## Other Popularity Features\n",
    "\n",
    "Finally, let's look at scores and favourite counts to get the top tags for those categories."
   ]
  },
  {
   "cell_type": "code",
   "execution_count": 654,
   "metadata": {},
   "outputs": [
    {
     "data": {
      "text/plain": [
       "Tags\n",
       "data-wrangling              4.600000\n",
       "summarunner-architecture    4.000000\n",
       "data-product                3.666667\n",
       ".net                        3.000000\n",
       "proximal-svm                3.000000\n",
       "Name: Score, dtype: float64"
      ]
     },
     "execution_count": 654,
     "metadata": {},
     "output_type": "execute_result"
    }
   ],
   "source": [
    "scores = se_data.explode('Tags').groupby('Tags')['Score'].mean().sort_values(ascending=False)\n",
    "scores.head()"
   ]
  },
  {
   "cell_type": "code",
   "execution_count": 655,
   "metadata": {},
   "outputs": [
    {
     "data": {
      "text/plain": [
       "Tags\n",
       "machine-learning    2515\n",
       "python              1475\n",
       "deep-learning       1127\n",
       "neural-network      1021\n",
       "keras                785\n",
       "Name: Score, dtype: int64"
      ]
     },
     "execution_count": 655,
     "metadata": {},
     "output_type": "execute_result"
    }
   ],
   "source": [
    "favorites = se_data.explode('Tags').groupby('Tags')['Score'].sum().sort_values(ascending=False)\n",
    "favorites.head()"
   ]
  },
  {
   "cell_type": "code",
   "execution_count": 658,
   "metadata": {},
   "outputs": [
    {
     "data": {
      "text/plain": [
       "<AxesSubplot:title={'center':'Total Favorites'}, xlabel='Tags'>"
      ]
     },
     "execution_count": 658,
     "metadata": {},
     "output_type": "execute_result"
    },
    {
     "data": {
      "image/png": "[encoded data removed]",
      "text/plain": [
       "<Figure size 720x432 with 2 Axes>"
      ]
     },
     "metadata": {},
     "output_type": "display_data"
    }
   ],
   "source": [
    "plt.figure(figsize=(10, 6))\n",
    "plt.subplot(1,2,1)\n",
    "plt.title('Average Score')\n",
    "plt.xlabel('Tags')\n",
    "scores.head().plot(kind='bar', colormap='afmhot')\n",
    "plt.subplot(1,2,2)\n",
    "plt.title('Total Favorites')\n",
    "favorites.head().plot(kind='bar', colormap='gist_heat')"
   ]
  },
  {
   "cell_type": "markdown",
   "metadata": {},
   "source": [
    "## Conclusions\n",
    "\n",
    "While we focused on DSSE, other related data science sites such as Kaggle can help us analyze more data and topics. This type of analysis done above can also be done to other sites that use a tag system to explicitly distinguish the types of content inside."
   ]
  }
 ],
 "metadata": {
  "kernelspec": {
   "display_name": "Python 3 (ipykernel)",
   "language": "python",
   "name": "python3"
  },
  "language_info": {
   "codemirror_mode": {
    "name": "ipython",
    "version": 3
   },
   "file_extension": ".py",
   "mimetype": "text/x-python",
   "name": "python",
   "nbconvert_exporter": "python",
   "pygments_lexer": "ipython3",
   "version": "3.10.0"
  }
 },
 "nbformat": 4,
 "nbformat_minor": 2
}
