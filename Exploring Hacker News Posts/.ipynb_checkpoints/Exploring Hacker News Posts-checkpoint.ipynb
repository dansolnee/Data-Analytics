{
 "cells": [
  {
   "cell_type": "markdown",
   "metadata": {
    "collapsed": true
   },
   "source": [
    "# Exploring Hacker News Posts\n",
    "\n",
    "This project looks at the posts that make it to the top of Hacker New's listings (a site started by the startup incubator Y Combinator). These listings can get hundreds of thousands of visitors, and it would be interesting to explore the submissions. The dataset is found [here](https://www.kaggle.com/hacker-news/hacker-news).\n",
    "\n",
    "First we'll take a look at the provided csv taken from a scrape of their site and provided on Kaggle:"
   ]
  },
  {
   "cell_type": "code",
   "execution_count": 1,
   "metadata": {},
   "outputs": [
    {
     "name": "stdout",
     "output_type": "stream",
     "text": [
      "['0: id', '1: title', '2: url', '3: num_points', '4: num_comments', '5: author', '6: created_at']\n",
      "\n",
      "\n",
      "['12224879', 'Interactive Dynamic Video', 'http://www.interactivedynamicvideo.com/', '386', '52', 'ne0phyte', '8/4/2016 11:52']\n",
      "\n",
      "\n",
      "['10975351', 'How to Use Open Source and Shut the Fuck Up at the Same Time', 'http://hueniverse.com/2016/01/26/how-to-use-open-source-and-shut-the-fuck-up-at-the-same-time/', '39', '10', 'josep2', '1/26/2016 19:30']\n",
      "\n",
      "\n",
      "['11964716', \"Florida DJs May Face Felony for April Fools' Water Joke\", 'http://www.thewire.com/entertainment/2013/04/florida-djs-april-fools-water-joke/63798/', '2', '1', 'vezycash', '6/23/2016 22:20']\n",
      "\n",
      "\n",
      "['11919867', 'Technology ventures: From Idea to Enterprise', 'https://www.amazon.com/Technology-Ventures-Enterprise-Thomas-Byers/dp/0073523429', '3', '1', 'hswarna', '6/17/2016 0:01']\n",
      "\n",
      "\n",
      "['10301696', 'Note by Note: The Making of Steinway L1037 (2007)', 'http://www.nytimes.com/2007/11/07/movies/07stein.html?_r=0', '8', '2', 'walterbell', '9/30/2015 4:12']\n",
      "\n",
      "\n"
     ]
    }
   ],
   "source": [
    "from csv import reader\n",
    "\n",
    "with open('hacker_news.csv') as f:\n",
    "    hn = list(reader(f))\n",
    "    \n",
    "# Print headers with indices\n",
    "print([str(element[1]) + ': ' + element[0] for element in zip(hn[0],range(len(hn[0])))])\n",
    "print('\\n')\n",
    "    \n",
    "for i in range(1,6):\n",
    "    print(hn[i])\n",
    "    print('\\n')"
   ]
  },
  {
   "cell_type": "markdown",
   "metadata": {},
   "source": [
    "## Investigating Types of Posts\n",
    "\n",
    "We'll first look at which of the types of posts would merit more investigation."
   ]
  },
  {
   "cell_type": "code",
   "execution_count": 2,
   "metadata": {},
   "outputs": [
    {
     "name": "stdout",
     "output_type": "stream",
     "text": [
      "# of ask posts: 1744\n",
      "# of show posts: 1162\n",
      "# of other posts: 17194\n"
     ]
    }
   ],
   "source": [
    "ask_posts = []\n",
    "show_posts = []\n",
    "other_posts = []\n",
    "\n",
    "# To categorize, ask and show posts are prefixed with those titles\n",
    "for row in hn[1:]:\n",
    "    title = row[1].lower()\n",
    "    if title.startswith('ask hn'):\n",
    "        ask_posts.append(row)\n",
    "    elif title.startswith('show hn'):\n",
    "        show_posts.append(row)\n",
    "    else: \n",
    "        other_posts.append(row)\n",
    "        \n",
    "print('# of ask posts: ' + str(len(ask_posts)))\n",
    "print('# of show posts: ' + str(len(show_posts)))\n",
    "print('# of other posts: ' + str(len(other_posts)))"
   ]
  },
  {
   "cell_type": "code",
   "execution_count": 3,
   "metadata": {},
   "outputs": [
    {
     "name": "stdout",
     "output_type": "stream",
     "text": [
      "The average number of comments on Ask Posts is: 14\n",
      "The average number of comments on Show Posts is: 10\n",
      "The average number of comments on Other Posts is: 27\n"
     ]
    }
   ],
   "source": [
    "num_comments_idx = 4\n",
    "\n",
    "def avg_comments(posts: list[any], post_name: str) -> None:\n",
    "    '''\n",
    "    Takes a list of posts and outputs the average number of comments along with the string of the list's name\n",
    "    '''\n",
    "    total_comments = 0\n",
    "    all_posts = len(posts)\n",
    "    for post in posts:\n",
    "        total_comments += int(post[num_comments_idx])\n",
    "    avg_comments = total_comments / all_posts\n",
    "    print('The average number of comments on ' + post_name + ' is: ' + '{:.0f}'.format(avg_comments))\n",
    "\n",
    "avg_comments(ask_posts, 'Ask Posts')\n",
    "avg_comments(show_posts, 'Show Posts')\n",
    "avg_comments(other_posts, 'Other Posts')"
   ]
  },
  {
   "cell_type": "markdown",
   "metadata": {},
   "source": [
    "The Ask Posts have a higher number of comments per post excluding the Other Posts which we will ignore in this analysis. Thus, we will be continuing the analysis of the Ask Posts."
   ]
  },
  {
   "cell_type": "markdown",
   "metadata": {},
   "source": [
    "## What is the Best Time to Ask an Ask Post?\n",
    "\n",
    "We'll build a frequency table to find out when ask posts get the highest average comments."
   ]
  },
  {
   "cell_type": "code",
   "execution_count": 4,
   "metadata": {},
   "outputs": [],
   "source": [
    "created_at_idx = 6\n",
    "num_points_idx = 3\n",
    "\n",
    "import datetime as dt\n",
    "\n",
    "# Begin generation of frequency table\n",
    "def avg_count_per_hour(posts: list[any], stat_idx: int) -> list[int]:\n",
    "    '''\n",
    "    Returns a list of the average statistic value per hour\n",
    "    '''\n",
    "    counts_by_hour = {}\n",
    "    stat_by_hour = {}\n",
    "    avg_by_hour = []\n",
    "    for row in posts:\n",
    "        date = dt.datetime.strptime(row[created_at_idx], '%m/%d/%Y %H:%M')\n",
    "        hour = date.strftime('%H')\n",
    "        \n",
    "        if hour in counts_by_hour:\n",
    "            counts_by_hour[hour] += 1\n",
    "            stat_by_hour[hour] += int(row[stat_idx])\n",
    "        else:\n",
    "            counts_by_hour[hour] = 1\n",
    "            stat_by_hour[hour] = int(row[stat_idx])\n",
    "    \n",
    "    for key in counts_by_hour:\n",
    "        avg_stat = stat_by_hour[key] / counts_by_hour[key]\n",
    "        avg_for_hour = [key, avg_stat]\n",
    "        avg_by_hour.append(avg_for_hour)\n",
    "    \n",
    "    return avg_by_hour"
   ]
  },
  {
   "cell_type": "code",
   "execution_count": 5,
   "metadata": {},
   "outputs": [
    {
     "name": "stdout",
     "output_type": "stream",
     "text": [
      "Hour 00: 8\n",
      "Hour 01: 11\n",
      "Hour 02: 24\n",
      "Hour 03: 8\n",
      "Hour 04: 7\n",
      "Hour 05: 10\n",
      "Hour 06: 9\n",
      "Hour 07: 8\n",
      "Hour 08: 10\n",
      "Hour 09: 6\n",
      "Hour 10: 13\n",
      "Hour 11: 11\n",
      "Hour 12: 9\n",
      "Hour 13: 15\n",
      "Hour 14: 13\n",
      "Hour 15: 39\n",
      "Hour 16: 17\n",
      "Hour 17: 11\n",
      "Hour 18: 13\n",
      "Hour 19: 11\n",
      "Hour 20: 22\n",
      "Hour 21: 16\n",
      "Hour 22: 7\n",
      "Hour 23: 8\n"
     ]
    }
   ],
   "source": [
    "avg_comments_by_hour = avg_count_per_hour(ask_posts, num_comments_idx)\n",
    "\n",
    "avg_comments_by_hour.sort()\n",
    "for hour_avg in avg_comments_by_hour:\n",
    "    print('Hour '+str(hour_avg[0])+': {:.0f}'.format(hour_avg[1]))"
   ]
  },
  {
   "cell_type": "code",
   "execution_count": 6,
   "metadata": {},
   "outputs": [
    {
     "name": "stdout",
     "output_type": "stream",
     "text": [
      "Top 5 Hours for Ask Posts Comments\n",
      "15:00: 39 average comments per post\n",
      "02:00: 24 average comments per post\n",
      "20:00: 22 average comments per post\n",
      "16:00: 17 average comments per post\n",
      "21:00: 16 average comments per post\n"
     ]
    }
   ],
   "source": [
    "from operator import itemgetter, attrgetter\n",
    "\n",
    "sorted_swap = sorted(avg_comments_by_hour,key=itemgetter(1),reverse=True)\n",
    "print('Top 5 Hours for Ask Posts Comments')\n",
    "\n",
    "txt = '{hour}:00: {avg:.0f} average comments per post'\n",
    "for i in range(5):\n",
    "    hour = sorted_swap[i][0]\n",
    "    avg = float((sorted_swap[i][1]))\n",
    "    print(txt.format(hour=hour, avg=avg))"
   ]
  },
  {
   "cell_type": "markdown",
   "metadata": {},
   "source": [
    "The best time to be posting Ask Posts is 15:00 (3:00 PM)."
   ]
  },
  {
   "cell_type": "markdown",
   "metadata": {},
   "source": [
    "## Further Investigations Between Ask and Show Posts\n",
    "\n",
    "First, we'll look at if show or asks posts receive more points on average."
   ]
  },
  {
   "cell_type": "code",
   "execution_count": 7,
   "metadata": {},
   "outputs": [
    {
     "name": "stdout",
     "output_type": "stream",
     "text": [
      "The average number of points on Ask Posts is: 15\n",
      "The average number of points on Show Posts is: 28\n",
      "The average number of points on Other Posts is: 55\n"
     ]
    }
   ],
   "source": [
    "def avg_points(posts: list[any], post_name: str) -> None:\n",
    "    '''\n",
    "    Prints the average number of posts for a type of post given by the list and name of the post list\n",
    "    '''\n",
    "    total_points = 0\n",
    "    all_posts = len(posts)\n",
    "    for post in posts:\n",
    "        total_points += int(post[num_points_idx])\n",
    "    avg_points = total_points / all_posts\n",
    "    print('The average number of points on ' + post_name + ' is: ' + '{:.0f}'.format(avg_points))\n",
    "    \n",
    "avg_points(ask_posts, 'Ask Posts')\n",
    "avg_points(show_posts, 'Show Posts')\n",
    "avg_points(other_posts, 'Other Posts')"
   ]
  },
  {
   "cell_type": "markdown",
   "metadata": {},
   "source": [
    "We see that show posts have more on average. Now, we'll perform a temporal analysis on show post's points."
   ]
  },
  {
   "cell_type": "code",
   "execution_count": 8,
   "metadata": {},
   "outputs": [],
   "source": [
    "avg_points_by_hour_show = avg_count_per_hour(show_posts, num_points_idx)"
   ]
  },
  {
   "cell_type": "code",
   "execution_count": 9,
   "metadata": {},
   "outputs": [
    {
     "name": "stdout",
     "output_type": "stream",
     "text": [
      "Top 5 Hours for Show Posts Points\n",
      "23:00: 42.4 average points per post\n",
      "12:00: 41.7 average points per post\n",
      "22:00: 40.3 average points per post\n",
      "00:00: 37.8 average points per post\n",
      "18:00: 36.3 average points per post\n"
     ]
    }
   ],
   "source": [
    "sorted_swap = sorted(avg_points_by_hour_show,key=itemgetter(1),reverse=True)\n",
    "print('Top 5 Hours for Show Posts Points')\n",
    "\n",
    "txt = '{hour}:00: {avg:.1f} average points per post'\n",
    "for i in range(5):\n",
    "    hour = sorted_swap[i][0]\n",
    "    avg = float((sorted_swap[i][1]))\n",
    "    print(txt.format(hour=hour, avg=avg))"
   ]
  },
  {
   "cell_type": "markdown",
   "metadata": {},
   "source": [
    "We see here that show posts have a higher average points per post when posted at 23:00 (11:00 PM).\n",
    "\n",
    "Now let's compare all of the above results to other posts."
   ]
  },
  {
   "cell_type": "code",
   "execution_count": 10,
   "metadata": {},
   "outputs": [],
   "source": [
    "avg_comments_by_hour_other = avg_count_per_hour(other_posts, num_points_idx)"
   ]
  },
  {
   "cell_type": "code",
   "execution_count": 11,
   "metadata": {},
   "outputs": [
    {
     "name": "stdout",
     "output_type": "stream",
     "text": [
      "Top 5 Hours for Other Posts Points\n",
      "13:00: 62.5 average points per post\n",
      "14:00: 61.8 average points per post\n",
      "15:00: 60.5 average points per post\n",
      "10:00: 60.5 average points per post\n",
      "19:00: 60.0 average points per post\n"
     ]
    }
   ],
   "source": [
    "sorted_swap = sorted(avg_comments_by_hour_other,key=itemgetter(1),reverse=True)\n",
    "print('Top 5 Hours for Other Posts Points')\n",
    "\n",
    "txt = '{hour}:00: {avg:.1f} average points per post'\n",
    "for i in range(5):\n",
    "    hour = sorted_swap[i][0]\n",
    "    avg = float((sorted_swap[i][1]))\n",
    "    print(txt.format(hour=hour, avg=avg))"
   ]
  },
  {
   "cell_type": "markdown",
   "metadata": {},
   "source": [
    "We can see that other posts do receive more points on average than show posts. The hours created also differ.\n",
    "\n",
    "## Conclusion\n",
    "\n",
    "While the created time and type of a post definitely can indicate some degree of the type of engagement, there are definitely more factors that contribute to the overall engagement with a post."
   ]
  }
 ],
 "metadata": {
  "kernelspec": {
   "display_name": "Python 3 (ipykernel)",
   "language": "python",
   "name": "python3"
  },
  "language_info": {
   "codemirror_mode": {
    "name": "ipython",
    "version": 3
   },
   "file_extension": ".py",
   "mimetype": "text/x-python",
   "name": "python",
   "nbconvert_exporter": "python",
   "pygments_lexer": "ipython3",
   "version": "3.10.0"
  }
 },
 "nbformat": 4,
 "nbformat_minor": 2
}
