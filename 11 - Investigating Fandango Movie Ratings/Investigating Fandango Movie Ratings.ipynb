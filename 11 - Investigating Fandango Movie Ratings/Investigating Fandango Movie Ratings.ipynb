{
 "cells": [
  {
   "cell_type": "markdown",
   "metadata": {},
   "source": [
    "# Investigating Fandango Movie Ratings\n",
    "\n",
    "A data journalist named Walt Hickey analyzed movie ratings data and found strong evidence to suggest that Fandango's rating system was biased and dishonest. In particular the rating was almost rounded up to the nearest half-star or up even to the nearest whole star.\n",
    "\n",
    "In this project, we'll analyze more recent movie ratings data to determine whether there has been any change in Fandango's rating system after [Hickey's analysis](https://fivethirtyeight.com/features/fandango-movies-ratings/) regarding the discrepancy between the number of stars displayed to users and the actual rating that was found in the HTML of the page.\n",
    "\n",
    "We will be using the data available [on GitHub](https://github.com/mircealex/Movie_ratings_2016_17) to analyze the rating system's characteristics after Hickey's analysis."
   ]
  },
  {
   "cell_type": "code",
   "execution_count": 20,
   "metadata": {},
   "outputs": [
    {
     "name": "stdout",
     "output_type": "stream",
     "text": [
      "<class 'pandas.core.frame.DataFrame'>\n",
      "RangeIndex: 146 entries, 0 to 145\n",
      "Data columns (total 22 columns):\n",
      " #   Column                      Non-Null Count  Dtype  \n",
      "---  ------                      --------------  -----  \n",
      " 0   FILM                        146 non-null    object \n",
      " 1   RottenTomatoes              146 non-null    int64  \n",
      " 2   RottenTomatoes_User         146 non-null    int64  \n",
      " 3   Metacritic                  146 non-null    int64  \n",
      " 4   Metacritic_User             146 non-null    float64\n",
      " 5   IMDB                        146 non-null    float64\n",
      " 6   Fandango_Stars              146 non-null    float64\n",
      " 7   Fandango_Ratingvalue        146 non-null    float64\n",
      " 8   RT_norm                     146 non-null    float64\n",
      " 9   RT_user_norm                146 non-null    float64\n",
      " 10  Metacritic_norm             146 non-null    float64\n",
      " 11  Metacritic_user_nom         146 non-null    float64\n",
      " 12  IMDB_norm                   146 non-null    float64\n",
      " 13  RT_norm_round               146 non-null    float64\n",
      " 14  RT_user_norm_round          146 non-null    float64\n",
      " 15  Metacritic_norm_round       146 non-null    float64\n",
      " 16  Metacritic_user_norm_round  146 non-null    float64\n",
      " 17  IMDB_norm_round             146 non-null    float64\n",
      " 18  Metacritic_user_vote_count  146 non-null    int64  \n",
      " 19  IMDB_user_vote_count        146 non-null    int64  \n",
      " 20  Fandango_votes              146 non-null    int64  \n",
      " 21  Fandango_Difference         146 non-null    float64\n",
      "dtypes: float64(15), int64(6), object(1)\n",
      "memory usage: 25.2+ KB\n",
      "None\n",
      "<class 'pandas.core.frame.DataFrame'>\n",
      "RangeIndex: 214 entries, 0 to 213\n",
      "Data columns (total 15 columns):\n",
      " #   Column        Non-Null Count  Dtype  \n",
      "---  ------        --------------  -----  \n",
      " 0   movie         214 non-null    object \n",
      " 1   year          214 non-null    int64  \n",
      " 2   metascore     214 non-null    int64  \n",
      " 3   imdb          214 non-null    float64\n",
      " 4   tmeter        214 non-null    int64  \n",
      " 5   audience      214 non-null    int64  \n",
      " 6   fandango      214 non-null    float64\n",
      " 7   n_metascore   214 non-null    float64\n",
      " 8   n_imdb        214 non-null    float64\n",
      " 9   n_tmeter      214 non-null    float64\n",
      " 10  n_audience    214 non-null    float64\n",
      " 11  nr_metascore  214 non-null    float64\n",
      " 12  nr_imdb       214 non-null    float64\n",
      " 13  nr_tmeter     214 non-null    float64\n",
      " 14  nr_audience   214 non-null    float64\n",
      "dtypes: float64(10), int64(4), object(1)\n",
      "memory usage: 25.2+ KB\n",
      "None\n"
     ]
    }
   ],
   "source": [
    "import pandas as pd\n",
    "\n",
    "movies_14_15 = pd.read_csv('fandango_score_comparison.csv')\n",
    "movies_16_17 = pd.read_csv('movie_ratings_16_17.csv')\n",
    "\n",
    "print(movies_14_15.info())\n",
    "print(movies_16_17.info())"
   ]
  },
  {
   "cell_type": "code",
   "execution_count": 21,
   "metadata": {},
   "outputs": [
    {
     "name": "stdout",
     "output_type": "stream",
     "text": [
      "                             FILM  Fandango_Stars  Fandango_Ratingvalue  \\\n",
      "0  Avengers: Age of Ultron (2015)             5.0                   4.5   \n",
      "1               Cinderella (2015)             5.0                   4.5   \n",
      "2                  Ant-Man (2015)             5.0                   4.5   \n",
      "3          Do You Believe? (2015)             5.0                   4.5   \n",
      "4   Hot Tub Time Machine 2 (2015)             3.5                   3.0   \n",
      "\n",
      "   Fandango_votes  Fandango_Difference  \n",
      "0           14846                  0.5  \n",
      "1           12640                  0.5  \n",
      "2           12055                  0.5  \n",
      "3            1793                  0.5  \n",
      "4            1021                  0.5  \n",
      "                     movie  year  fandango\n",
      "0      10 Cloverfield Lane  2016       3.5\n",
      "1                 13 Hours  2016       4.5\n",
      "2      A Cure for Wellness  2016       3.0\n",
      "3          A Dog's Purpose  2017       4.5\n",
      "4  A Hologram for the King  2016       3.0\n"
     ]
    }
   ],
   "source": [
    "# Isolating the data that offers information about Fandandgo's ratings\n",
    "fan_14_15 = movies_14_15[['FILM', 'Fandango_Stars', 'Fandango_Ratingvalue', 'Fandango_votes', 'Fandango_Difference']].copy()\n",
    "fan_16_17 = movies_16_17[['movie', 'year', 'fandango']].copy()\n",
    "\n",
    "print(fan_14_15.head())\n",
    "print(fan_16_17.head())"
   ]
  },
  {
   "cell_type": "markdown",
   "metadata": {},
   "source": [
    "## Defining the Goal\n",
    "\n",
    "We want to compare the population at two different periods in time to compare the change in states.\n",
    "\n",
    "First, let's look at whether the two samples are representative for the population we're trying to describe.\n",
    "\n",
    "The sampling criteria of Hickey's article can be found in the [README.md](https://github.com/fivethirtyeight/data/blob/master/fandango/README.md) and is defined as:\n",
    "* The movie must have had at least 30 fan ratings on Fandango's website at the time of sampling (Aug. 24, 2015).\n",
    "* The movie must have had tickets on sale in 2015.\n",
    "\n",
    "This sampling is not random due to the exclusionary criteria such as having at least 30 fan ratings. While having a minimum number of ratings helps with outliers, the same method must be applied in the second sample. Also, there may be temporal bias due to the second criteria. Movies should have had tickets on sale extending a while back to ensure that there was no trend simply in 2015.\n",
    "\n",
    "The sampling criteria of the other sample (for the post comparison) is found in the other [README.md](https://github.com/mircealex/Movie_ratings_2016_17/blob/master/README.md) and is defined as:\n",
    "* The movie must have been released in 2016 or later.\n",
    "* The movie must have had a considerable number of votes and reviews (unclear how many from the README.md or from the data).\n",
    "\n",
    "Temporal trends may have somewhat of an effect in this sample (but probably not as bad as in the other sample). Also, a lack of quantitative definition of \"considerable number of votes and reviews\" is not the best, but we can assume it is a comparable value to the other sample.\n",
    "\n",
    "In both cases, this purposive sampling was good enough for the research of the indiviual authors, but we may have to change the goal of our analysis to make do."
   ]
  },
  {
   "cell_type": "markdown",
   "metadata": {},
   "source": [
    "## Changing the Goal\n",
    "\n",
    "Since collecting new data would be quasi-impossible to do, we will be looking at whether popular movies in 2015 and popular movies in 2016 have significant differences between ratings. This should be a good proxy to our initial goal given the limitations in the data."
   ]
  },
  {
   "cell_type": "markdown",
   "metadata": {},
   "source": [
    "## Isolating the Samples We Need\n",
    "\n",
    "We will isolate the movies released in 2015 from the first data set. \n",
    "We will also isolate the movies released in 2016 from the second data set and spot-check whether they have more than 30 ratings (the criteria from the first data set)."
   ]
  },
  {
   "cell_type": "code",
   "execution_count": 22,
   "metadata": {},
   "outputs": [
    {
     "data": {
      "text/html": [
       "<div>\n",
       "<style scoped>\n",
       "    .dataframe tbody tr th:only-of-type {\n",
       "        vertical-align: middle;\n",
       "    }\n",
       "\n",
       "    .dataframe tbody tr th {\n",
       "        vertical-align: top;\n",
       "    }\n",
       "\n",
       "    .dataframe thead th {\n",
       "        text-align: right;\n",
       "    }\n",
       "</style>\n",
       "<table border=\"1\" class=\"dataframe\">\n",
       "  <thead>\n",
       "    <tr style=\"text-align: right;\">\n",
       "      <th></th>\n",
       "      <th>movie</th>\n",
       "      <th>year</th>\n",
       "      <th>fandango</th>\n",
       "    </tr>\n",
       "  </thead>\n",
       "  <tbody>\n",
       "    <tr>\n",
       "      <th>36</th>\n",
       "      <td>Collide</td>\n",
       "      <td>2016</td>\n",
       "      <td>3.5</td>\n",
       "    </tr>\n",
       "    <tr>\n",
       "      <th>75</th>\n",
       "      <td>Ice Age: Collision Course</td>\n",
       "      <td>2016</td>\n",
       "      <td>4.0</td>\n",
       "    </tr>\n",
       "    <tr>\n",
       "      <th>125</th>\n",
       "      <td>Now You See Me 2</td>\n",
       "      <td>2016</td>\n",
       "      <td>4.0</td>\n",
       "    </tr>\n",
       "    <tr>\n",
       "      <th>171</th>\n",
       "      <td>The Disappointments Room</td>\n",
       "      <td>2016</td>\n",
       "      <td>2.5</td>\n",
       "    </tr>\n",
       "    <tr>\n",
       "      <th>92</th>\n",
       "      <td>Kubo and the Two Strings</td>\n",
       "      <td>2016</td>\n",
       "      <td>4.5</td>\n",
       "    </tr>\n",
       "    <tr>\n",
       "      <th>134</th>\n",
       "      <td>Pride and Prejudice and Zombies</td>\n",
       "      <td>2016</td>\n",
       "      <td>4.0</td>\n",
       "    </tr>\n",
       "    <tr>\n",
       "      <th>40</th>\n",
       "      <td>Deadpool</td>\n",
       "      <td>2016</td>\n",
       "      <td>4.5</td>\n",
       "    </tr>\n",
       "    <tr>\n",
       "      <th>115</th>\n",
       "      <td>Money Monster</td>\n",
       "      <td>2016</td>\n",
       "      <td>4.0</td>\n",
       "    </tr>\n",
       "    <tr>\n",
       "      <th>204</th>\n",
       "      <td>War Dogs</td>\n",
       "      <td>2016</td>\n",
       "      <td>4.0</td>\n",
       "    </tr>\n",
       "    <tr>\n",
       "      <th>111</th>\n",
       "      <td>Miracles from Heaven</td>\n",
       "      <td>2016</td>\n",
       "      <td>4.5</td>\n",
       "    </tr>\n",
       "  </tbody>\n",
       "</table>\n",
       "</div>"
      ],
      "text/plain": [
       "                               movie  year  fandango\n",
       "36                           Collide  2016       3.5\n",
       "75         Ice Age: Collision Course  2016       4.0\n",
       "125                 Now You See Me 2  2016       4.0\n",
       "171         The Disappointments Room  2016       2.5\n",
       "92          Kubo and the Two Strings  2016       4.5\n",
       "134  Pride and Prejudice and Zombies  2016       4.0\n",
       "40                          Deadpool  2016       4.5\n",
       "115                    Money Monster  2016       4.0\n",
       "204                         War Dogs  2016       4.0\n",
       "111             Miracles from Heaven  2016       4.5"
      ]
     },
     "execution_count": 22,
     "metadata": {},
     "output_type": "execute_result"
    }
   ],
   "source": [
    "fan_2015 = fan_14_15[fandan['FILM'].str[-5:-1] == '2015']\n",
    "fan_2016 = fan_16_17[mov['year'] == 2016]\n",
    "\n",
    "fan_2016.sample(10, random_state = 1)"
   ]
  },
  {
   "cell_type": "markdown",
   "metadata": {},
   "source": [
    "The sample of the second dataset seems to have most of the movies with the same rating criteria of the first dataset. We will assume that the rest are similar."
   ]
  },
  {
   "cell_type": "markdown",
   "metadata": {},
   "source": [
    "## Comparing Distribution Shapes for 2015 and 2016\n",
    "\n",
    "We will now do a high-level comparison of the shapes of the distributions for both samples."
   ]
  },
  {
   "cell_type": "code",
   "execution_count": 23,
   "metadata": {},
   "outputs": [
    {
     "data": {
      "image/png": "[encoded data removed]",
      "text/plain": [
       "<Figure size 576x396 with 1 Axes>"
      ]
     },
     "metadata": {},
     "output_type": "display_data"
    }
   ],
   "source": [
    "import matplotlib.pyplot as plt\n",
    "from numpy import arange\n",
    "%matplotlib inline\n",
    "\n",
    "plt.style.use('fivethirtyeight')\n",
    "\n",
    "fan_2015['Fandango_Stars'].plot.kde(label = '2015', legend = True, figsize = (8,5.5))\n",
    "fan_2016['fandango'].plot.kde(label = '2016', legend = True)\n",
    "\n",
    "plt.title(\"Comparing distribution shapes for Fandango's ratings\\n(2015 vs 2016)\",\n",
    "          y = 1.1) # the `y` parameter pads the title upward\n",
    "plt.xlabel('Stars')\n",
    "plt.xlim(0,5) # ratings start at 0 and end at 5\n",
    "plt.xticks(arange(0,5.1,.5))\n",
    "plt.show()"
   ]
  },
  {
   "cell_type": "markdown",
   "metadata": {},
   "source": [
    "The 2015 distribution is left skewed and the 2016 distribution is more normal (but both are strongly left skewed and not looking very gaussian).\n",
    "\n",
    "The skews suggest that movies on Fandango are mostly given high ratings. However, the left shift of the 2016 distribution seems promising for a potential change in the rating rounding."
   ]
  },
  {
   "cell_type": "markdown",
   "metadata": {},
   "source": [
    "## Comparing Relative Frequencies\n",
    "\n",
    "We will now look at comparing normalized frequencies with percentages."
   ]
  },
  {
   "cell_type": "code",
   "execution_count": 24,
   "metadata": {},
   "outputs": [
    {
     "name": "stdout",
     "output_type": "stream",
     "text": [
      "3.0     8.527132\n",
      "3.5    17.829457\n",
      "4.0    28.682171\n",
      "4.5    37.984496\n",
      "5.0     6.976744\n",
      "Name: Fandango_Stars, dtype: float64\n",
      "2.5     3.141361\n",
      "3.0     7.329843\n",
      "3.5    24.083770\n",
      "4.0    40.314136\n",
      "4.5    24.607330\n",
      "5.0     0.523560\n",
      "Name: fandango, dtype: float64\n"
     ]
    }
   ],
   "source": [
    "print(fan_2015['Fandango_Stars'].value_counts(normalize = True).sort_index() * 100)\n",
    "print(fan_2016['fandango'].value_counts(normalize = True).sort_index() * 100)"
   ]
  },
  {
   "cell_type": "code",
   "execution_count": 25,
   "metadata": {},
   "outputs": [
    {
     "name": "stdout",
     "output_type": "stream",
     "text": [
      "count    129.000000\n",
      "mean       4.085271\n",
      "std        0.538096\n",
      "min        3.000000\n",
      "25%        3.500000\n",
      "50%        4.000000\n",
      "75%        4.500000\n",
      "max        5.000000\n",
      "Name: Fandango_Stars, dtype: float64\n",
      "count    191.000000\n",
      "mean       3.887435\n",
      "std        0.509540\n",
      "min        2.500000\n",
      "25%        3.500000\n",
      "50%        4.000000\n",
      "75%        4.250000\n",
      "max        5.000000\n",
      "Name: fandango, dtype: float64\n"
     ]
    }
   ],
   "source": [
    "print(fan_2015['Fandango_Stars'].describe())\n",
    "print(fan_2016['fandango'].describe())"
   ]
  },
  {
   "cell_type": "markdown",
   "metadata": {},
   "source": [
    "As you can see above, the means are different with a different minimum and 75th percentile. You can also see the percentage breakdown showing different modes. The medians are the same however."
   ]
  },
  {
   "cell_type": "code",
   "execution_count": 26,
   "metadata": {
    "scrolled": true
   },
   "outputs": [
    {
     "data": {
      "image/png": "[encoded data removed]",
      "text/plain": [
       "<Figure size 576x360 with 1 Axes>"
      ]
     },
     "metadata": {},
     "output_type": "display_data"
    }
   ],
   "source": [
    "summary = pd.DataFrame() # Using the values found from above\n",
    "summary['2015'] = [4.085271, 4.000000, 4.5]\n",
    "summary['2016'] = [3.887435, 4.000000, 4.0]\n",
    "summary.index = ['mean', 'median', 'mode']\n",
    "\n",
    "plt.style.use('fivethirtyeight')\n",
    "summary['2015'].plot.bar(color = '#0066FF', align = 'center', label = '2015', width = .25)\n",
    "summary['2016'].plot.bar(color = '#CC0000', align = 'edge', label = '2016', width = .25,\n",
    "                         rot = 0, figsize = (8,5))\n",
    "\n",
    "plt.title('Comparing summary statistics: 2015 vs 2016', y = 1.1)\n",
    "plt.ylim(0,5.5)\n",
    "plt.yticks(arange(0,5.1,.5))\n",
    "plt.ylabel('Stars')\n",
    "plt.legend(framealpha = 0, loc = 'upper center')\n",
    "plt.show()"
   ]
  },
  {
   "cell_type": "markdown",
   "metadata": {},
   "source": [
    "We can see above that the mean and mode is higher in 2015 than in 2016 for Fandango. Let's see if we can do a hypothesis test to determine if they are statistically different. First, we need to evaluate a few assumptions to determine whether to use a parametric or non-parametric test. For a parametric test, these are the following assumptions:\n",
    "1. Assumption: Are the two samples independent? Yes\n",
    "2. Assumption: Do the two samples have the same variances (Homogeneity of Variance)?\n",
    "3. Assumption: Are the data from each of the 2 groups following a normal distribution? Let's find out.\n",
    "\n",
    "### Homogeneity of Variance\n",
    "\n",
    "To do this test, we will use the Levene test which tests the null hypothesis that all input samples are from populations with equal variances."
   ]
  },
  {
   "cell_type": "code",
   "execution_count": 48,
   "metadata": {},
   "outputs": [
    {
     "name": "stdout",
     "output_type": "stream",
     "text": [
      "Statistics=0.102, p=0.950\n",
      "Groups have equal variances (fail to reject H0)\n"
     ]
    }
   ],
   "source": [
    "# Homogeneity of Variance Test\n",
    "from scipy.stats import levene\n",
    "levene(fan_2015['Fandango_Stars'],fan_2016['fandango'])\n",
    "alpha = 0.05\n",
    "stat, p = normaltest(data)\n",
    "print('Statistics=%.3f, p=%.3f' % (stat, p))\n",
    "if p > alpha:\n",
    "    print('Groups have equal variances (fail to reject H0)')\n",
    "else:\n",
    "    print('Groups do not have equal variances (reject H0)')"
   ]
  },
  {
   "cell_type": "markdown",
   "metadata": {},
   "source": [
    "### Assumption of Normality\n",
    "\n",
    "To do the test, we will use the Anderson-Darling test wcich tests the null hypothesis that a sample is drawn from a population that follows a particular distribution. For the Anderson-Darling test, the critical values depend on which distribution is being tested against.\n",
    "\n",
    "If the returned statistic is larger than these critical values then for the corresponding significance level, the null hypothesis that the data come from the chosen distribution can be rejected."
   ]
  },
  {
   "cell_type": "code",
   "execution_count": 49,
   "metadata": {},
   "outputs": [
    {
     "name": "stdout",
     "output_type": "stream",
     "text": [
      "Statistic: 6.013\n",
      "15.000: 0.559, data does not look normal (reject H0)\n",
      "10.000: 0.637, data does not look normal (reject H0)\n",
      "5.000: 0.764, data does not look normal (reject H0)\n",
      "2.500: 0.892, data does not look normal (reject H0)\n",
      "1.000: 1.061, data does not look normal (reject H0)\n"
     ]
    }
   ],
   "source": [
    "# Anderson-Darling Test for 2015\n",
    "from scipy.stats import anderson\n",
    "result = anderson(fan_2015['Fandango_Stars'])\n",
    "print('Statistic: %.3f' % result.statistic)\n",
    "p = 0\n",
    "for i in range(len(result.critical_values)):\n",
    "    sl, cv = result.significance_level[i], result.critical_values[i]\n",
    "    if result.statistic < result.critical_values[i]:\n",
    "        print('%.3f: %.3f, data looks normal (fail to reject H0)' % (sl, cv))\n",
    "    else:\n",
    "        print('%.3f: %.3f, data does not look normal (reject H0)' % (sl, cv))"
   ]
  },
  {
   "cell_type": "code",
   "execution_count": 50,
   "metadata": {},
   "outputs": [
    {
     "name": "stdout",
     "output_type": "stream",
     "text": [
      "Statistic: 9.086\n",
      "15.000: 0.565, data does not look normal (reject H0)\n",
      "10.000: 0.643, data does not look normal (reject H0)\n",
      "5.000: 0.771, data does not look normal (reject H0)\n",
      "2.500: 0.900, data does not look normal (reject H0)\n",
      "1.000: 1.070, data does not look normal (reject H0)\n"
     ]
    }
   ],
   "source": [
    "# Anderson-Darling Test for 2016\n",
    "result = anderson(fan_2016['fandango'])\n",
    "print('Statistic: %.3f' % result.statistic)\n",
    "p = 0\n",
    "for i in range(len(result.critical_values)):\n",
    "    sl, cv = result.significance_level[i], result.critical_values[i]\n",
    "    if result.statistic < result.critical_values[i]:\n",
    "        print('%.3f: %.3f, data looks normal (fail to reject H0)' % (sl, cv))\n",
    "    else:\n",
    "        print('%.3f: %.3f, data does not look normal (reject H0)' % (sl, cv))"
   ]
  },
  {
   "cell_type": "markdown",
   "metadata": {
    "collapsed": true
   },
   "source": [
    "As the third assumption of normality is broken. We will use a non-parametric hypothesis test. For this scenario, the Mann-Whitney U test. The hypothesis are the following:\n",
    "- Null hypothesis (H0): The two groups are sampled from populations with identical distributions. Typically, the sampled populations exhibit stochastic equality.\n",
    "- Alternative hypothesis (Ha): The two groups are sampled from populations with different distributions. Most of the time, this means that one of the sampled populations (groups) displays stochastic dominance."
   ]
  },
  {
   "cell_type": "code",
   "execution_count": 46,
   "metadata": {},
   "outputs": [
    {
     "data": {
      "text/plain": [
       "MannwhitneyuResult(statistic=14871.5, pvalue=0.001032445879587162)"
      ]
     },
     "execution_count": 46,
     "metadata": {},
     "output_type": "execute_result"
    }
   ],
   "source": [
    "from scipy.stats import mannwhitneyu\n",
    "\n",
    "# Carrying out the Wilcoxon–Mann–Whitney test\n",
    "results = mannwhitneyu(fan_2015['Fandango_Stars'], fan_2016['fandango'])\n",
    "results"
   ]
  },
  {
   "cell_type": "markdown",
   "metadata": {},
   "source": [
    "We see above that the p value is less than 0.05 and thus we reject the null hypothesis and conclude that the two groups are sampled from populations with different distributions. This would provide evidence that 2015 and 2016 ratings were not the same and could be the result of manipulation as suggested in the beginning of this article."
   ]
  },
  {
   "cell_type": "markdown",
   "metadata": {},
   "source": [
    "## Comparing to Other Movie Rating Aggregators\n",
    "\n",
    "We can use the two samples to compare ratings of different movie ratings aggregators and recommend what's the best website to check for a movie rating. For this project, we will only use the second sample to compare Fandango to IMDB.\n",
    "\n",
    "### IMDB vs Fandango\n",
    "\n",
    "Let's begin by preparing our IMDB data. We will be using the nr_imdb which is the imdb score normalized to a 0-5 scale rounded to the nearest 0.5."
   ]
  },
  {
   "cell_type": "code",
   "execution_count": 80,
   "metadata": {},
   "outputs": [
    {
     "data": {
      "text/html": [
       "<div>\n",
       "<style scoped>\n",
       "    .dataframe tbody tr th:only-of-type {\n",
       "        vertical-align: middle;\n",
       "    }\n",
       "\n",
       "    .dataframe tbody tr th {\n",
       "        vertical-align: top;\n",
       "    }\n",
       "\n",
       "    .dataframe thead th {\n",
       "        text-align: right;\n",
       "    }\n",
       "</style>\n",
       "<table border=\"1\" class=\"dataframe\">\n",
       "  <thead>\n",
       "    <tr style=\"text-align: right;\">\n",
       "      <th></th>\n",
       "      <th>movie</th>\n",
       "      <th>year</th>\n",
       "      <th>nr_imdb</th>\n",
       "    </tr>\n",
       "  </thead>\n",
       "  <tbody>\n",
       "    <tr>\n",
       "      <th>36</th>\n",
       "      <td>Collide</td>\n",
       "      <td>2016</td>\n",
       "      <td>3.0</td>\n",
       "    </tr>\n",
       "    <tr>\n",
       "      <th>75</th>\n",
       "      <td>Ice Age: Collision Course</td>\n",
       "      <td>2016</td>\n",
       "      <td>3.0</td>\n",
       "    </tr>\n",
       "    <tr>\n",
       "      <th>125</th>\n",
       "      <td>Now You See Me 2</td>\n",
       "      <td>2016</td>\n",
       "      <td>3.0</td>\n",
       "    </tr>\n",
       "    <tr>\n",
       "      <th>171</th>\n",
       "      <td>The Disappointments Room</td>\n",
       "      <td>2016</td>\n",
       "      <td>2.0</td>\n",
       "    </tr>\n",
       "    <tr>\n",
       "      <th>92</th>\n",
       "      <td>Kubo and the Two Strings</td>\n",
       "      <td>2016</td>\n",
       "      <td>4.0</td>\n",
       "    </tr>\n",
       "    <tr>\n",
       "      <th>134</th>\n",
       "      <td>Pride and Prejudice and Zombies</td>\n",
       "      <td>2016</td>\n",
       "      <td>3.0</td>\n",
       "    </tr>\n",
       "    <tr>\n",
       "      <th>40</th>\n",
       "      <td>Deadpool</td>\n",
       "      <td>2016</td>\n",
       "      <td>4.0</td>\n",
       "    </tr>\n",
       "    <tr>\n",
       "      <th>115</th>\n",
       "      <td>Money Monster</td>\n",
       "      <td>2016</td>\n",
       "      <td>3.0</td>\n",
       "    </tr>\n",
       "    <tr>\n",
       "      <th>204</th>\n",
       "      <td>War Dogs</td>\n",
       "      <td>2016</td>\n",
       "      <td>3.5</td>\n",
       "    </tr>\n",
       "    <tr>\n",
       "      <th>111</th>\n",
       "      <td>Miracles from Heaven</td>\n",
       "      <td>2016</td>\n",
       "      <td>3.5</td>\n",
       "    </tr>\n",
       "  </tbody>\n",
       "</table>\n",
       "</div>"
      ],
      "text/plain": [
       "                               movie  year  nr_imdb\n",
       "36                           Collide  2016      3.0\n",
       "75         Ice Age: Collision Course  2016      3.0\n",
       "125                 Now You See Me 2  2016      3.0\n",
       "171         The Disappointments Room  2016      2.0\n",
       "92          Kubo and the Two Strings  2016      4.0\n",
       "134  Pride and Prejudice and Zombies  2016      3.0\n",
       "40                          Deadpool  2016      4.0\n",
       "115                    Money Monster  2016      3.0\n",
       "204                         War Dogs  2016      3.5\n",
       "111             Miracles from Heaven  2016      3.5"
      ]
     },
     "execution_count": 80,
     "metadata": {},
     "output_type": "execute_result"
    }
   ],
   "source": [
    "imdb_16_17 = movies_16_17[['movie', 'year', 'nr_imdb']].copy()\n",
    "imdb_16 = imdb_16_17[imdb_16_17['year'] == 2016]\n",
    "\n",
    "imdb_16.sample(10, random_state = 1)"
   ]
  },
  {
   "cell_type": "markdown",
   "metadata": {},
   "source": [
    "Let's see the distribution compared to Fandango."
   ]
  },
  {
   "cell_type": "code",
   "execution_count": 81,
   "metadata": {},
   "outputs": [
    {
     "data": {
      "image/png": "[encoded data removed]",
      "text/plain": [
       "<Figure size 432x288 with 1 Axes>"
      ]
     },
     "metadata": {},
     "output_type": "display_data"
    }
   ],
   "source": [
    "imdb_16['nr_imdb'].plot.kde(label = 'IMDB', legend = True)\n",
    "fan_2016['fandango'].plot.kde(label = 'Fandango', legend = True)\n",
    "\n",
    "plt.title(\"Comparing distribution shapes for IMDB and Fandango's ratings in 2016\",\n",
    "          y = 1.1) # the `y` parameter pads the title upward\n",
    "plt.xlabel('Stars')\n",
    "plt.xlim(0,5) # ratings start at 0 and end at 5\n",
    "plt.xticks(arange(0,5.1,.5))\n",
    "plt.show()"
   ]
  },
  {
   "cell_type": "markdown",
   "metadata": {},
   "source": [
    "We see that IMDB is a little skewed and slightly lower than Fandango. Let's look at a comparison statistics graph."
   ]
  },
  {
   "cell_type": "code",
   "execution_count": 84,
   "metadata": {},
   "outputs": [
    {
     "name": "stdout",
     "output_type": "stream",
     "text": [
      "2.0     3.664921\n",
      "2.5    11.518325\n",
      "3.0    37.172775\n",
      "3.5    31.937173\n",
      "4.0    15.706806\n",
      "Name: nr_imdb, dtype: float64\n",
      "2.5     3.141361\n",
      "3.0     7.329843\n",
      "3.5    24.083770\n",
      "4.0    40.314136\n",
      "4.5    24.607330\n",
      "5.0     0.523560\n",
      "Name: fandango, dtype: float64\n"
     ]
    }
   ],
   "source": [
    "print(imdb_16['nr_imdb'].value_counts(normalize = True).sort_index() * 100)\n",
    "print(fan_2016['fandango'].value_counts(normalize = True).sort_index() * 100)"
   ]
  },
  {
   "cell_type": "code",
   "execution_count": 85,
   "metadata": {},
   "outputs": [
    {
     "name": "stdout",
     "output_type": "stream",
     "text": [
      "count    191.000000\n",
      "mean       3.222513\n",
      "std        0.504157\n",
      "min        2.000000\n",
      "25%        3.000000\n",
      "50%        3.000000\n",
      "75%        3.500000\n",
      "max        4.000000\n",
      "Name: nr_imdb, dtype: float64\n",
      "count    191.000000\n",
      "mean       3.887435\n",
      "std        0.509540\n",
      "min        2.500000\n",
      "25%        3.500000\n",
      "50%        4.000000\n",
      "75%        4.250000\n",
      "max        5.000000\n",
      "Name: fandango, dtype: float64\n"
     ]
    }
   ],
   "source": [
    "print(imdb_16['nr_imdb'].describe())\n",
    "print(fan_2016['fandango'].describe())"
   ]
  },
  {
   "cell_type": "code",
   "execution_count": 95,
   "metadata": {},
   "outputs": [
    {
     "data": {
      "image/png": "[encoded data removed]",
      "text/plain": [
       "<Figure size 432x288 with 1 Axes>"
      ]
     },
     "metadata": {},
     "output_type": "display_data"
    }
   ],
   "source": [
    "summary_sites = pd.DataFrame() # Using the values found from above\n",
    "summary_sites['IMDB'] = [3.222513, 3.0, 3.0]\n",
    "summary_sites['Fandango'] = [3.887435, 4.0, 4.0]\n",
    "summary_sites.index = ['mean', 'median', 'mode']\n",
    "\n",
    "plt.style.use('fivethirtyeight')\n",
    "summary_sites['IMDB'].plot.bar(color = '#0066FF', align = 'center', label = 'IMDB', width = .25)\n",
    "summary_sites['Fandango'].plot.bar(color = '#CC0000', align = 'edge', label = 'Fandango', width = .125)\n",
    "\n",
    "plt.title('Comparing summary statistics: IMDB vs Fandango', y = 1.1)\n",
    "plt.ylim(0,5.5)\n",
    "plt.yticks(arange(0,5.1,.5))\n",
    "plt.ylabel('Stars')\n",
    "plt.legend(framealpha = 0, loc = 'upper center')\n",
    "plt.show()"
   ]
  },
  {
   "cell_type": "markdown",
   "metadata": {},
   "source": [
    "Above, we can see that IMDB is closer to the middle value. Looking at this and the distribution shapes, we can infer that IMDB is more likely to show a more representative scale of movies rather than a skewed one such as Fandango."
   ]
  },
  {
   "cell_type": "markdown",
   "metadata": {},
   "source": [
    "## Conclusion\n",
    "\n",
    "For Fandango, we saw that 2015 had a more skewed distribution than 2016. When we compared the summary statistics and performed a non-parametric hypothesis test (the Mann-Whitney U test), we were able to determine that the two year samples were from populations with different distributions with a p value of < 0.001.\n",
    "\n",
    "We were also able to compare Fandango to IMDB and found that IMDB had a less skewed distribution closer to the middle score of 2.5. This would suggest that IMDB when normalized was able to provide a bigger spread of movie values that allow it to be more informational to the user.\n",
    "\n",
    "For future work, we can look at time series data created through scraping a page. For example, we can scrape IMDB for dates from 2000 to 2022 using the below web scraping program. Since web scraping is a project of its own, we will shelve that for another day."
   ]
  },
  {
   "cell_type": "markdown",
   "metadata": {},
   "source": [
    "```python\n",
    "from requests import get\n",
    "from bs4 import BeautifulSoup\n",
    "import pandas as pd\n",
    "from time import sleep\n",
    "from random import randint\n",
    "from time import timestart_time = time()\n",
    "from IPython.core.display import clear_output\n",
    "from warnings import warnwarn(\"Warning Simulation\")\n",
    "\n",
    "# Declaring the lists to store data in\n",
    "names = []\n",
    "years = []\n",
    "imdb_ratings = []\n",
    "metascores = []\n",
    "votes = []\n",
    "\n",
    "# Creating the intervals to search\n",
    "pages = [str(i) for i in range(1,5)]\n",
    "years_url = [str(i) for i in range(2000,2022)]\n",
    "\n",
    "# Preparing the monitoring of the loop\n",
    "start_time = time()\n",
    "requests = 0\n",
    "\n",
    "# For every year in the interval 2000-2021\n",
    "for year_url in years_url:\n",
    "\n",
    "    # For every page in the interval 1-4\n",
    "    for page in pages:\n",
    "\n",
    "        # Make a get request\n",
    "        response = get('https://www.imdb.com/search/title?release_date=' + year_url +\n",
    "        '&sort=num_votes,desc&page=' + page, headers = headers)\n",
    "\n",
    "        # Pause the loop\n",
    "        sleep(randint(8,15))\n",
    "\n",
    "        # Monitor the requests\n",
    "        requests += 1\n",
    "        elapsed_time = time() - start_time\n",
    "        print('Request:{}; Frequency: {} requests/s'.format(requests, requests/elapsed_time))\n",
    "        clear_output(wait = True)\n",
    "\n",
    "        # Throw a warning for non-200 status codes\n",
    "        if response.status_code != 200:\n",
    "            warn('Request: {}; Status code: {}'.format(requests, response.status_code))\n",
    "\n",
    "        # Break the loop if the number of requests is greater than expected\n",
    "        if requests > 72:\n",
    "            warn('Number of requests was greater than expected.')\n",
    "            break\n",
    "\n",
    "        # Parse the content of the request with BeautifulSoup\n",
    "        page_html = BeautifulSoup(response.text, 'html.parser')\n",
    "\n",
    "        # Select all the 50 movie containers from a single page\n",
    "        mv_containers = page_html.find_all('div', class_ = 'lister-item mode-advanced')\n",
    "\n",
    "        # For every movie of these 50\n",
    "        for container in mv_containers:\n",
    "            # If the movie has a Metascore, then:\n",
    "            if container.find('div', class_ = 'ratings-metascore') is not None:\n",
    "\n",
    "                # Scrape the name\n",
    "                name = container.h3.a.text\n",
    "                names.append(name)\n",
    "\n",
    "                # Scrape the year\n",
    "                year = container.h3.find('span', class_ = 'lister-item-year').text\n",
    "                years.append(year)\n",
    "\n",
    "                # Scrape the IMDB rating\n",
    "                imdb = float(container.strong.text)\n",
    "                imdb_ratings.append(imdb)\n",
    "\n",
    "                # Scrape the Metascore\n",
    "                m_score = container.find('span', class_ = 'metascore').text\n",
    "                metascores.append(int(m_score))\n",
    "\n",
    "                # Scrape the number of votes\n",
    "                vote = container.find('span', attrs = {'name':'nv'})['data-value']\n",
    "                votes.append(int(vote))\n",
    "                \n",
    "# Create the dataframe to then clean and analyze\n",
    "movie_ratings = pd.DataFrame({'movie': names,\n",
    "'year': years,\n",
    "'imdb': imdb_ratings,\n",
    "'metascore': metascores,\n",
    "'votes': votes\n",
    "})\n",
    "```"
   ]
  }
 ],
 "metadata": {
  "kernelspec": {
   "display_name": "Python 3 (ipykernel)",
   "language": "python",
   "name": "python3"
  },
  "language_info": {
   "codemirror_mode": {
    "name": "ipython",
    "version": 3
   },
   "file_extension": ".py",
   "mimetype": "text/x-python",
   "name": "python",
   "nbconvert_exporter": "python",
   "pygments_lexer": "ipython3",
   "version": "3.10.0"
  }
 },
 "nbformat": 4,
 "nbformat_minor": 2
}
