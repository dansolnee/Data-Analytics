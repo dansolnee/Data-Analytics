{
 "cells": [
  {
   "cell_type": "markdown",
   "metadata": {},
   "source": [
    "# Profitable App Profiles for the App Store and Google Play Markets\n",
    "\n",
    "This project is requested by a company that builds Android and iOS mobile apps that are free to download and install. The business strategy of the company is solely to make money by in-app ads which means that revenue is mostly influenced by the number of users who use our app.\n",
    "\n",
    "The goal of this project is to analyze data to help our developers understand what type of apps are likely to attract more users. "
   ]
  },
  {
   "cell_type": "markdown",
   "metadata": {},
   "source": [
    "## Opening and Exploring the Data\n",
    "\n",
    "First, we will use a function to output and observe the opened data."
   ]
  },
  {
   "cell_type": "code",
   "execution_count": 2,
   "metadata": {},
   "outputs": [],
   "source": [
    "def explore_data(dataset, start, end, rows_and_columns=False):\n",
    "    dataset_slice = dataset[start:end]    \n",
    "    for row in dataset_slice:\n",
    "        print(row)\n",
    "        print('\\n') # adds a new (empty) line after each row\n",
    "\n",
    "    if rows_and_columns:\n",
    "        print('Number of rows:', len(dataset))\n",
    "        print('Number of columns:', len(dataset[0]))"
   ]
  },
  {
   "cell_type": "code",
   "execution_count": 3,
   "metadata": {},
   "outputs": [
    {
     "name": "stdout",
     "output_type": "stream",
     "text": [
      "['id', 'track_name', 'size_bytes', 'currency', 'price', 'rating_count_tot', 'rating_count_ver', 'user_rating', 'user_rating_ver', 'ver', 'cont_rating', 'prime_genre', 'sup_devices.num', 'ipadSc_urls.num', 'lang.num', 'vpp_lic']\n",
      "\n",
      "\n",
      "['284882215', 'Facebook', '389879808', 'USD', '0.0', '2974676', '212', '3.5', '3.5', '95.0', '4+', 'Social Networking', '37', '1', '29', '1']\n",
      "\n",
      "\n",
      "['389801252', 'Instagram', '113954816', 'USD', '0.0', '2161558', '1289', '4.5', '4.0', '10.23', '12+', 'Photo & Video', '37', '0', '29', '1']\n",
      "\n",
      "\n",
      "['529479190', 'Clash of Clans', '116476928', 'USD', '0.0', '2130805', '579', '4.5', '4.5', '9.24.12', '9+', 'Games', '38', '5', '18', '1']\n",
      "\n",
      "\n",
      "['420009108', 'Temple Run', '65921024', 'USD', '0.0', '1724546', '3842', '4.5', '4.0', '1.6.2', '9+', 'Games', '40', '5', '1', '1']\n",
      "\n",
      "\n",
      "Number of rows: 7198\n",
      "Number of columns: 16\n"
     ]
    }
   ],
   "source": [
    "from csv import reader\n",
    "\n",
    "with open('AppleStore.csv') as f:\n",
    "    csv_reader = reader(f)\n",
    "    a_lines = list(csv_reader)\n",
    "    \n",
    "explore_data(a_lines, 0, 5, True)"
   ]
  },
  {
   "cell_type": "markdown",
   "metadata": {},
   "source": [
    "For Apple, the columns of interest would be 'track_name', 'currency', 'price', 'rating_count_tot', 'rating_count_ver', and 'prime_genre'. For context, the documentation regarding the columns are found [here](https://www.kaggle.com/ramamet4/app-store-apple-data-set-10k-apps)."
   ]
  },
  {
   "cell_type": "code",
   "execution_count": 4,
   "metadata": {},
   "outputs": [
    {
     "name": "stdout",
     "output_type": "stream",
     "text": [
      "['App', 'Category', 'Rating', 'Reviews', 'Size', 'Installs', 'Type', 'Price', 'Content Rating', 'Genres', 'Last Updated', 'Current Ver', 'Android Ver']\n",
      "\n",
      "\n",
      "['Photo Editor & Candy Camera & Grid & ScrapBook', 'ART_AND_DESIGN', '4.1', '159', '19M', '10,000+', 'Free', '0', 'Everyone', 'Art & Design', 'January 7, 2018', '1.0.0', '4.0.3 and up']\n",
      "\n",
      "\n",
      "['Coloring book moana', 'ART_AND_DESIGN', '3.9', '967', '14M', '500,000+', 'Free', '0', 'Everyone', 'Art & Design;Pretend Play', 'January 15, 2018', '2.0.0', '4.0.3 and up']\n",
      "\n",
      "\n",
      "['U Launcher Lite – FREE Live Cool Themes, Hide Apps', 'ART_AND_DESIGN', '4.7', '87510', '8.7M', '5,000,000+', 'Free', '0', 'Everyone', 'Art & Design', 'August 1, 2018', '1.2.4', '4.0.3 and up']\n",
      "\n",
      "\n",
      "['Sketch - Draw & Paint', 'ART_AND_DESIGN', '4.5', '215644', '25M', '50,000,000+', 'Free', '0', 'Teen', 'Art & Design', 'June 8, 2018', 'Varies with device', '4.2 and up']\n",
      "\n",
      "\n",
      "Number of rows: 10842\n",
      "Number of columns: 13\n"
     ]
    }
   ],
   "source": [
    "with open('googleplaystore.csv') as f:\n",
    "    csv_reader = reader(f)\n",
    "    g_lines = list(csv_reader)\n",
    "    \n",
    "explore_data(g_lines, 0, 5, True)"
   ]
  },
  {
   "cell_type": "markdown",
   "metadata": {},
   "source": [
    "For Google, the columns of interest would be 'App', 'Category', 'Reviews', 'Installs', 'Type', 'Price', and 'Genres'. For context, the documentation regarding the columns are found [here](https://www.kaggle.com/lava18/google-play-store-apps)."
   ]
  },
  {
   "cell_type": "markdown",
   "metadata": {},
   "source": [
    "## Cleaning Data\n",
    "From here, we look to clean any anomalies in the datasets. \n",
    "\n",
    "### Removing Innacurate data:\n",
    "\n",
    "Regarding innacurate data, one issue of which is noted in the Google Play Store's [discussion section](https://www.kaggle.com/lava18/google-play-store-apps/discussion/66015)."
   ]
  },
  {
   "cell_type": "code",
   "execution_count": 5,
   "metadata": {},
   "outputs": [
    {
     "name": "stdout",
     "output_type": "stream",
     "text": [
      "['Life Made WI-Fi Touchscreen Photo Frame', '1.9', '19', '3.0M', '1,000+', 'Free', '0', 'Everyone', '', 'February 11, 2018', '1.0.19', '4.0 and up']\n",
      "10473\n"
     ]
    }
   ],
   "source": [
    "header_length = len(g_lines[0])\n",
    "for row in g_lines:\n",
    "    if len(row) != header_length:\n",
    "        print(row)\n",
    "        print(g_lines.index(row))"
   ]
  },
  {
   "cell_type": "code",
   "execution_count": 6,
   "metadata": {},
   "outputs": [],
   "source": [
    "del g_lines[10473] # Result of above length check"
   ]
  },
  {
   "cell_type": "markdown",
   "metadata": {},
   "source": [
    "### Removing Duplicates:\n",
    "\n",
    "Another thing to check for is duplicate data. This can be checked for primarily using the name. An example would be 'Instagram' which you can see an example of below."
   ]
  },
  {
   "cell_type": "code",
   "execution_count": 7,
   "metadata": {},
   "outputs": [
    {
     "name": "stdout",
     "output_type": "stream",
     "text": [
      "['Instagram', 'SOCIAL', '4.5', '66577313', 'Varies with device', '1,000,000,000+', 'Free', '0', 'Teen', 'Social', 'July 31, 2018', 'Varies with device', 'Varies with device']\n",
      "['Instagram', 'SOCIAL', '4.5', '66577446', 'Varies with device', '1,000,000,000+', 'Free', '0', 'Teen', 'Social', 'July 31, 2018', 'Varies with device', 'Varies with device']\n",
      "['Instagram', 'SOCIAL', '4.5', '66577313', 'Varies with device', '1,000,000,000+', 'Free', '0', 'Teen', 'Social', 'July 31, 2018', 'Varies with device', 'Varies with device']\n",
      "['Instagram', 'SOCIAL', '4.5', '66509917', 'Varies with device', '1,000,000,000+', 'Free', '0', 'Teen', 'Social', 'July 31, 2018', 'Varies with device', 'Varies with device']\n"
     ]
    }
   ],
   "source": [
    "for row in g_lines:\n",
    "    name = row[0]\n",
    "    if row[0] == 'Instagram':\n",
    "        print(row)"
   ]
  },
  {
   "cell_type": "markdown",
   "metadata": {},
   "source": [
    "Since this is confirmed above, we will see how extensive the problem is. Below the count of duplicates will be shown:"
   ]
  },
  {
   "cell_type": "code",
   "execution_count": 8,
   "metadata": {},
   "outputs": [
    {
     "name": "stdout",
     "output_type": "stream",
     "text": [
      "The number of duplicates in the Google Play Store dataset is 1181.\n"
     ]
    }
   ],
   "source": [
    "apps = {}\n",
    "duplicate_count = 0\n",
    "\n",
    "for app in g_lines:\n",
    "    name = app[0]\n",
    "    if name in apps:\n",
    "        if apps[name] < app[3]:\n",
    "            apps[name] = app[3]\n",
    "        duplicate_count += 1\n",
    "    else:\n",
    "        apps[name] = app[3]\n",
    "        \n",
    "print('The number of duplicates in the Google Play Store dataset is ' + str(duplicate_count) + '.')"
   ]
  },
  {
   "cell_type": "markdown",
   "metadata": {},
   "source": [
    "The above duplicate analysis was performed on the Apple Store and it did not result in any duplicates there. To deal with the duplicates in the Google Play Store, we will use the number of reviews as a proxy to when the row was entered. The highest number of reviews will indicate the most recent entry."
   ]
  },
  {
   "cell_type": "code",
   "execution_count": 9,
   "metadata": {},
   "outputs": [
    {
     "name": "stdout",
     "output_type": "stream",
     "text": [
      "['Photo Editor & Candy Camera & Grid & ScrapBook', 'ART_AND_DESIGN', '4.1', '159', '19M', '10,000+', 'Free', '0', 'Everyone', 'Art & Design', 'January 7, 2018', '1.0.0', '4.0.3 and up']\n",
      "\n",
      "\n",
      "Number of rows: 9660\n",
      "Number of columns: 13\n"
     ]
    }
   ],
   "source": [
    "cleaned_apps = []\n",
    "\n",
    "for app in g_lines: # To select non-duplicates\n",
    "    name = app[0]\n",
    "    if apps[name] == -1: # App is used\n",
    "        continue\n",
    "    elif apps[name] == app[3]: # Match\n",
    "        cleaned_apps.append(app)\n",
    "        apps[name] = -1\n",
    "\n",
    "explore_data(cleaned_apps, 1, 2, True)"
   ]
  },
  {
   "cell_type": "markdown",
   "metadata": {},
   "source": [
    "This is the expected number of rows (including the header row).\n",
    "\n",
    "### Removing Non-English Apps:\n",
    "\n",
    "Aside from duplicates, we should look at removing non-english apps since the apps developed at the company are for an English-speaking audience. First, we will develop a function for it."
   ]
  },
  {
   "cell_type": "code",
   "execution_count": 10,
   "metadata": {},
   "outputs": [
    {
     "name": "stdout",
     "output_type": "stream",
     "text": [
      "True\n",
      "False\n",
      "True\n",
      "True\n"
     ]
    }
   ],
   "source": [
    "def is_english(string):\n",
    "    non_ascii = 0\n",
    "    for letter in string:\n",
    "        if ord(letter) > 127:\n",
    "            non_ascii += 1\n",
    "    if non_ascii > 3: # In case of emoji or symbol\n",
    "        return False\n",
    "    else:\n",
    "        return True\n",
    "\n",
    "#To Test\n",
    "print(is_english('Instagram'))\n",
    "print(is_english('爱奇艺PPS -《欢乐颂2》电视剧热播'))\n",
    "print(is_english('Docs To Go™ Free Office Suite'))\n",
    "print(is_english('Instachat 😜'))"
   ]
  },
  {
   "cell_type": "markdown",
   "metadata": {},
   "source": [
    "Now we will clean our data sets."
   ]
  },
  {
   "cell_type": "code",
   "execution_count": 11,
   "metadata": {},
   "outputs": [
    {
     "name": "stdout",
     "output_type": "stream",
     "text": [
      "['Photo Editor & Candy Camera & Grid & ScrapBook', 'ART_AND_DESIGN', '4.1', '159', '19M', '10,000+', 'Free', '0', 'Everyone', 'Art & Design', 'January 7, 2018', '1.0.0', '4.0.3 and up']\n",
      "\n",
      "\n",
      "Number of rows: 9615\n",
      "Number of columns: 13\n",
      "['284882215', 'Facebook', '389879808', 'USD', '0.0', '2974676', '212', '3.5', '3.5', '95.0', '4+', 'Social Networking', '37', '1', '29', '1']\n",
      "\n",
      "\n",
      "Number of rows: 6184\n",
      "Number of columns: 16\n"
     ]
    }
   ],
   "source": [
    "google_apps = []\n",
    "apple_apps = []\n",
    "\n",
    "for app in cleaned_apps: #Cleaned Google Apps\n",
    "    if is_english(app[0]):\n",
    "        google_apps.append(app)\n",
    "\n",
    "for app in a_lines:\n",
    "    if is_english(app[1]):\n",
    "        apple_apps.append(app)\n",
    "        \n",
    "explore_data(google_apps,1,2,True)\n",
    "explore_data(apple_apps,1,2,True)"
   ]
  },
  {
   "cell_type": "markdown",
   "metadata": {},
   "source": [
    "### Isolating Free Apps:\n",
    "\n",
    "Another aspect to look at is the price of the app. Since the company only builds apps that are free to download and install, the data set will have to be cleaned to remove non-free apps."
   ]
  },
  {
   "cell_type": "code",
   "execution_count": 12,
   "metadata": {},
   "outputs": [
    {
     "name": "stdout",
     "output_type": "stream",
     "text": [
      "['Photo Editor & Candy Camera & Grid & ScrapBook', 'ART_AND_DESIGN', '4.1', '159', '19M', '10,000+', 'Free', '0', 'Everyone', 'Art & Design', 'January 7, 2018', '1.0.0', '4.0.3 and up']\n",
      "\n",
      "\n",
      "Number of rows: 8862\n",
      "Number of columns: 13\n",
      "['284882215', 'Facebook', '389879808', 'USD', '0.0', '2974676', '212', '3.5', '3.5', '95.0', '4+', 'Social Networking', '37', '1', '29', '1']\n",
      "\n",
      "\n",
      "Number of rows: 3222\n",
      "Number of columns: 16\n"
     ]
    }
   ],
   "source": [
    "free_google_apps = []\n",
    "free_apple_apps = []\n",
    "\n",
    "for app in google_apps: #Cleaned Google Apps\n",
    "    if app[7] == '0':\n",
    "        free_google_apps.append(app)\n",
    "\n",
    "for app in apple_apps:\n",
    "    if app[4] == '0.0':\n",
    "        free_apple_apps.append(app)\n",
    "        \n",
    "explore_data(free_google_apps,0,1,True)\n",
    "explore_data(free_apple_apps,0,1,True)"
   ]
  },
  {
   "cell_type": "markdown",
   "metadata": {},
   "source": [
    "## Analyzing the Data"
   ]
  },
  {
   "cell_type": "markdown",
   "metadata": {},
   "source": [
    "Since the end goal is to add an app on both the Google Play and App Store, we should find an app profile that is successful on both markets.\n",
    "\n",
    "The validation strategy will be the following:\n",
    "1. Build a minimal Android version of the app, and add it to Google Play.\n",
    "2. If the app has a good response from users, we develop it further.\n",
    "3. If the app is profitable after six months, we build an iOS version of the app and add it to the App Store.\n",
    "\n",
    "Android will be first due to the larger audience and potential for profit since the revenue is highly influenced by the number of people using the app.\n",
    "\n",
    "### Generating a Frequency Table:\n",
    "\n",
    "First, we will look at the genre of the application to develop with use of a frequency table. This is the *prime_genre* for the App Store and *Genres* and *Category* for the Google Play store."
   ]
  },
  {
   "cell_type": "code",
   "execution_count": 17,
   "metadata": {},
   "outputs": [],
   "source": [
    "def freq_table(dataset, index):\n",
    "    frequencies = {}\n",
    "    total = len(dataset)\n",
    "    \n",
    "    for row in dataset:\n",
    "        value = row[index]\n",
    "        if value in frequencies:\n",
    "            frequencies[value] += 1\n",
    "        else:\n",
    "            frequencies[value] = 1\n",
    "    \n",
    "    table_percentages = {}\n",
    "    for key in frequencies:\n",
    "        percentage = (frequencies[key] / total) * 100\n",
    "        table_percentages[key] = percentage \n",
    "    \n",
    "    return table_percentages \n",
    "\n",
    "def display_table(dataset, index):\n",
    "    table = freq_table(dataset, index)\n",
    "    table_display = []\n",
    "    for key in table:\n",
    "        key_val_as_tuple = (table[key], key)\n",
    "        table_display.append(key_val_as_tuple)\n",
    "\n",
    "    table_sorted = sorted(table_display, reverse = True)\n",
    "    for entry in table_sorted:\n",
    "        print(entry[1], ':', entry[0])"
   ]
  },
  {
   "cell_type": "code",
   "execution_count": 19,
   "metadata": {},
   "outputs": [
    {
     "name": "stdout",
     "output_type": "stream",
     "text": [
      "Games : 58.16263190564867\n",
      "Entertainment : 7.883302296710118\n",
      "Photo & Video : 4.9658597144630665\n",
      "Education : 3.662321539416512\n",
      "Social Networking : 3.2898820608317814\n",
      "Shopping : 2.60707635009311\n",
      "Utilities : 2.5139664804469275\n",
      "Sports : 2.1415270018621975\n",
      "Music : 2.0484171322160147\n",
      "Health & Fitness : 2.0173805090006205\n",
      "Productivity : 1.7380509000620732\n",
      "Lifestyle : 1.5828677839851024\n",
      "News : 1.3345747982619491\n",
      "Travel : 1.2414649286157666\n",
      "Finance : 1.1173184357541899\n",
      "Weather : 0.8690254500310366\n",
      "Food & Drink : 0.8069522036002483\n",
      "Reference : 0.5586592178770949\n",
      "Business : 0.5276225946617008\n",
      "Book : 0.4345127250155183\n",
      "Navigation : 0.186219739292365\n",
      "Medical : 0.186219739292365\n",
      "Catalogs : 0.12414649286157665\n"
     ]
    }
   ],
   "source": [
    "display_table(free_apple_apps, 11)"
   ]
  },
  {
   "cell_type": "markdown",
   "metadata": {},
   "source": [
    "The most common Apple Store application are Games at 58% and Entertainment at 8% as runner-up.\n",
    "\n",
    "The general impression is that entertainment of some sort are more numerous in the Apple Store.\n",
    "\n",
    "Just because there are many more games than the other genres does not mean that there are a higher number of users per app."
   ]
  },
  {
   "cell_type": "code",
   "execution_count": 22,
   "metadata": {
    "scrolled": false
   },
   "outputs": [
    {
     "name": "stdout",
     "output_type": "stream",
     "text": [
      "FAMILY : 18.934777702550214\n",
      "GAME : 9.693071541412774\n",
      "TOOLS : 8.451816745655607\n",
      "BUSINESS : 4.5926427443015125\n",
      "LIFESTYLE : 3.9043105393816293\n",
      "PRODUCTIVITY : 3.8930264048747465\n",
      "FINANCE : 3.7011961182577298\n",
      "MEDICAL : 3.5206499661475967\n",
      "SPORTS : 3.39652448657188\n",
      "PERSONALIZATION : 3.3175355450236967\n",
      "COMMUNICATION : 3.238546603475513\n",
      "HEALTH_AND_FITNESS : 3.080568720379147\n",
      "PHOTOGRAPHY : 2.945159106296547\n",
      "NEWS_AND_MAGAZINES : 2.798465357707064\n",
      "SOCIAL : 2.663055743624464\n",
      "TRAVEL_AND_LOCAL : 2.335815842924848\n",
      "SHOPPING : 2.2455427668697814\n",
      "BOOKS_AND_REFERENCE : 2.143985556307831\n",
      "DATING : 1.8618821936357481\n",
      "VIDEO_PLAYERS : 1.7941773865944481\n",
      "MAPS_AND_NAVIGATION : 1.399232678853532\n",
      "FOOD_AND_DRINK : 1.2412547957571656\n",
      "EDUCATION : 1.1735499887158656\n",
      "ENTERTAINMENT : 0.9591514330850823\n",
      "LIBRARIES_AND_DEMO : 0.9365831640713158\n",
      "AUTO_AND_VEHICLES : 0.9252990295644324\n",
      "HOUSE_AND_HOME : 0.8237418190024826\n",
      "WEATHER : 0.8011735499887158\n",
      "EVENTS : 0.7109004739336493\n",
      "PARENTING : 0.6544798013992327\n",
      "ART_AND_DESIGN : 0.6431956668923494\n",
      "COMICS : 0.6206273978785828\n",
      "BEAUTY : 0.598059128864816\n"
     ]
    }
   ],
   "source": [
    "display_table(free_google_apps, 1)"
   ]
  },
  {
   "cell_type": "markdown",
   "metadata": {},
   "source": [
    "The most common Google Play category is FAMILY at 19% with GAME at 10% as a runner up.\n",
    "\n",
    "The category is not as dominated as with Apple Store's genre."
   ]
  },
  {
   "cell_type": "code",
   "execution_count": 21,
   "metadata": {
    "scrolled": false
   },
   "outputs": [
    {
     "name": "stdout",
     "output_type": "stream",
     "text": [
      "Tools : 8.440532611148726\n",
      "Entertainment : 6.070864364703228\n",
      "Education : 5.348679756262695\n",
      "Business : 4.5926427443015125\n",
      "Productivity : 3.8930264048747465\n",
      "Lifestyle : 3.8930264048747465\n",
      "Finance : 3.7011961182577298\n",
      "Medical : 3.5206499661475967\n",
      "Sports : 3.4642292936131795\n",
      "Personalization : 3.3175355450236967\n",
      "Communication : 3.238546603475513\n",
      "Action : 3.1031369893929135\n",
      "Health & Fitness : 3.080568720379147\n",
      "Photography : 2.945159106296547\n",
      "News & Magazines : 2.798465357707064\n",
      "Social : 2.663055743624464\n",
      "Travel & Local : 2.324531708417964\n",
      "Shopping : 2.2455427668697814\n",
      "Books & Reference : 2.143985556307831\n",
      "Simulation : 2.0424283457458814\n",
      "Dating : 1.8618821936357481\n",
      "Arcade : 1.8505980591288649\n",
      "Video Players & Editors : 1.7716091175806816\n",
      "Casual : 1.7490408485669149\n",
      "Maps & Navigation : 1.399232678853532\n",
      "Food & Drink : 1.2412547957571656\n",
      "Puzzle : 1.128413450688332\n",
      "Racing : 0.9930038366057323\n",
      "Role Playing : 0.9365831640713158\n",
      "Libraries & Demo : 0.9365831640713158\n",
      "Auto & Vehicles : 0.9252990295644324\n",
      "Strategy : 0.9140148950575491\n",
      "House & Home : 0.8237418190024826\n",
      "Weather : 0.8011735499887158\n",
      "Events : 0.7109004739336493\n",
      "Adventure : 0.6770480704129994\n",
      "Comics : 0.6093432633716994\n",
      "Beauty : 0.598059128864816\n",
      "Art & Design : 0.598059128864816\n",
      "Parenting : 0.49650191830286616\n",
      "Card : 0.4400812457684496\n",
      "Casino : 0.4287971112615662\n",
      "Trivia : 0.41751297675468296\n",
      "Educational;Education : 0.3949447077409162\n",
      "Educational : 0.3723764387271496\n",
      "Board : 0.3723764387271496\n",
      "Education;Education : 0.3385240352064997\n",
      "Word : 0.2595350936583164\n",
      "Casual;Pretend Play : 0.23696682464454977\n",
      "Music : 0.2031144211238998\n",
      "Puzzle;Brain Games : 0.18054615211013314\n",
      "Racing;Action & Adventure : 0.16926201760324985\n",
      "Entertainment;Music & Video : 0.16926201760324985\n",
      "Casual;Brain Games : 0.13540961408259986\n",
      "Casual;Action & Adventure : 0.13540961408259986\n",
      "Arcade;Action & Adventure : 0.12412547957571654\n",
      "Action;Action & Adventure : 0.1015572105619499\n",
      "Educational;Pretend Play : 0.09027307605506657\n",
      "Board;Brain Games : 0.09027307605506657\n",
      "Simulation;Action & Adventure : 0.07898894154818326\n",
      "Parenting;Education : 0.07898894154818326\n",
      "Entertainment;Brain Games : 0.07898894154818326\n",
      "Parenting;Music & Video : 0.06770480704129993\n",
      "Educational;Brain Games : 0.06770480704129993\n",
      "Casual;Creativity : 0.06770480704129993\n",
      "Art & Design;Creativity : 0.06770480704129993\n",
      "Education;Pretend Play : 0.056420672534416606\n",
      "Role Playing;Pretend Play : 0.045136538027533285\n",
      "Education;Creativity : 0.045136538027533285\n",
      "Role Playing;Action & Adventure : 0.033852403520649964\n",
      "Puzzle;Action & Adventure : 0.033852403520649964\n",
      "Entertainment;Creativity : 0.033852403520649964\n",
      "Entertainment;Action & Adventure : 0.033852403520649964\n",
      "Educational;Creativity : 0.033852403520649964\n",
      "Educational;Action & Adventure : 0.033852403520649964\n",
      "Education;Music & Video : 0.033852403520649964\n",
      "Education;Brain Games : 0.033852403520649964\n",
      "Education;Action & Adventure : 0.033852403520649964\n",
      "Adventure;Action & Adventure : 0.033852403520649964\n",
      "Video Players & Editors;Music & Video : 0.022568269013766643\n",
      "Sports;Action & Adventure : 0.022568269013766643\n",
      "Simulation;Pretend Play : 0.022568269013766643\n",
      "Puzzle;Creativity : 0.022568269013766643\n",
      "Music;Music & Video : 0.022568269013766643\n",
      "Entertainment;Pretend Play : 0.022568269013766643\n",
      "Casual;Education : 0.022568269013766643\n",
      "Board;Action & Adventure : 0.022568269013766643\n",
      "Video Players & Editors;Creativity : 0.011284134506883321\n",
      "Trivia;Education : 0.011284134506883321\n",
      "Travel & Local;Action & Adventure : 0.011284134506883321\n",
      "Tools;Education : 0.011284134506883321\n",
      "Strategy;Education : 0.011284134506883321\n",
      "Strategy;Creativity : 0.011284134506883321\n",
      "Strategy;Action & Adventure : 0.011284134506883321\n",
      "Simulation;Education : 0.011284134506883321\n",
      "Role Playing;Brain Games : 0.011284134506883321\n",
      "Racing;Pretend Play : 0.011284134506883321\n",
      "Puzzle;Education : 0.011284134506883321\n",
      "Parenting;Brain Games : 0.011284134506883321\n",
      "Music & Audio;Music & Video : 0.011284134506883321\n",
      "Lifestyle;Pretend Play : 0.011284134506883321\n",
      "Lifestyle;Education : 0.011284134506883321\n",
      "Health & Fitness;Education : 0.011284134506883321\n",
      "Health & Fitness;Action & Adventure : 0.011284134506883321\n",
      "Entertainment;Education : 0.011284134506883321\n",
      "Communication;Creativity : 0.011284134506883321\n",
      "Comics;Creativity : 0.011284134506883321\n",
      "Casual;Music & Video : 0.011284134506883321\n",
      "Card;Brain Games : 0.011284134506883321\n",
      "Card;Action & Adventure : 0.011284134506883321\n",
      "Books & Reference;Education : 0.011284134506883321\n",
      "Art & Design;Pretend Play : 0.011284134506883321\n",
      "Art & Design;Action & Adventure : 0.011284134506883321\n",
      "Arcade;Pretend Play : 0.011284134506883321\n",
      "Adventure;Education : 0.011284134506883321\n"
     ]
    }
   ],
   "source": [
    "display_table(free_google_apps, 9)"
   ]
  },
  {
   "cell_type": "markdown",
   "metadata": {},
   "source": [
    "When looking at the genre table for Google Play, you can note that practical purposes are more dominant (however not as much as entertainment in the Apple Store).\n",
    "\n",
    "So far, the genres for both stores are not equivalent and an app profile cannot be recommended using the number of applications for a genre."
   ]
  },
  {
   "cell_type": "markdown",
   "metadata": {},
   "source": [
    "### Finding the Genre with the Most Users per App:\n",
    "\n",
    "Since the number of apps per genre is not helpful for capturing the number of users for that genre, we will look at the average number of users pe app for each genre."
   ]
  },
  {
   "cell_type": "code",
   "execution_count": 42,
   "metadata": {},
   "outputs": [],
   "source": [
    "def avg_users(dataset, genre_index, users_index, google=False):\n",
    "    user_count = {}\n",
    "    app_frequency = {}\n",
    "    \n",
    "    for row in dataset:\n",
    "        genre = row[genre_index]\n",
    "        if google:\n",
    "            users = int(row[users_index].replace(',','').replace('+',''))\n",
    "        else:\n",
    "            users = int(row[users_index])\n",
    "        if genre in user_count:\n",
    "            user_count[genre] += users\n",
    "            app_frequency[genre] += 1\n",
    "        else:\n",
    "            user_count[genre] = users\n",
    "            app_frequency[genre] = 1\n",
    "    \n",
    "    average_users = {}\n",
    "    for key in user_count:\n",
    "        percentage = (user_count[key] / app_frequency[key]) * 100\n",
    "        average_users[key] = percentage \n",
    "    \n",
    "    return average_users \n",
    "\n",
    "def display_table_users(dataset, genre_index, users_index, google=False):\n",
    "    table = avg_users(dataset, genre_index, users_index, google)\n",
    "    table_display = []\n",
    "    for key in table:\n",
    "        key_val_as_tuple = (table[key], key)\n",
    "        table_display.append(key_val_as_tuple)\n",
    "\n",
    "    table_sorted = sorted(table_display, reverse = True)\n",
    "    for entry in table_sorted:\n",
    "        print(entry[1], ':', entry[0])"
   ]
  },
  {
   "cell_type": "code",
   "execution_count": 43,
   "metadata": {},
   "outputs": [
    {
     "name": "stdout",
     "output_type": "stream",
     "text": [
      "Navigation : 8609033.333333332\n",
      "Reference : 7494211.111111111\n",
      "Social Networking : 7154834.905660378\n",
      "Music : 5732653.03030303\n",
      "Weather : 5227989.285714285\n",
      "Book : 3975850.0\n",
      "Food & Drink : 3333392.307692308\n",
      "Finance : 3146794.4444444445\n",
      "Photo & Video : 2844154.375\n",
      "Travel : 2824380.0\n",
      "Shopping : 2691969.0476190476\n",
      "Health & Fitness : 2329801.5384615385\n",
      "Sports : 2300889.8550724634\n",
      "Games : 2278866.96905016\n",
      "News : 2124802.3255813955\n",
      "Productivity : 2102841.0714285714\n",
      "Utilities : 1868445.6790123456\n",
      "Lifestyle : 1648576.4705882354\n",
      "Entertainment : 1402983.0708661417\n",
      "Business : 749111.7647058823\n",
      "Education : 700398.3050847457\n",
      "Catalogs : 400400.0\n",
      "Medical : 61200.0\n"
     ]
    }
   ],
   "source": [
    "display_table_users(free_apple_apps, 11, 5)"
   ]
  },
  {
   "cell_type": "code",
   "execution_count": 44,
   "metadata": {},
   "outputs": [
    {
     "name": "stdout",
     "output_type": "stream",
     "text": [
      "COMMUNICATION : 3845611916.7247386\n",
      "VIDEO_PLAYERS : 2472787245.2830186\n",
      "SOCIAL : 2325365212.7118645\n",
      "PHOTOGRAPHY : 1780562764.3678162\n",
      "PRODUCTIVITY : 1678733134.4927535\n",
      "GAME : 1556096559.9534342\n",
      "TRAVEL_AND_LOCAL : 1398407771.0144928\n",
      "ENTERTAINMENT : 1164070588.235294\n",
      "TOOLS : 1068230103.3377837\n",
      "NEWS_AND_MAGAZINES : 954917846.7741934\n",
      "BOOKS_AND_REFERENCE : 876781189.4736841\n",
      "SHOPPING : 703687731.1557789\n",
      "PERSONALIZATION : 520148261.22448975\n",
      "WEATHER : 507448619.7183099\n",
      "HEALTH_AND_FITNESS : 418882198.5347985\n",
      "MAPS_AND_NAVIGATION : 405694177.41935486\n",
      "FAMILY : 369427633.4922527\n",
      "SPORTS : 363864014.28571427\n",
      "ART_AND_DESIGN : 198633508.77192983\n",
      "FOOD_AND_DRINK : 192489773.63636363\n",
      "EDUCATION : 182067307.6923077\n",
      "BUSINESS : 171229014.74201474\n",
      "LIFESTYLE : 143781626.87861273\n",
      "FINANCE : 138769247.5609756\n",
      "HOUSE_AND_HOME : 133154056.16438356\n",
      "DATING : 85402883.03030303\n",
      "COMICS : 81765727.27272727\n",
      "AUTO_AND_VEHICLES : 64731781.70731707\n",
      "LIBRARIES_AND_DEMO : 63850373.4939759\n",
      "PARENTING : 54260362.06896552\n",
      "BEAUTY : 51315188.679245286\n",
      "EVENTS : 25354222.22222222\n",
      "MEDICAL : 12061648.717948718\n"
     ]
    }
   ],
   "source": [
    "display_table_users(free_google_apps, 1, 5, google=True)"
   ]
  },
  {
   "cell_type": "code",
   "execution_count": 46,
   "metadata": {},
   "outputs": [
    {
     "name": "stdout",
     "output_type": "stream",
     "text": [
      "COMMUNICATION : 3845611916.7247386\n",
      "VIDEO_PLAYERS : 2472787245.2830186\n",
      "SOCIAL : 2325365212.7118645\n",
      "PHOTOGRAPHY : 1780562764.3678162\n",
      "PRODUCTIVITY : 1678733134.4927535\n",
      "GAME : 1556096559.9534342\n",
      "TRAVEL_AND_LOCAL : 1398407771.0144928\n",
      "ENTERTAINMENT : 1164070588.235294\n",
      "TOOLS : 1068230103.3377837\n",
      "NEWS_AND_MAGAZINES : 954917846.7741934\n",
      "BOOKS_AND_REFERENCE : 876781189.4736841\n",
      "SHOPPING : 703687731.1557789\n",
      "PERSONALIZATION : 520148261.22448975\n",
      "WEATHER : 507448619.7183099\n",
      "HEALTH_AND_FITNESS : 418882198.5347985\n",
      "MAPS_AND_NAVIGATION : 405694177.41935486\n",
      "FAMILY : 369427633.4922527\n",
      "SPORTS : 363864014.28571427\n",
      "ART_AND_DESIGN : 198633508.77192983\n",
      "FOOD_AND_DRINK : 192489773.63636363\n",
      "EDUCATION : 182067307.6923077\n",
      "BUSINESS : 171229014.74201474\n",
      "LIFESTYLE : 143781626.87861273\n",
      "FINANCE : 138769247.5609756\n",
      "HOUSE_AND_HOME : 133154056.16438356\n",
      "DATING : 85402883.03030303\n",
      "COMICS : 81765727.27272727\n",
      "AUTO_AND_VEHICLES : 64731781.70731707\n",
      "LIBRARIES_AND_DEMO : 63850373.4939759\n",
      "PARENTING : 54260362.06896552\n",
      "BEAUTY : 51315188.679245286\n",
      "EVENTS : 25354222.22222222\n",
      "MEDICAL : 12061648.717948718\n"
     ]
    }
   ],
   "source": [
    "display_table_users(free_google_apps, 1, 5, google=True)"
   ]
  },
  {
   "cell_type": "markdown",
   "metadata": {},
   "source": [
    "It seems that social applications have the highest number of users on each store. However, in context there may be skewed data due to massive downloads for the most popular social apps.\n",
    "\n",
    "I would recomm"
   ]
  }
 ],
 "metadata": {
  "kernelspec": {
   "display_name": "Python 3",
   "language": "python",
   "name": "python3"
  },
  "language_info": {
   "codemirror_mode": {
    "name": "ipython",
    "version": 3
   },
   "file_extension": ".py",
   "mimetype": "text/x-python",
   "name": "python",
   "nbconvert_exporter": "python",
   "pygments_lexer": "ipython3",
   "version": "3.8.2"
  }
 },
 "nbformat": 4,
 "nbformat_minor": 2
}
