{
 "cells": [
  {
   "cell_type": "markdown",
   "metadata": {},
   "source": [
    "# Profitable App Profiles for the App Store and Google Play Markets\n",
    "\n",
    "This project is requested by a company that builds Android and iOS mobile apps that are free to download and install. The business strategy of the company is solely to make money by in-app ads which means that revenue is mostly influenced by the number of users who use the app.\n",
    "\n",
    "The Google Play dataset is found [here](https://www.kaggle.com/lava18/google-play-store-apps).\n",
    "The Apple Store dataset is found [here](https://www.kaggle.com/ramamet4/app-store-apple-data-set-10k-apps#AppleStore.csv).\n",
    "\n",
    "The goal of this project is to analyze data to help the developers understand what type of apps are likely to attract more users. "
   ]
  },
  {
   "cell_type": "markdown",
   "metadata": {},
   "source": [
    "## Opening and Exploring the Data\n",
    "\n",
    "First, we will use a function to output and observe the opened data."
   ]
  },
  {
   "cell_type": "code",
   "execution_count": 2,
   "metadata": {},
   "outputs": [],
   "source": [
    "def explore_data(dataset, start, end, rows_and_columns=False):\n",
    "    dataset_slice = dataset[start:end]    \n",
    "    for row in dataset_slice:\n",
    "        print(row)\n",
    "        print('\\n')\n",
    "\n",
    "    if rows_and_columns:\n",
    "        print('Number of rows:', len(dataset))\n",
    "        print('Number of columns:', len(dataset[0]))"
   ]
  },
  {
   "cell_type": "code",
   "execution_count": 3,
   "metadata": {},
   "outputs": [
    {
     "name": "stdout",
     "output_type": "stream",
     "text": [
      "['0: id', '1: track_name', '2: size_bytes', '3: currency', '4: price', '5: rating_count_tot', '6: rating_count_ver', '7: user_rating', '8: user_rating_ver', '9: ver', '10: cont_rating', '11: prime_genre', '12: sup_devices.num', '13: ipadSc_urls.num', '14: lang.num', '15: vpp_lic']\n",
      "\n",
      "\n",
      "['284882215', 'Facebook', '389879808', 'USD', '0.0', '2974676', '212', '3.5', '3.5', '95.0', '4+', 'Social Networking', '37', '1', '29', '1']\n",
      "\n",
      "\n",
      "['389801252', 'Instagram', '113954816', 'USD', '0.0', '2161558', '1289', '4.5', '4.0', '10.23', '12+', 'Photo & Video', '37', '0', '29', '1']\n",
      "\n",
      "\n",
      "['529479190', 'Clash of Clans', '116476928', 'USD', '0.0', '2130805', '579', '4.5', '4.5', '9.24.12', '9+', 'Games', '38', '5', '18', '1']\n",
      "\n",
      "\n",
      "['420009108', 'Temple Run', '65921024', 'USD', '0.0', '1724546', '3842', '4.5', '4.0', '1.6.2', '9+', 'Games', '40', '5', '1', '1']\n",
      "\n",
      "\n",
      "['284035177', 'Pandora - Music & Radio', '130242560', 'USD', '0.0', '1126879', '3594', '4.0', '4.5', '8.4.1', '12+', 'Music', '37', '4', '1', '1']\n",
      "\n",
      "\n",
      "Number of rows: 7198\n",
      "Number of columns: 16\n"
     ]
    }
   ],
   "source": [
    "from csv import reader\n",
    "\n",
    "with open('AppleStore.csv') as f:\n",
    "    csv_reader = reader(f)\n",
    "    a_lines = list(csv_reader)\n",
    "    \n",
    "print([str(element[1]) + ': ' + element[0] for element in zip(a_lines[0],range(len(a_lines[0])))])\n",
    "print('\\n')\n",
    "    \n",
    "explore_data(a_lines, 1, 6, True)"
   ]
  },
  {
   "cell_type": "markdown",
   "metadata": {},
   "source": [
    "For Apple, the columns of interest would be 'track_name', 'currency', 'price', 'rating_count_tot', 'rating_count_ver', and 'prime_genre'. For context, the documentation regarding the columns are found [here](https://www.kaggle.com/ramamet4/app-store-apple-data-set-10k-apps)."
   ]
  },
  {
   "cell_type": "code",
   "execution_count": 4,
   "metadata": {},
   "outputs": [
    {
     "name": "stdout",
     "output_type": "stream",
     "text": [
      "['0: App', '1: Category', '2: Rating', '3: Reviews', '4: Size', '5: Installs', '6: Type', '7: Price', '8: Content Rating', '9: Genres', '10: Last Updated', '11: Current Ver', '12: Android Ver']\n",
      "\n",
      "\n",
      "['Photo Editor & Candy Camera & Grid & ScrapBook', 'ART_AND_DESIGN', '4.1', '159', '19M', '10,000+', 'Free', '0', 'Everyone', 'Art & Design', 'January 7, 2018', '1.0.0', '4.0.3 and up']\n",
      "\n",
      "\n",
      "['Coloring book moana', 'ART_AND_DESIGN', '3.9', '967', '14M', '500,000+', 'Free', '0', 'Everyone', 'Art & Design;Pretend Play', 'January 15, 2018', '2.0.0', '4.0.3 and up']\n",
      "\n",
      "\n",
      "['U Launcher Lite – FREE Live Cool Themes, Hide Apps', 'ART_AND_DESIGN', '4.7', '87510', '8.7M', '5,000,000+', 'Free', '0', 'Everyone', 'Art & Design', 'August 1, 2018', '1.2.4', '4.0.3 and up']\n",
      "\n",
      "\n",
      "['Sketch - Draw & Paint', 'ART_AND_DESIGN', '4.5', '215644', '25M', '50,000,000+', 'Free', '0', 'Teen', 'Art & Design', 'June 8, 2018', 'Varies with device', '4.2 and up']\n",
      "\n",
      "\n",
      "['Pixel Draw - Number Art Coloring Book', 'ART_AND_DESIGN', '4.3', '967', '2.8M', '100,000+', 'Free', '0', 'Everyone', 'Art & Design;Creativity', 'June 20, 2018', '1.1', '4.4 and up']\n",
      "\n",
      "\n",
      "Number of rows: 10842\n",
      "Number of columns: 13\n"
     ]
    }
   ],
   "source": [
    "with open('googleplaystore.csv') as f:\n",
    "    csv_reader = reader(f)\n",
    "    g_lines = list(csv_reader)\n",
    "    \n",
    "print([str(element[1]) + ': ' + element[0] for element in zip(g_lines[0],range(len(g_lines[0])))])\n",
    "print('\\n')\n",
    "    \n",
    "explore_data(g_lines, 1, 6, True)"
   ]
  },
  {
   "cell_type": "markdown",
   "metadata": {},
   "source": [
    "For Google, the columns of interest would be 'App', 'Category', 'Reviews', 'Installs', 'Type', 'Price', and 'Genres'. For context, the documentation regarding the columns are found [here](https://www.kaggle.com/lava18/google-play-store-apps)."
   ]
  },
  {
   "cell_type": "markdown",
   "metadata": {},
   "source": [
    "## Cleaning Data\n",
    "From here, we look to clean any anomalies in the datasets. \n",
    "\n",
    "### Removing Innacurate data:\n",
    "\n",
    "Regarding innacurate data, one issue of which is noted in the Google Play Store's [discussion section](https://www.kaggle.com/lava18/google-play-store-apps/discussion/66015)."
   ]
  },
  {
   "cell_type": "code",
   "execution_count": 5,
   "metadata": {},
   "outputs": [
    {
     "name": "stdout",
     "output_type": "stream",
     "text": [
      "['Life Made WI-Fi Touchscreen Photo Frame', '1.9', '19', '3.0M', '1,000+', 'Free', '0', 'Everyone', '', 'February 11, 2018', '1.0.19', '4.0 and up']\n",
      "10473\n"
     ]
    }
   ],
   "source": [
    "header_length = len(g_lines[0])\n",
    "for row in g_lines:\n",
    "    if len(row) != header_length:\n",
    "        print(row)\n",
    "        print(g_lines.index(row))"
   ]
  },
  {
   "cell_type": "code",
   "execution_count": 6,
   "metadata": {},
   "outputs": [],
   "source": [
    "# Result of above length check\n",
    "del g_lines[10473]"
   ]
  },
  {
   "cell_type": "markdown",
   "metadata": {},
   "source": [
    "### Removing Duplicates:\n",
    "\n",
    "Another thing to check for is duplicate data. This can be checked for primarily using the name. An example would be 'Instagram' which you can see an example of below."
   ]
  },
  {
   "cell_type": "code",
   "execution_count": 7,
   "metadata": {},
   "outputs": [
    {
     "name": "stdout",
     "output_type": "stream",
     "text": [
      "['Instagram', 'SOCIAL', '4.5', '66577313', 'Varies with device', '1,000,000,000+', 'Free', '0', 'Teen', 'Social', 'July 31, 2018', 'Varies with device', 'Varies with device']\n",
      "['Instagram', 'SOCIAL', '4.5', '66577446', 'Varies with device', '1,000,000,000+', 'Free', '0', 'Teen', 'Social', 'July 31, 2018', 'Varies with device', 'Varies with device']\n",
      "['Instagram', 'SOCIAL', '4.5', '66577313', 'Varies with device', '1,000,000,000+', 'Free', '0', 'Teen', 'Social', 'July 31, 2018', 'Varies with device', 'Varies with device']\n",
      "['Instagram', 'SOCIAL', '4.5', '66509917', 'Varies with device', '1,000,000,000+', 'Free', '0', 'Teen', 'Social', 'July 31, 2018', 'Varies with device', 'Varies with device']\n"
     ]
    }
   ],
   "source": [
    "for row in g_lines:\n",
    "    name = row[0]\n",
    "    if name == 'Instagram':\n",
    "        print(row)"
   ]
  },
  {
   "cell_type": "markdown",
   "metadata": {},
   "source": [
    "Since this is confirmed above, we will see how extensive the problem is. Below the count of duplicates will be shown:"
   ]
  },
  {
   "cell_type": "code",
   "execution_count": 8,
   "metadata": {},
   "outputs": [
    {
     "name": "stdout",
     "output_type": "stream",
     "text": [
      "The number of duplicates in the Google Play Store dataset is 1181.\n"
     ]
    }
   ],
   "source": [
    "apps = {}\n",
    "duplicate_count = 0\n",
    "review_row = 3\n",
    "\n",
    "for app in g_lines:\n",
    "    name = app[0]\n",
    "    if name in apps:\n",
    "        if apps[name] < app[review_row]: # Save only the highest review row (downloads is app[3])\n",
    "            apps[name] = app[review_row]\n",
    "        duplicate_count += 1\n",
    "    else:\n",
    "        apps[name] = app[review_row]\n",
    "        \n",
    "print('The number of duplicates in the Google Play Store dataset is ' + str(duplicate_count) + '.')"
   ]
  },
  {
   "cell_type": "markdown",
   "metadata": {},
   "source": [
    "The above duplicate analysis was performed on the Apple Store and it did not result in any duplicates there. To deal with the duplicates in the Google Play Store, we will use the number of reviews as a proxy to when the row was entered. The highest number of reviews will indicate the most recent entry."
   ]
  },
  {
   "cell_type": "code",
   "execution_count": 9,
   "metadata": {},
   "outputs": [
    {
     "name": "stdout",
     "output_type": "stream",
     "text": [
      "['Photo Editor & Candy Camera & Grid & ScrapBook', 'ART_AND_DESIGN', '4.1', '159', '19M', '10,000+', 'Free', '0', 'Everyone', 'Art & Design', 'January 7, 2018', '1.0.0', '4.0.3 and up']\n",
      "\n",
      "\n",
      "Number of rows: 9660\n",
      "Number of columns: 13\n"
     ]
    }
   ],
   "source": [
    "cleaned_apps = []\n",
    "\n",
    "for app in g_lines:  # To select non-duplicates\n",
    "    name = app[0]\n",
    "    if apps[name] == -1:  # App is used\n",
    "        continue\n",
    "    elif apps[name] == app[review_row]:  # Match on review count\n",
    "        cleaned_apps.append(app)\n",
    "        apps[name] = -1\n",
    "\n",
    "explore_data(cleaned_apps, 1, 2, True)"
   ]
  },
  {
   "cell_type": "markdown",
   "metadata": {},
   "source": [
    "This is the expected number of rows (including the header row).\n",
    "\n",
    "### Removing Non-English Apps:\n",
    "\n",
    "Aside from duplicates, we should look at removing non-english apps since the apps developed at the company are for an English-speaking audience. First, we will develop a function for it."
   ]
  },
  {
   "cell_type": "code",
   "execution_count": 10,
   "metadata": {},
   "outputs": [
    {
     "name": "stdout",
     "output_type": "stream",
     "text": [
      "True\n",
      "False\n",
      "True\n",
      "True\n"
     ]
    }
   ],
   "source": [
    "def is_english(string):\n",
    "    non_ascii = 0\n",
    "    for letter in string:\n",
    "        if ord(letter) > 127:  # Highest ascii number\n",
    "            non_ascii += 1\n",
    "    if non_ascii > 3:  # In case of emoji or symbol\n",
    "        return False\n",
    "    else:\n",
    "        return True\n",
    "\n",
    "# To Test\n",
    "print(is_english('Instagram'))\n",
    "print(is_english('爱奇艺PPS -《欢乐颂2》电视剧热播'))\n",
    "print(is_english('Docs To Go™ Free Office Suite'))\n",
    "print(is_english('Instachat 😜'))"
   ]
  },
  {
   "cell_type": "markdown",
   "metadata": {},
   "source": [
    "Now we will clean our data sets."
   ]
  },
  {
   "cell_type": "code",
   "execution_count": 11,
   "metadata": {},
   "outputs": [
    {
     "name": "stdout",
     "output_type": "stream",
     "text": [
      "['Photo Editor & Candy Camera & Grid & ScrapBook', 'ART_AND_DESIGN', '4.1', '159', '19M', '10,000+', 'Free', '0', 'Everyone', 'Art & Design', 'January 7, 2018', '1.0.0', '4.0.3 and up']\n",
      "\n",
      "\n",
      "Number of rows: 9615\n",
      "Number of columns: 13\n",
      "['284882215', 'Facebook', '389879808', 'USD', '0.0', '2974676', '212', '3.5', '3.5', '95.0', '4+', 'Social Networking', '37', '1', '29', '1']\n",
      "\n",
      "\n",
      "Number of rows: 6184\n",
      "Number of columns: 16\n"
     ]
    }
   ],
   "source": [
    "google_apps = []\n",
    "apple_apps = []\n",
    "\n",
    "for app in cleaned_apps:  # Cleaned Google Apps\n",
    "    if is_english(app[0]):\n",
    "        google_apps.append(app)\n",
    "\n",
    "for app in a_lines:  # Apple Apps\n",
    "    if is_english(app[1]):\n",
    "        apple_apps.append(app)\n",
    "        \n",
    "explore_data(google_apps, 1, 2, True)\n",
    "explore_data(apple_apps, 1, 2, True)"
   ]
  },
  {
   "cell_type": "markdown",
   "metadata": {},
   "source": [
    "### Isolating Free Apps:\n",
    "\n",
    "Another aspect to look at is the price of the app. Since the company only builds apps that are free to download and install, the data set will have to be cleaned to remove non-free apps."
   ]
  },
  {
   "cell_type": "code",
   "execution_count": 12,
   "metadata": {},
   "outputs": [
    {
     "name": "stdout",
     "output_type": "stream",
     "text": [
      "['Photo Editor & Candy Camera & Grid & ScrapBook', 'ART_AND_DESIGN', '4.1', '159', '19M', '10,000+', 'Free', '0', 'Everyone', 'Art & Design', 'January 7, 2018', '1.0.0', '4.0.3 and up']\n",
      "\n",
      "\n",
      "Number of rows: 8862\n",
      "Number of columns: 13\n",
      "['284882215', 'Facebook', '389879808', 'USD', '0.0', '2974676', '212', '3.5', '3.5', '95.0', '4+', 'Social Networking', '37', '1', '29', '1']\n",
      "\n",
      "\n",
      "Number of rows: 3222\n",
      "Number of columns: 16\n"
     ]
    }
   ],
   "source": [
    "free_google_apps = []\n",
    "free_apple_apps = []\n",
    "google_cost_idx = 7\n",
    "apple_cost_idx = 4\n",
    "\n",
    "for app in google_apps:\n",
    "    if app[google_cost_idx] == '0':\n",
    "        free_google_apps.append(app)\n",
    "\n",
    "for app in apple_apps:\n",
    "    if app[apple_cost_idx] == '0.0':\n",
    "        free_apple_apps.append(app)\n",
    "        \n",
    "explore_data(free_google_apps, 0, 1, True)\n",
    "explore_data(free_apple_apps, 0, 1, True)"
   ]
  },
  {
   "cell_type": "markdown",
   "metadata": {},
   "source": [
    "## Analyzing the Data"
   ]
  },
  {
   "cell_type": "markdown",
   "metadata": {},
   "source": [
    "Since the end goal is to add an app on both the Google Play and App Store, we should find an app profile that is successful on both markets.\n",
    "\n",
    "The validation strategy will be the following:\n",
    "1. Build a minimal Android version of the app, and add it to Google Play.\n",
    "2. If the app has a good response from users, develop it further.\n",
    "3. If the app is profitable after six months, build an iOS version of the app and add it to the App Store.\n",
    "\n",
    "Android will be first due to the larger audience and potential for profit since the revenue is highly influenced by the number of people using the app.\n",
    "\n",
    "### Generating a Frequency Table:\n",
    "\n",
    "First, we will look at the genre of the application to develop with use of a frequency table. This is the *prime_genre* for the App Store and *Genres* and *Category* for the Google Play store."
   ]
  },
  {
   "cell_type": "code",
   "execution_count": 13,
   "metadata": {},
   "outputs": [],
   "source": [
    "apple_genre_idx = 11\n",
    "google_genre_idx = 1\n",
    "google_category_idx = 9\n",
    "\n",
    "def freq_table(dataset, index):\n",
    "    frequencies = {}\n",
    "    total = len(dataset)\n",
    "    \n",
    "    for row in dataset:\n",
    "        value = row[index]\n",
    "        if value in frequencies:\n",
    "            frequencies[value] += 1\n",
    "        else:\n",
    "            frequencies[value] = 1\n",
    "    \n",
    "    table_percentages = {}\n",
    "    for key in frequencies:\n",
    "        percentage = (frequencies[key] / total) * 100\n",
    "        table_percentages[key] = percentage \n",
    "    \n",
    "    return table_percentages \n",
    "\n",
    "def display_table(dataset, index):\n",
    "    table = freq_table(dataset, index)\n",
    "    table_display = []\n",
    "    for key in table:\n",
    "        key_val_as_tuple = (table[key], key)\n",
    "        table_display.append(key_val_as_tuple)\n",
    "\n",
    "    table_sorted = sorted(table_display, reverse=True)\n",
    "    for entry in table_sorted:\n",
    "        print(entry[1]+': '+'{:.2f}'.format(entry[0]))"
   ]
  },
  {
   "cell_type": "code",
   "execution_count": 14,
   "metadata": {},
   "outputs": [
    {
     "name": "stdout",
     "output_type": "stream",
     "text": [
      "Games: 58.16\n",
      "Entertainment: 7.88\n",
      "Photo & Video: 4.97\n",
      "Education: 3.66\n",
      "Social Networking: 3.29\n",
      "Shopping: 2.61\n",
      "Utilities: 2.51\n",
      "Sports: 2.14\n",
      "Music: 2.05\n",
      "Health & Fitness: 2.02\n",
      "Productivity: 1.74\n",
      "Lifestyle: 1.58\n",
      "News: 1.33\n",
      "Travel: 1.24\n",
      "Finance: 1.12\n",
      "Weather: 0.87\n",
      "Food & Drink: 0.81\n",
      "Reference: 0.56\n",
      "Business: 0.53\n",
      "Book: 0.43\n",
      "Navigation: 0.19\n",
      "Medical: 0.19\n",
      "Catalogs: 0.12\n"
     ]
    }
   ],
   "source": [
    "display_table(free_apple_apps, apple_genre_idx)"
   ]
  },
  {
   "cell_type": "markdown",
   "metadata": {},
   "source": [
    "The most common Apple Store application are Games at 58% and Entertainment at 8% as runner-up.\n",
    "\n",
    "The general impression is that entertainment of some sort are more numerous in the Apple Store.\n",
    "\n",
    "Just because there are many more games than the other genres does not mean that there are a higher number of users per app."
   ]
  },
  {
   "cell_type": "code",
   "execution_count": 15,
   "metadata": {
    "scrolled": false
   },
   "outputs": [
    {
     "name": "stdout",
     "output_type": "stream",
     "text": [
      "FAMILY: 18.93\n",
      "GAME: 9.69\n",
      "TOOLS: 8.45\n",
      "BUSINESS: 4.59\n",
      "LIFESTYLE: 3.90\n",
      "PRODUCTIVITY: 3.89\n",
      "FINANCE: 3.70\n",
      "MEDICAL: 3.52\n",
      "SPORTS: 3.40\n",
      "PERSONALIZATION: 3.32\n",
      "COMMUNICATION: 3.24\n",
      "HEALTH_AND_FITNESS: 3.08\n",
      "PHOTOGRAPHY: 2.95\n",
      "NEWS_AND_MAGAZINES: 2.80\n",
      "SOCIAL: 2.66\n",
      "TRAVEL_AND_LOCAL: 2.34\n",
      "SHOPPING: 2.25\n",
      "BOOKS_AND_REFERENCE: 2.14\n",
      "DATING: 1.86\n",
      "VIDEO_PLAYERS: 1.79\n",
      "MAPS_AND_NAVIGATION: 1.40\n",
      "FOOD_AND_DRINK: 1.24\n",
      "EDUCATION: 1.17\n",
      "ENTERTAINMENT: 0.96\n",
      "LIBRARIES_AND_DEMO: 0.94\n",
      "AUTO_AND_VEHICLES: 0.93\n",
      "HOUSE_AND_HOME: 0.82\n",
      "WEATHER: 0.80\n",
      "EVENTS: 0.71\n",
      "PARENTING: 0.65\n",
      "ART_AND_DESIGN: 0.64\n",
      "COMICS: 0.62\n",
      "BEAUTY: 0.60\n"
     ]
    }
   ],
   "source": [
    "display_table(free_google_apps, google_genre_idx)"
   ]
  },
  {
   "cell_type": "markdown",
   "metadata": {},
   "source": [
    "The most common Google Play genre is FAMILY at 19% with GAME at 10% as a runner up.\n",
    "\n",
    "The category is not as dominated as with Apple Store's genre."
   ]
  },
  {
   "cell_type": "code",
   "execution_count": 16,
   "metadata": {
    "scrolled": false
   },
   "outputs": [
    {
     "name": "stdout",
     "output_type": "stream",
     "text": [
      "Tools: 8.44\n",
      "Entertainment: 6.07\n",
      "Education: 5.35\n",
      "Business: 4.59\n",
      "Productivity: 3.89\n",
      "Lifestyle: 3.89\n",
      "Finance: 3.70\n",
      "Medical: 3.52\n",
      "Sports: 3.46\n",
      "Personalization: 3.32\n",
      "Communication: 3.24\n",
      "Action: 3.10\n",
      "Health & Fitness: 3.08\n",
      "Photography: 2.95\n",
      "News & Magazines: 2.80\n",
      "Social: 2.66\n",
      "Travel & Local: 2.32\n",
      "Shopping: 2.25\n",
      "Books & Reference: 2.14\n",
      "Simulation: 2.04\n",
      "Dating: 1.86\n",
      "Arcade: 1.85\n",
      "Video Players & Editors: 1.77\n",
      "Casual: 1.75\n",
      "Maps & Navigation: 1.40\n",
      "Food & Drink: 1.24\n",
      "Puzzle: 1.13\n",
      "Racing: 0.99\n",
      "Role Playing: 0.94\n",
      "Libraries & Demo: 0.94\n",
      "Auto & Vehicles: 0.93\n",
      "Strategy: 0.91\n",
      "House & Home: 0.82\n",
      "Weather: 0.80\n",
      "Events: 0.71\n",
      "Adventure: 0.68\n",
      "Comics: 0.61\n",
      "Beauty: 0.60\n",
      "Art & Design: 0.60\n",
      "Parenting: 0.50\n",
      "Card: 0.44\n",
      "Casino: 0.43\n",
      "Trivia: 0.42\n",
      "Educational;Education: 0.39\n",
      "Educational: 0.37\n",
      "Board: 0.37\n",
      "Education;Education: 0.34\n",
      "Word: 0.26\n",
      "Casual;Pretend Play: 0.24\n",
      "Music: 0.20\n",
      "Puzzle;Brain Games: 0.18\n",
      "Racing;Action & Adventure: 0.17\n",
      "Entertainment;Music & Video: 0.17\n",
      "Casual;Brain Games: 0.14\n",
      "Casual;Action & Adventure: 0.14\n",
      "Arcade;Action & Adventure: 0.12\n",
      "Action;Action & Adventure: 0.10\n",
      "Educational;Pretend Play: 0.09\n",
      "Board;Brain Games: 0.09\n",
      "Simulation;Action & Adventure: 0.08\n",
      "Parenting;Education: 0.08\n",
      "Entertainment;Brain Games: 0.08\n",
      "Parenting;Music & Video: 0.07\n",
      "Educational;Brain Games: 0.07\n",
      "Casual;Creativity: 0.07\n",
      "Art & Design;Creativity: 0.07\n",
      "Education;Pretend Play: 0.06\n",
      "Role Playing;Pretend Play: 0.05\n",
      "Education;Creativity: 0.05\n",
      "Role Playing;Action & Adventure: 0.03\n",
      "Puzzle;Action & Adventure: 0.03\n",
      "Entertainment;Creativity: 0.03\n",
      "Entertainment;Action & Adventure: 0.03\n",
      "Educational;Creativity: 0.03\n",
      "Educational;Action & Adventure: 0.03\n",
      "Education;Music & Video: 0.03\n",
      "Education;Brain Games: 0.03\n",
      "Education;Action & Adventure: 0.03\n",
      "Adventure;Action & Adventure: 0.03\n",
      "Video Players & Editors;Music & Video: 0.02\n",
      "Sports;Action & Adventure: 0.02\n",
      "Simulation;Pretend Play: 0.02\n",
      "Puzzle;Creativity: 0.02\n",
      "Music;Music & Video: 0.02\n",
      "Entertainment;Pretend Play: 0.02\n",
      "Casual;Education: 0.02\n",
      "Board;Action & Adventure: 0.02\n",
      "Video Players & Editors;Creativity: 0.01\n",
      "Trivia;Education: 0.01\n",
      "Travel & Local;Action & Adventure: 0.01\n",
      "Tools;Education: 0.01\n",
      "Strategy;Education: 0.01\n",
      "Strategy;Creativity: 0.01\n",
      "Strategy;Action & Adventure: 0.01\n",
      "Simulation;Education: 0.01\n",
      "Role Playing;Brain Games: 0.01\n",
      "Racing;Pretend Play: 0.01\n",
      "Puzzle;Education: 0.01\n",
      "Parenting;Brain Games: 0.01\n",
      "Music & Audio;Music & Video: 0.01\n",
      "Lifestyle;Pretend Play: 0.01\n",
      "Lifestyle;Education: 0.01\n",
      "Health & Fitness;Education: 0.01\n",
      "Health & Fitness;Action & Adventure: 0.01\n",
      "Entertainment;Education: 0.01\n",
      "Communication;Creativity: 0.01\n",
      "Comics;Creativity: 0.01\n",
      "Casual;Music & Video: 0.01\n",
      "Card;Brain Games: 0.01\n",
      "Card;Action & Adventure: 0.01\n",
      "Books & Reference;Education: 0.01\n",
      "Art & Design;Pretend Play: 0.01\n",
      "Art & Design;Action & Adventure: 0.01\n",
      "Arcade;Pretend Play: 0.01\n",
      "Adventure;Education: 0.01\n"
     ]
    }
   ],
   "source": [
    "display_table(free_google_apps, google_category_idx)"
   ]
  },
  {
   "cell_type": "markdown",
   "metadata": {},
   "source": [
    "When looking at the category table for Google Play, you can note that practical purposes are more dominant (however not as much as entertainment in the Apple Store).\n",
    "\n",
    "So far, the genres for both stores are not equivalent and an app profile cannot be recommended using the number of applications for a genre."
   ]
  },
  {
   "cell_type": "markdown",
   "metadata": {},
   "source": [
    "### Finding the Genre with the Most Users per App:\n",
    "\n",
    "Since the number of apps per genre is not helpful for capturing the number of users for that genre, we will look at the average number of users per app for each genre."
   ]
  },
  {
   "cell_type": "code",
   "execution_count": 17,
   "metadata": {},
   "outputs": [],
   "source": [
    "users_idx = 5\n",
    "\n",
    "def avg_users(dataset, genre_index, users_index, google=False):\n",
    "    user_count = {}\n",
    "    app_frequency = {}\n",
    "    \n",
    "    for row in dataset:\n",
    "        genre = row[genre_index]\n",
    "        if google:\n",
    "            users = int(row[users_index].replace(',','').replace('+',''))\n",
    "        else:\n",
    "            users = int(row[users_index])\n",
    "            \n",
    "        if genre in user_count:\n",
    "            user_count[genre] += users\n",
    "            app_frequency[genre] += 1\n",
    "        else:\n",
    "            user_count[genre] = users\n",
    "            app_frequency[genre] = 1\n",
    "    \n",
    "    average_users = {}\n",
    "    for key in user_count:\n",
    "        percentage = (user_count[key] / app_frequency[key]) * 100\n",
    "        average_users[key] = percentage \n",
    "    \n",
    "    return average_users \n",
    "\n",
    "def display_table_avg_users(dataset, genre_index, users_index, google=False):\n",
    "    table = avg_users(dataset, genre_index, users_index, google)\n",
    "    table_display = []\n",
    "    for key in table:\n",
    "        key_val_as_tuple = (table[key], key)\n",
    "        table_display.append(key_val_as_tuple)\n",
    "\n",
    "    table_sorted = sorted(table_display, reverse = True)\n",
    "    for entry in table_sorted:\n",
    "        print(entry[1]+': '+'{:.0f}'.format(entry[0]))"
   ]
  },
  {
   "cell_type": "code",
   "execution_count": 18,
   "metadata": {},
   "outputs": [
    {
     "name": "stdout",
     "output_type": "stream",
     "text": [
      "Navigation: 8609033\n",
      "Reference: 7494211\n",
      "Social Networking: 7154835\n",
      "Music: 5732653\n",
      "Weather: 5227989\n",
      "Book: 3975850\n",
      "Food & Drink: 3333392\n",
      "Finance: 3146794\n",
      "Photo & Video: 2844154\n",
      "Travel: 2824380\n",
      "Shopping: 2691969\n",
      "Health & Fitness: 2329802\n",
      "Sports: 2300890\n",
      "Games: 2278867\n",
      "News: 2124802\n",
      "Productivity: 2102841\n",
      "Utilities: 1868446\n",
      "Lifestyle: 1648576\n",
      "Entertainment: 1402983\n",
      "Business: 749112\n",
      "Education: 700398\n",
      "Catalogs: 400400\n",
      "Medical: 61200\n"
     ]
    }
   ],
   "source": [
    "display_table_avg_users(free_apple_apps, apple_genre_idx, users_idx)"
   ]
  },
  {
   "cell_type": "code",
   "execution_count": 19,
   "metadata": {},
   "outputs": [
    {
     "name": "stdout",
     "output_type": "stream",
     "text": [
      "Communication: 3845611917\n",
      "Adventure;Action & Adventure: 3533333333\n",
      "Video Players & Editors: 2494733580\n",
      "Social: 2325365213\n",
      "Arcade: 2288836549\n",
      "Casual: 1963095852\n",
      "Puzzle;Action & Adventure: 1836666667\n",
      "Photography: 1780562764\n",
      "Educational;Action & Adventure: 1701666667\n",
      "Productivity: 1678733134\n",
      "Racing: 1591064568\n",
      "Travel & Local: 1405147615\n",
      "Casual;Action & Adventure: 1291666667\n",
      "Action: 1260358887\n",
      "Strategy: 1119990253\n",
      "Tools: 1068321320\n",
      "Tools;Education: 1000000000\n",
      "Role Playing;Brain Games: 1000000000\n",
      "Lifestyle;Pretend Play: 1000000000\n",
      "Casual;Music & Video: 1000000000\n",
      "Card;Action & Adventure: 1000000000\n",
      "Adventure;Education: 1000000000\n",
      "News & Magazines: 954917847\n",
      "Music: 944558333\n",
      "Educational;Pretend Play: 937500000\n",
      "Word: 909445870\n",
      "Puzzle;Brain Games: 901312500\n",
      "Racing;Action & Adventure: 881666667\n",
      "Books & Reference: 876781189\n",
      "Puzzle: 830286191\n",
      "Video Players & Editors;Music & Video: 750000000\n",
      "Shopping: 703687731\n",
      "Role Playing;Action & Adventure: 700000000\n",
      "Casual;Pretend Play: 695714286\n",
      "Entertainment;Music & Video: 641333333\n",
      "Action;Action & Adventure: 588888889\n",
      "Entertainment: 560279278\n",
      "Education;Brain Games: 533333333\n",
      "Casual;Creativity: 533333333\n",
      "Role Playing;Pretend Play: 527500000\n",
      "Personalization: 520148261\n",
      "Weather: 507448620\n",
      "Sports;Action & Adventure: 505000000\n",
      "Music;Music & Video: 505000000\n",
      "Video Players & Editors;Creativity: 500000000\n",
      "Adventure: 492278533\n",
      "Simulation;Action & Adventure: 485714286\n",
      "Education;Education: 475951700\n",
      "Sports: 459684262\n",
      "Educational;Brain Games: 443333333\n",
      "Health & Fitness: 418882199\n",
      "Maps & Navigation: 405694177\n",
      "Entertainment;Creativity: 400000000\n",
      "Role Playing: 396564542\n",
      "Card: 365688462\n",
      "Trivia: 347571270\n",
      "Simulation: 347548409\n",
      "Casino: 342791053\n",
      "Board: 338827606\n",
      "Entertainment;Brain Games: 331428571\n",
      "Arcade;Action & Adventure: 319090918\n",
      "Entertainment;Pretend Play: 300000000\n",
      "Board;Action & Adventure: 300000000\n",
      "Education;Creativity: 287500000\n",
      "Entertainment;Action & Adventure: 233333333\n",
      "Educational;Creativity: 233333333\n",
      "Art & Design: 212285094\n",
      "Education;Music & Video: 203333333\n",
      "Food & Drink: 192489774\n",
      "Education;Pretend Play: 180000000\n",
      "Educational;Education: 173714314\n",
      "Business: 171229015\n",
      "Casual;Brain Games: 142591667\n",
      "Lifestyle: 141299834\n",
      "Finance: 138769248\n",
      "House & Home: 133154056\n",
      "Parenting;Music & Video: 111833333\n",
      "Strategy;Creativity: 100000000\n",
      "Strategy;Action & Adventure: 100000000\n",
      "Racing;Pretend Play: 100000000\n",
      "Parenting;Brain Games: 100000000\n",
      "Health & Fitness;Action & Adventure: 100000000\n",
      "Entertainment;Education: 100000000\n",
      "Education;Action & Adventure: 100000000\n",
      "Casual;Education: 100000000\n",
      "Arcade;Pretend Play: 100000000\n",
      "Board;Brain Games: 98125000\n",
      "Dating: 85402883\n",
      "Comics: 83187315\n",
      "Puzzle;Creativity: 75000000\n",
      "Auto & Vehicles: 64731782\n",
      "Libraries & Demo: 63850373\n",
      "Simulation;Pretend Play: 55000000\n",
      "Education: 54069177\n",
      "Beauty: 51315189\n",
      "Strategy;Education: 50000000\n",
      "Music & Audio;Music & Video: 50000000\n",
      "Communication;Creativity: 50000000\n",
      "Art & Design;Pretend Play: 50000000\n",
      "Parenting: 46797750\n",
      "Parenting;Education: 45285714\n",
      "Educational: 41118485\n",
      "Art & Design;Creativity: 28500000\n",
      "Events: 25354222\n",
      "Medical: 12061649\n",
      "Travel & Local;Action & Adventure: 10000000\n",
      "Puzzle;Education: 10000000\n",
      "Lifestyle;Education: 10000000\n",
      "Health & Fitness;Education: 10000000\n",
      "Card;Brain Games: 10000000\n",
      "Art & Design;Action & Adventure: 10000000\n",
      "Comics;Creativity: 5000000\n",
      "Books & Reference;Education: 100000\n",
      "Simulation;Education: 50000\n",
      "Trivia;Education: 10000\n"
     ]
    }
   ],
   "source": [
    "display_table_avg_users(free_google_apps, google_category_idx, users_idx, google=True)"
   ]
  },
  {
   "cell_type": "code",
   "execution_count": 20,
   "metadata": {},
   "outputs": [
    {
     "name": "stdout",
     "output_type": "stream",
     "text": [
      "COMMUNICATION: 3845611917\n",
      "VIDEO_PLAYERS: 2472787245\n",
      "SOCIAL: 2325365213\n",
      "PHOTOGRAPHY: 1780562764\n",
      "PRODUCTIVITY: 1678733134\n",
      "GAME: 1556096560\n",
      "TRAVEL_AND_LOCAL: 1398407771\n",
      "ENTERTAINMENT: 1164070588\n",
      "TOOLS: 1068230103\n",
      "NEWS_AND_MAGAZINES: 954917847\n",
      "BOOKS_AND_REFERENCE: 876781189\n",
      "SHOPPING: 703687731\n",
      "PERSONALIZATION: 520148261\n",
      "WEATHER: 507448620\n",
      "HEALTH_AND_FITNESS: 418882199\n",
      "MAPS_AND_NAVIGATION: 405694177\n",
      "FAMILY: 369427633\n",
      "SPORTS: 363864014\n",
      "ART_AND_DESIGN: 198633509\n",
      "FOOD_AND_DRINK: 192489774\n",
      "EDUCATION: 182067308\n",
      "BUSINESS: 171229015\n",
      "LIFESTYLE: 143781627\n",
      "FINANCE: 138769248\n",
      "HOUSE_AND_HOME: 133154056\n",
      "DATING: 85402883\n",
      "COMICS: 81765727\n",
      "AUTO_AND_VEHICLES: 64731782\n",
      "LIBRARIES_AND_DEMO: 63850373\n",
      "PARENTING: 54260362\n",
      "BEAUTY: 51315189\n",
      "EVENTS: 25354222\n",
      "MEDICAL: 12061649\n"
     ]
    }
   ],
   "source": [
    "display_table_avg_users(free_google_apps, google_genre_idx, users_idx, google=True)"
   ]
  },
  {
   "cell_type": "markdown",
   "metadata": {},
   "source": [
    "It seems that social applications in general have the highest number of users on each store. However, in context there may be skewed data due to massive downloads for the most popular social apps. A more in-depth look at the distributions within a category would indicate which genres from the top ones above would have an easier time breaking into."
   ]
  },
  {
   "cell_type": "markdown",
   "metadata": {},
   "source": [
    "### Looking at Favored Genres\n",
    "\n",
    "Since a possibility is also making revenue via in-app purchases and subscriptions, seeing which genres in general are most liked by users is also an open avenue for exploration."
   ]
  },
  {
   "cell_type": "code",
   "execution_count": 21,
   "metadata": {},
   "outputs": [],
   "source": [
    "apple_rating_idx = 7\n",
    "google_rating_idx = 2\n",
    "\n",
    "def avg_rating_per_genre(dataset, genre_index, rating_index):\n",
    "    rating_count = {}\n",
    "    app_frequency = {}\n",
    "    \n",
    "    for row in dataset:\n",
    "        genre = row[genre_index]\n",
    "        ratings = float(row[rating_index])\n",
    "            \n",
    "        if genre in rating_count:\n",
    "            rating_count[genre] += ratings\n",
    "            app_frequency[genre] += 1\n",
    "        else:\n",
    "            rating_count[genre] = ratings\n",
    "            app_frequency[genre] = 1\n",
    "            \n",
    "    average_ratings = {}\n",
    "    for key in rating_count:\n",
    "        percentage = rating_count[key] / app_frequency[key]\n",
    "        average_ratings[key] = percentage \n",
    "    \n",
    "    return average_ratings \n",
    "\n",
    "def display_table_avg_ratings(dataset, genre_index, users_index):\n",
    "    table = avg_rating_per_genre(dataset, genre_index, users_index)\n",
    "    table_display = []\n",
    "    for key in table:\n",
    "        key_val_as_tuple = (table[key], key)\n",
    "        table_display.append(key_val_as_tuple)\n",
    "\n",
    "    table_sorted = sorted(table_display, reverse = True)\n",
    "    for entry in table_sorted:\n",
    "        print(entry[1]+': '+'{:.2f}'.format(entry[0]))"
   ]
  },
  {
   "cell_type": "code",
   "execution_count": 22,
   "metadata": {},
   "outputs": [
    {
     "name": "stdout",
     "output_type": "stream",
     "text": [
      "Catalogs: 4.12\n",
      "Games: 4.04\n",
      "Productivity: 4.00\n",
      "Business: 3.97\n",
      "Shopping: 3.97\n",
      "Music: 3.95\n",
      "Photo & Video: 3.90\n",
      "Navigation: 3.83\n",
      "Health & Fitness: 3.77\n",
      "Reference: 3.67\n",
      "Education: 3.64\n",
      "Food & Drink: 3.63\n",
      "Social Networking: 3.59\n",
      "Entertainment: 3.54\n",
      "Utilities: 3.53\n",
      "Travel: 3.49\n",
      "Weather: 3.48\n",
      "Lifestyle: 3.41\n",
      "Finance: 3.38\n",
      "News: 3.24\n",
      "Book: 3.07\n",
      "Sports: 3.07\n",
      "Medical: 3.00\n"
     ]
    }
   ],
   "source": [
    "display_table_avg_ratings(free_apple_apps, apple_genre_idx, apple_rating_idx)"
   ]
  },
  {
   "cell_type": "markdown",
   "metadata": {},
   "source": [
    "Some free Google apps do not have ratings, so those will have to be cleaned out prior to analysis."
   ]
  },
  {
   "cell_type": "code",
   "execution_count": 23,
   "metadata": {},
   "outputs": [
    {
     "name": "stdout",
     "output_type": "stream",
     "text": [
      "7564\n"
     ]
    }
   ],
   "source": [
    "free_cleaned_google_apps = []\n",
    "\n",
    "for app in free_google_apps:\n",
    "    if app[google_rating_idx] == 'NaN':\n",
    "        continue\n",
    "    else:\n",
    "        free_cleaned_google_apps.append(app)\n",
    "\n",
    "print(len(free_cleaned_google_apps))  # The remaining apps cleaned"
   ]
  },
  {
   "cell_type": "code",
   "execution_count": 24,
   "metadata": {},
   "outputs": [
    {
     "name": "stdout",
     "output_type": "stream",
     "text": [
      "EVENTS: 4.44\n",
      "BOOKS_AND_REFERENCE: 4.35\n",
      "EDUCATION: 4.34\n",
      "PARENTING: 4.34\n",
      "ART_AND_DESIGN: 4.34\n",
      "PERSONALIZATION: 4.30\n",
      "BEAUTY: 4.28\n",
      "SOCIAL: 4.25\n",
      "HEALTH_AND_FITNESS: 4.24\n",
      "GAME: 4.23\n",
      "WEATHER: 4.23\n",
      "SHOPPING: 4.23\n",
      "SPORTS: 4.21\n",
      "AUTO_AND_VEHICLES: 4.18\n",
      "PRODUCTIVITY: 4.18\n",
      "LIBRARIES_AND_DEMO: 4.18\n",
      "COMICS: 4.18\n",
      "FAMILY: 4.17\n",
      "FOOD_AND_DRINK: 4.17\n",
      "PHOTOGRAPHY: 4.17\n",
      "MEDICAL: 4.15\n",
      "HOUSE_AND_HOME: 4.14\n",
      "FINANCE: 4.13\n",
      "COMMUNICATION: 4.13\n",
      "ENTERTAINMENT: 4.12\n",
      "NEWS_AND_MAGAZINES: 4.10\n",
      "BUSINESS: 4.10\n",
      "LIFESTYLE: 4.08\n",
      "TRAVEL_AND_LOCAL: 4.07\n",
      "VIDEO_PLAYERS: 4.04\n",
      "MAPS_AND_NAVIGATION: 4.04\n",
      "TOOLS: 4.03\n",
      "DATING: 3.98\n"
     ]
    }
   ],
   "source": [
    "display_table_avg_ratings(free_cleaned_google_apps, google_genre_idx, google_rating_idx)"
   ]
  },
  {
   "cell_type": "markdown",
   "metadata": {},
   "source": [
    "Looking at the top ten of both sets, it seems that games seem to have the highest ratings between both stores. Since it is common to have free games that have in-app purchases, it seems that as long as the game is able to break into a niche and have a good UX and UI then it could make a lot of money both with advertisement revenue and in-app purchases or subscriptions to remove those advertisements.\n",
    "\n",
    "## Conclusion\n",
    "\n",
    "While certain genres in either store show as promising for development, further analysis is needed to determine the statistical distribution in those genres. Likewise, comparing that analysis to further rating analysis can lead to a more targeted recommendation for which to begin planning and development of an application in that particular space."
   ]
  }
 ],
 "metadata": {
  "kernelspec": {
   "display_name": "Python 3 (ipykernel)",
   "language": "python",
   "name": "python3"
  },
  "language_info": {
   "codemirror_mode": {
    "name": "ipython",
    "version": 3
   },
   "file_extension": ".py",
   "mimetype": "text/x-python",
   "name": "python",
   "nbconvert_exporter": "python",
   "pygments_lexer": "ipython3",
   "version": "3.10.0"
  }
 },
 "nbformat": 4,
 "nbformat_minor": 2
}
